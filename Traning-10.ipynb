{
 "cells": [
  {
   "cell_type": "markdown",
   "metadata": {},
   "source": [
    "Numpy"
   ]
  },
  {
   "cell_type": "code",
   "execution_count": 7,
   "metadata": {},
   "outputs": [
    {
     "name": "stdout",
     "output_type": "stream",
     "text": [
      "[91 67 80 16 75 41 20 64 16 30 80 14 62 31 36 82 24 89 72 52 18 13 77 31\n",
      " 17 26 55 85 40 35 15 30 16 16 47 22 78 22 34 38 40 80 54 29 67 84 77 61\n",
      " 80 38 61 15 12 35 70 68 31 34 81 61 25 46 51 75  9 49 80 65 14 56 29 71\n",
      " 75 57 58 16 42 76 25 16 49 59 23 75 90 72 55 48 49 39 54 51  9 81 93 58\n",
      " 44 32 73 54 88 19 96 89 74 90 77 46 23 41 53 14 42 32 41 69 30 96 51 81\n",
      " 13 96 75 87 51 31 46 79 55 81 31 35 82 54 24 25 43 51 42 77 57 78 48 62\n",
      " 70 30 79 27 66 49 92 85 95 40 74 16 29 77 95 95 78 10 80 61 60 46 44 44\n",
      " 27 50 79 89 81 22 56 25 80 14 10 49 32 19 86 82 53 44 18 11 69 40 46 14\n",
      " 51 49 31 16 89 91 13 58]\n"
     ]
    }
   ],
   "source": [
    "import numpy as np\n",
    "e = np.random.randint(9,99,size = 200)\n",
    "print(e)"
   ]
  },
  {
   "cell_type": "markdown",
   "metadata": {},
   "source": [
    "Matplotlib"
   ]
  },
  {
   "cell_type": "code",
   "execution_count": 9,
   "metadata": {},
   "outputs": [],
   "source": [
    "import matplotlib.pyplot as plt\n",
    "%matplotlib inline"
   ]
  },
  {
   "cell_type": "code",
   "execution_count": null,
   "metadata": {},
   "outputs": [],
   "source": []
  }
 ],
 "metadata": {
  "kernelspec": {
   "display_name": "Python 3",
   "language": "python",
   "name": "python3"
  },
  "language_info": {
   "codemirror_mode": {
    "name": "ipython",
    "version": 3
   },
   "file_extension": ".py",
   "mimetype": "text/x-python",
   "name": "python",
   "nbconvert_exporter": "python",
   "pygments_lexer": "ipython3",
   "version": "3.7.4"
  }
 },
 "nbformat": 4,
 "nbformat_minor": 2
}
