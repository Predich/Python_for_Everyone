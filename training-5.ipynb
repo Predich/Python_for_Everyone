{
 "cells": [
  {
   "cell_type": "markdown",
   "metadata": {},
   "source": [
    "Condition statement\n",
    "    #if\n",
    "    #format"
   ]
  },
  {
   "cell_type": "code",
   "execution_count": 6,
   "metadata": {},
   "outputs": [
    {
     "name": "stdout",
     "output_type": "stream",
     "text": [
      "Thats right\n"
     ]
    }
   ],
   "source": [
    "word = \"Hello world\"\n",
    "sub = \"H\"\n",
    "\n",
    "if sub in word:\n",
    "    print(\"Thats right\")"
   ]
  },
  {
   "cell_type": "markdown",
   "metadata": {},
   "source": [
    "    #if..else\n",
    "    #format"
   ]
  },
  {
   "cell_type": "code",
   "execution_count": 8,
   "metadata": {},
   "outputs": [
    {
     "name": "stdout",
     "output_type": "stream",
     "text": [
      "hello world\n"
     ]
    }
   ],
   "source": [
    "word = \"Hello world\"\n",
    "sub = \"h\"\n",
    "\n",
    "if sub in word:\n",
    "    print(\"Thats right\")\n",
    "else:\n",
    "    word = \"hello world\"\n",
    "print(word)"
   ]
  },
  {
   "cell_type": "code",
   "execution_count": 29,
   "metadata": {},
   "outputs": [
    {
     "name": "stdout",
     "output_type": "stream",
     "text": [
      "Donation\n"
     ]
    }
   ],
   "source": [
    "income  = 200\n",
    "\n",
    "if income < 20000:\n",
    "    print(\"Donation\")\n",
    "elif income >= 20000:\n",
    "    print(\"shopping\")\n",
    "elif income >= 300000:\n",
    "    print(\"Traval us\")\n",
    "elif income > 1000000:\n",
    "    print(\"Start own business\")\n",
    "else:\n",
    "    print('Go home')\n",
    "    "
   ]
  },
  {
   "cell_type": "code",
   "execution_count": 35,
   "metadata": {},
   "outputs": [
    {
     "name": "stdout",
     "output_type": "stream",
     "text": [
      "grade a\n"
     ]
    }
   ],
   "source": [
    "score = 90 \n",
    "if score < 50:\n",
    "    print (\"Your grade is an F\")\n",
    "elif score >= 90:\n",
    "    print (\"grade a\")\n",
    "elif score >= 80:\n",
    "    print (\"grade b\")\n",
    "elif score >= 70:\n",
    "    print (\"grade c\")\n",
    "elif score >= 60:\n",
    "    print (\"grade d\") \n",
    "\n",
    "else:\n",
    "    print (\"wrong score\")"
   ]
  },
  {
   "cell_type": "code",
   "execution_count": 50,
   "metadata": {},
   "outputs": [
    {
     "name": "stdout",
     "output_type": "stream",
     "text": [
      "sleep at home\n"
     ]
    }
   ],
   "source": [
    "temp_today = 35\n",
    "list = [\"go put shopping\", \"stay at home\", \"hangout with friend\", \"sleep at home\"]\n",
    "\n",
    "if temp_today <= 25:\n",
    "    print(list[0])\n",
    "elif temp_today >= 25 and temp_today <30:\n",
    "    print(list[1])\n",
    "elif temp_today >= 30 and temp_today <35:\n",
    "    print(list[2])\n",
    "elif temp_today == 35:\n",
    "    print(list[3])\n",
    "else:\n",
    "    print(\"other\")\n",
    "\n"
   ]
  },
  {
   "cell_type": "code",
   "execution_count": 88,
   "metadata": {},
   "outputs": [
    {
     "data": {
      "text/plain": [
       "{'type': 'Feature Collection',\n",
       " 'feature': [{'type': 'feat',\n",
       "   'id': '111',\n",
       "   'properties': {'name': 'Thailand', 'income': 100000000}}]}"
      ]
     },
     "execution_count": 88,
     "metadata": {},
     "output_type": "execute_result"
    }
   ],
   "source": [
    "gojason = {\"type\": \"Feature Collection\",\n",
    " \"feature\": [\n",
    "     \n",
    "     {\"type\": \"feat\",\n",
    "     \"id\": \"111\",\n",
    "     \"properties\" : {\"name\": \"Thailand\",\"income\": 100000000}\n",
    "      }\n",
    " ]\n",
    "}  \n",
    "\n",
    "gojason"
   ]
  },
  {
   "cell_type": "code",
   "execution_count": 89,
   "metadata": {},
   "outputs": [],
   "source": [
    "item = \"properties\"\n",
    "if item in gojason[\"feature\"]:\n",
    "    print (key)"
   ]
  },
  {
   "cell_type": "markdown",
   "metadata": {},
   "source": [
    "check  the input number is odd or even? is it is odd, print \"odd\", if not print \"even\""
   ]
  },
  {
   "cell_type": "code",
   "execution_count": 60,
   "metadata": {},
   "outputs": [],
   "source": [
    "tmpDict = {'ONE':{'TWO':{'THREE':10}}}"
   ]
  },
  {
   "cell_type": "code",
   "execution_count": 61,
   "metadata": {},
   "outputs": [
    {
     "data": {
      "text/plain": [
       "10"
      ]
     },
     "execution_count": 61,
     "metadata": {},
     "output_type": "execute_result"
    }
   ],
   "source": [
    "tmpDict.get('ONE', {}).get('TWO', {}).get('THREE')"
   ]
  },
  {
   "cell_type": "code",
   "execution_count": 62,
   "metadata": {},
   "outputs": [
    {
     "name": "stdout",
     "output_type": "stream",
     "text": [
      "fruits\n"
     ]
    }
   ],
   "source": [
    "mydict = {'fruits': ['banana', 'apple', 'orange'],\n",
    "     'vegetables': ['pepper', 'carrot'], \n",
    "     'cheese': ['swiss', 'cheddar', 'brie']}\n",
    "\n",
    "item = \"cheddar\"\n",
    "if item in mydict['cheese']:\n",
    "    print (key)"
   ]
  },
  {
   "cell_type": "code",
   "execution_count": 68,
   "metadata": {},
   "outputs": [],
   "source": [
    "json = {\n",
    "  \"data\": {\n",
    "     \"current_condition\": [{\n",
    "        \"cloudcover\": \"0\",\n",
    "        \"humidity\": \"54\",\n",
    "        \"observation_time\": \"08:49 AM\",\n",
    "        \"precipMM\": \"0.0\",\n",
    "        \"pressure\": \"1025\",\n",
    "        \"temp_C\": \"10\",\n",
    "        \"temp_F\": \"50\",\n",
    "        \"visibility\": \"10\",\n",
    "        \"weatherCode\": \"113\",\n",
    "        \"weatherDesc\": [{\n",
    "            \"value\": \"Sunny\"\n",
    "        }],\n",
    "        \"weatherIconUrl\": [{\n",
    "            \"value\": \"http:\\/\\/www.worldweatheronline.com\\/images\\/wsymbols01_png_64\\/wsymbol_0001_sunny.png\"\n",
    "        }],\n",
    "        \"winddir16Point\": \"E\",\n",
    "        \"winddirDegree\": \"100\",\n",
    "        \"windspeedKmph\": \"22\",\n",
    "        \"windspeedMiles\": \"14\"\n",
    "    }]        \n",
    " }\n",
    "}"
   ]
  },
  {
   "cell_type": "code",
   "execution_count": 69,
   "metadata": {},
   "outputs": [
    {
     "data": {
      "text/plain": [
       "{'data': {'current_condition': [{'cloudcover': '0',\n",
       "    'humidity': '54',\n",
       "    'observation_time': '08:49 AM',\n",
       "    'precipMM': '0.0',\n",
       "    'pressure': '1025',\n",
       "    'temp_C': '10',\n",
       "    'temp_F': '50',\n",
       "    'visibility': '10',\n",
       "    'weatherCode': '113',\n",
       "    'weatherDesc': [{'value': 'Sunny'}],\n",
       "    'weatherIconUrl': [{'value': 'http:\\\\/\\\\/www.worldweatheronline.com\\\\/images\\\\/wsymbols01_png_64\\\\/wsymbol_0001_sunny.png'}],\n",
       "    'winddir16Point': 'E',\n",
       "    'winddirDegree': '100',\n",
       "    'windspeedKmph': '22',\n",
       "    'windspeedMiles': '14'}]}}"
      ]
     },
     "execution_count": 69,
     "metadata": {},
     "output_type": "execute_result"
    }
   ],
   "source": [
    "json"
   ]
  },
  {
   "cell_type": "code",
   "execution_count": 91,
   "metadata": {},
   "outputs": [
    {
     "name": "stdout",
     "output_type": "stream",
     "text": [
      "Enter a number: 6\n",
      "6 is Even\n"
     ]
    }
   ],
   "source": [
    "num = int(input(\"Enter a number: \"))\n",
    "if (num % 2) == 0:\n",
    "   print(\"{0} is Even\".format(num))\n",
    "else:\n",
    "   print(\"{0} is Odd\".format(num))"
   ]
  },
  {
   "cell_type": "code",
   "execution_count": 92,
   "metadata": {},
   "outputs": [
    {
     "name": "stdout",
     "output_type": "stream",
     "text": [
      "Enter a number: 5\n",
      "5 is Odd\n"
     ]
    }
   ],
   "source": [
    "num = int(input(\"Enter a number: \"))\n",
    "if (num % 2) == 0:\n",
    "   print(\"{0} is Even\".format(num))\n",
    "else:\n",
    "   print(\"{0} is Odd\".format(num))"
   ]
  },
  {
   "cell_type": "code",
   "execution_count": null,
   "metadata": {},
   "outputs": [],
   "source": []
  }
 ],
 "metadata": {
  "kernelspec": {
   "display_name": "Python 3",
   "language": "python",
   "name": "python3"
  },
  "language_info": {
   "codemirror_mode": {
    "name": "ipython",
    "version": 3
   },
   "file_extension": ".py",
   "mimetype": "text/x-python",
   "name": "python",
   "nbconvert_exporter": "python",
   "pygments_lexer": "ipython3",
   "version": "3.7.4"
  }
 },
 "nbformat": 4,
 "nbformat_minor": 2
}
