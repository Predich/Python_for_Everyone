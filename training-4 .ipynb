{
 "cells": [
  {
   "cell_type": "code",
   "execution_count": null,
   "metadata": {},
   "outputs": [],
   "source": [
    "x = \"preedicha jar\"\n",
    "print (len(x))"
   ]
  },
  {
   "cell_type": "code",
   "execution_count": 11,
   "metadata": {},
   "outputs": [
    {
     "data": {
      "text/plain": [
       "'preedichajar'"
      ]
     },
     "execution_count": 11,
     "metadata": {},
     "output_type": "execute_result"
    }
   ],
   "source": [
    "x.replace(\" \",\"\")"
   ]
  },
  {
   "cell_type": "code",
   "execution_count": 16,
   "metadata": {},
   "outputs": [
    {
     "data": {
      "text/plain": [
       "'Hello'"
      ]
     },
     "execution_count": 16,
     "metadata": {},
     "output_type": "execute_result"
    }
   ],
   "source": [
    "' Hello '.strip()"
   ]
  },
  {
   "cell_type": "code",
   "execution_count": 21,
   "metadata": {},
   "outputs": [],
   "source": [
    "go_to_the_supermarket = [\"milk\", \"peanut\", \"tofu\", \"vegetable\", \"seaweed\"]"
   ]
  },
  {
   "cell_type": "code",
   "execution_count": 22,
   "metadata": {},
   "outputs": [
    {
     "data": {
      "text/plain": [
       "['milk', 'peanut', 'tofu', 'vegetable', 'seaweed', 'egg']"
      ]
     },
     "execution_count": 22,
     "metadata": {},
     "output_type": "execute_result"
    }
   ],
   "source": [
    "go_to_the_supermarket.append(\"egg\")\n",
    "go_to_the_supermarket"
   ]
  },
  {
   "cell_type": "code",
   "execution_count": 23,
   "metadata": {},
   "outputs": [
    {
     "data": {
      "text/plain": [
       "['peanut', 'tofu', 'vegetable', 'seaweed', 'egg']"
      ]
     },
     "execution_count": 23,
     "metadata": {},
     "output_type": "execute_result"
    }
   ],
   "source": [
    "del go_to_the_supermarket[0]\n",
    "go_to_the_supermarket"
   ]
  },
  {
   "cell_type": "code",
   "execution_count": 24,
   "metadata": {},
   "outputs": [],
   "source": [
    "go_to_the_supermarket[2] = \"meat\""
   ]
  },
  {
   "cell_type": "code",
   "execution_count": 25,
   "metadata": {},
   "outputs": [
    {
     "data": {
      "text/plain": [
       "['peanut', 'tofu', 'meat', 'seaweed', 'egg']"
      ]
     },
     "execution_count": 25,
     "metadata": {},
     "output_type": "execute_result"
    }
   ],
   "source": [
    "go_to_the_supermarket"
   ]
  },
  {
   "cell_type": "code",
   "execution_count": 26,
   "metadata": {},
   "outputs": [],
   "source": [
    "go_to_the_supermarket.insert(2, \"water\")"
   ]
  },
  {
   "cell_type": "code",
   "execution_count": 27,
   "metadata": {},
   "outputs": [
    {
     "data": {
      "text/plain": [
       "['peanut', 'tofu', 'water', 'meat', 'seaweed', 'egg']"
      ]
     },
     "execution_count": 27,
     "metadata": {},
     "output_type": "execute_result"
    }
   ],
   "source": [
    "go_to_the_supermarket"
   ]
  },
  {
   "cell_type": "code",
   "execution_count": 48,
   "metadata": {},
   "outputs": [
    {
     "name": "stdout",
     "output_type": "stream",
     "text": [
      "['Sun', 'Fri', 'Wed']\n",
      "['Sun', 'Fri', 'Wed', 'Mon'] ['Tue', 'Wed', 'Thu', 'Fri', 'Sat', 'Sun']\n"
     ]
    }
   ],
   "source": [
    "week = \"Mon Tue Wed Thu Fri Sat Sun\"\n",
    "\n",
    "week1 = list(week.split(\" \"))\n",
    "\n",
    "print(week1[:1:-2])\n",
    "\n",
    "print(week1[::-2] , week1[1::])\n"
   ]
  },
  {
   "cell_type": "markdown",
   "metadata": {},
   "source": [
    "dictionary {}\n",
    "dict contains \"key\" and \"value\"\n",
    "\"key\" must be unique\n",
    "\"value\" can be anything"
   ]
  },
  {
   "cell_type": "code",
   "execution_count": 52,
   "metadata": {},
   "outputs": [
    {
     "data": {
      "text/plain": [
       "{1: 'A', 2: 'B', 3: 'C'}"
      ]
     },
     "execution_count": 52,
     "metadata": {},
     "output_type": "execute_result"
    }
   ],
   "source": [
    "dic = {1:\"A\",\n",
    "    2:\"B\",\n",
    "    3:\"C\"}\n",
    "\n",
    "dic"
   ]
  },
  {
   "cell_type": "code",
   "execution_count": 55,
   "metadata": {},
   "outputs": [
    {
     "data": {
      "text/plain": [
       "'peanut'"
      ]
     },
     "execution_count": 55,
     "metadata": {},
     "output_type": "execute_result"
    }
   ],
   "source": [
    "dic_shop = {\"Yui-san\" : \"milk\",\n",
    "           \"Chairath\" : \"peanut\",\n",
    "           \"Shoji-san\" : \"meat\",\n",
    "           \"Husni-san\" : \"vegetable\",\n",
    "           \"Vk-san\" : \"seaweed\"}\n",
    "\n",
    "dic_shop[\"Chairath\"]"
   ]
  },
  {
   "cell_type": "code",
   "execution_count": 56,
   "metadata": {},
   "outputs": [],
   "source": [
    "# add one element in dict\n",
    "\n",
    "dic_shop[\"Bien-san\"] = \"edd\""
   ]
  },
  {
   "cell_type": "code",
   "execution_count": 57,
   "metadata": {},
   "outputs": [
    {
     "data": {
      "text/plain": [
       "{'Yui-san': 'milk',\n",
       " 'Chairath': 'peanut',\n",
       " 'Shoji-san': 'meat',\n",
       " 'Husni-san': 'vegetable',\n",
       " 'Vk-san': 'seaweed',\n",
       " 'Bien-san': 'edd'}"
      ]
     },
     "execution_count": 57,
     "metadata": {},
     "output_type": "execute_result"
    }
   ],
   "source": [
    "dic_shop"
   ]
  },
  {
   "cell_type": "code",
   "execution_count": 58,
   "metadata": {},
   "outputs": [
    {
     "data": {
      "text/plain": [
       "{'Yui-san': 'milk',\n",
       " 'Shoji-san': 'meat',\n",
       " 'Husni-san': 'vegetable',\n",
       " 'Vk-san': 'seaweed',\n",
       " 'Bien-san': 'edd'}"
      ]
     },
     "execution_count": 58,
     "metadata": {},
     "output_type": "execute_result"
    }
   ],
   "source": [
    "del dic_shop[\"Chairath\"]\n",
    "dic_shop"
   ]
  },
  {
   "cell_type": "code",
   "execution_count": 59,
   "metadata": {},
   "outputs": [],
   "source": [
    "dic_int ={\n",
    "    \"2010\": [2],\n",
    "    \"2009\": [4,7],\n",
    "    \"1989\": [8]\n",
    "}"
   ]
  },
  {
   "cell_type": "code",
   "execution_count": 60,
   "metadata": {},
   "outputs": [
    {
     "data": {
      "text/plain": [
       "{'2010': [2], '2009': [4, 7], '1989': [8]}"
      ]
     },
     "execution_count": 60,
     "metadata": {},
     "output_type": "execute_result"
    }
   ],
   "source": [
    "dic_int"
   ]
  },
  {
   "cell_type": "code",
   "execution_count": 68,
   "metadata": {},
   "outputs": [
    {
     "data": {
      "text/plain": [
       "1"
      ]
     },
     "execution_count": 68,
     "metadata": {},
     "output_type": "execute_result"
    }
   ],
   "source": [
    "dic_day = {\"mon\" : [1,8,16],\n",
    "           \"tue\" : [2,9,17],\n",
    "           \"wed\" : [3,10,18]\n",
    "          }\n",
    "\n",
    "dic_day[\"mon\"][0]\n",
    "           "
   ]
  },
  {
   "cell_type": "code",
   "execution_count": 69,
   "metadata": {},
   "outputs": [],
   "source": [
    "dic_thu = {\"thu\" : [1,3,5,7,[1,2]]}"
   ]
  },
  {
   "cell_type": "code",
   "execution_count": 70,
   "metadata": {},
   "outputs": [
    {
     "data": {
      "text/plain": [
       "[1, 2]"
      ]
     },
     "execution_count": 70,
     "metadata": {},
     "output_type": "execute_result"
    }
   ],
   "source": [
    "dic_thu[\"thu\"][4]"
   ]
  },
  {
   "cell_type": "code",
   "execution_count": 73,
   "metadata": {},
   "outputs": [
    {
     "data": {
      "text/plain": [
       "2"
      ]
     },
     "execution_count": 73,
     "metadata": {},
     "output_type": "execute_result"
    }
   ],
   "source": [
    "dic_thu[\"thu\"][4][1]"
   ]
  },
  {
   "cell_type": "code",
   "execution_count": 11,
   "metadata": {},
   "outputs": [
    {
     "name": "stdout",
     "output_type": "stream",
     "text": [
      "{410374: ['Nopparat', 100000], 620860: ['Chairath', 20000], 620845: ['Cheewin', 70000]}\n",
      "-------------------\n",
      "['Nopparat', 100000]\n"
     ]
    },
    {
     "data": {
      "text/plain": [
       "dict_keys([410374, 620860, 620845])"
      ]
     },
     "execution_count": 11,
     "metadata": {},
     "output_type": "execute_result"
    }
   ],
   "source": [
    "emp_sal = {410374 : [\"Nopparat\", 100000],\n",
    "          620860 : [\"Chairath\", 20000],\n",
    "          620845 : [\"Cheewin\", 70000]}\n",
    "perc = 0.1\n",
    "\n",
    "print(emp_sal)\n",
    "print(\"-------------------\")\n",
    "print(emp_sal[410374][0:2])\n",
    "emp_sal.keys()\n"
   ]
  },
  {
   "cell_type": "code",
   "execution_count": 23,
   "metadata": {},
   "outputs": [
    {
     "name": "stdout",
     "output_type": "stream",
     "text": [
      "Key : 410374 , Value : ['Nopparat', 100000]\n",
      "Key : 620860 , Value : ['Chairath', 20000]\n",
      "Key : 620845 , Value : ['Cheewin', 70000]\n"
     ]
    }
   ],
   "source": [
    "for item in emp_sal:\n",
    "    print(\"Key : {} , Value : {}\".format(item,emp_sal[item]))"
   ]
  },
  {
   "cell_type": "code",
   "execution_count": 29,
   "metadata": {},
   "outputs": [
    {
     "name": "stdout",
     "output_type": "stream",
     "text": [
      "Key : one , Value : 1\n",
      "Key : two , Value : 2\n",
      "Key : three , Value : 3\n",
      "Key : four , Value : 4\n"
     ]
    }
   ],
   "source": [
    "my_dict = {\"one\": 1,\"two\":2,\"three\":3,\"four\":4}\n",
    "\n",
    "for item in my_dict:\n",
    "    print(\"Key : {} , Value : {}\".format(item,my_dict[item]))"
   ]
  },
  {
   "cell_type": "code",
   "execution_count": 33,
   "metadata": {},
   "outputs": [
    {
     "name": "stdout",
     "output_type": "stream",
     "text": [
      "{'iphone': 2007, 'iphone 3G': 2008, 'iphone 3GS': 2009, 'iphone 4': 2010, 'iphone 4S': 2011, 'iphone 5': 2012}\n"
     ]
    }
   ],
   "source": [
    "released = {\"iphone\" : 2007,\n",
    "        \"iphone 3G\" : 2008,\n",
    "        \"iphone 3GS\" : 2009,\n",
    "        \"iphone 4\" : 2010,\n",
    "        \"iphone 4S\" : 2011,\n",
    "        \"iphone 5\" : 2012}\n",
    "\n",
    "print(released)"
   ]
  },
  {
   "cell_type": "code",
   "execution_count": 35,
   "metadata": {},
   "outputs": [
    {
     "name": "stdout",
     "output_type": "stream",
     "text": [
      "2008\n"
     ]
    }
   ],
   "source": [
    "print (released.get(\"iphone 3G\", \"none\"))"
   ]
  },
  {
   "cell_type": "code",
   "execution_count": 48,
   "metadata": {},
   "outputs": [],
   "source": [
    "fruit = {\n",
    "    \"banana\": 1.00,\n",
    "    \"apple\": 1.53,\n",
    "    \"kiwi\": 2.00,\n",
    "    \"avocado\": 3.23,\n",
    "    \"mango\": 2.33,\n",
    "    \"pineapple\": 1.44,\n",
    "    \"strawberries\": 1.95,\n",
    "    \"melon\": 2.34,\n",
    "    \"grapes\": 0.98\n",
    "}"
   ]
  },
  {
   "cell_type": "code",
   "execution_count": 49,
   "metadata": {},
   "outputs": [
    {
     "name": "stdout",
     "output_type": "stream",
     "text": [
      "2.0\n"
     ]
    }
   ],
   "source": [
    "print(fruit['kiwi'])\n"
   ]
  },
  {
   "cell_type": "code",
   "execution_count": 52,
   "metadata": {},
   "outputs": [
    {
     "name": "stdout",
     "output_type": "stream",
     "text": [
      "kiwi 2.0 200.0\n"
     ]
    }
   ],
   "source": [
    "for k, v in fruit.items():\n",
    "    if k == 'kiwi':\n",
    "        print(k,v, v*100)"
   ]
  },
  {
   "cell_type": "markdown",
   "metadata": {},
   "source": [
    "สร้าง Dict สำหรับเก็บข้อมูลพนักงาน โดยมี ID, Name, และ Salary เป็น Key รายละเอียดพนักงานมีดังนี้\n",
    "\n",
    "410374, Nopparat, 100000\n",
    "620860, Chairath, 20000\n",
    "620845, Cheewin, 70000\n",
    "\n",
    "หลังจากสร้าง Dict เรียบร้อย เลือกมา 1 คน ให้หาค่า 10% ของเงินเดือน\n",
    "โดย print ID, Name, และ 10% ของ เงินเดือน"
   ]
  },
  {
   "cell_type": "code",
   "execution_count": 53,
   "metadata": {},
   "outputs": [],
   "source": [
    "emp_sal = {410374 : [\"Nopparat\", 100000],\n",
    "          620860 : [\"Chairath\", 20000],\n",
    "          620845 : [\"Cheewin\", 70000]}\n",
    "perc = 0.1"
   ]
  },
  {
   "cell_type": "code",
   "execution_count": 62,
   "metadata": {},
   "outputs": [
    {
     "name": "stdout",
     "output_type": "stream",
     "text": [
      "ID: 410374 Name Nopparat 10% of Sal 10000.0\n"
     ]
    }
   ],
   "source": [
    "for k, v in emp_sal.items():\n",
    "    if  k == 410374 :\n",
    "        print(\"ID:\",k ,\"Name\", v[0], \"10% of Sal\",v[1]*perc)"
   ]
  },
  {
   "cell_type": "code",
   "execution_count": 1,
   "metadata": {},
   "outputs": [],
   "source": [
    "# declare variable and assign value\n",
    "emp_sal = {410374 : [\"Nopparat\", 100000],\n",
    "         620860 : [\"Chairath\", 20000],\n",
    "         620845 : [\"Cheewin\", 70000]}\n",
    "perc = 0.1"
   ]
  },
  {
   "cell_type": "code",
   "execution_count": 6,
   "metadata": {},
   "outputs": [
    {
     "name": "stdout",
     "output_type": "stream",
     "text": [
      "ID: 410374 Name Nopparat 10% of Sal 10000.0\n",
      "ID: 410374 Name: Nopparat 10000.0\n"
     ]
    }
   ],
   "source": [
    "# for loop\n",
    "for k, v in emp_sal.items():\n",
    "   if k == 410374 :\n",
    "       print(\"ID:\",k ,\"Name\", v[0], \"10% of Sal\",v[1]*perc)\n",
    "\n",
    "\n",
    "print(\"ID:\", [key for key in emp_sal.keys()][0], \"Name:\", emp_sal[410374][0], emp_sal[410374][1] * perc)"
   ]
  },
  {
   "cell_type": "code",
   "execution_count": 7,
   "metadata": {},
   "outputs": [
    {
     "name": "stdout",
     "output_type": "stream",
     "text": [
      "dict_keys([410374, 620860, 620845])\n"
     ]
    }
   ],
   "source": [
    "import pprint\n",
    "pprint.pprint(emp_sal.keys())"
   ]
  },
  {
   "cell_type": "code",
   "execution_count": 8,
   "metadata": {},
   "outputs": [
    {
     "data": {
      "text/plain": [
       "dict_keys([410374, 620860, 620845])"
      ]
     },
     "execution_count": 8,
     "metadata": {},
     "output_type": "execute_result"
    }
   ],
   "source": [
    "emp_sal.keys()"
   ]
  },
  {
   "cell_type": "code",
   "execution_count": 9,
   "metadata": {},
   "outputs": [
    {
     "name": "stdout",
     "output_type": "stream",
     "text": [
      "{410374: [410374, 'Nopparat', 100000], 620860: [620860, 'Chairath', 20000], 620845: [620845, 'Cheewin', 70000], 212121: [212121, 'Pattama', 100001]}\n"
     ]
    }
   ],
   "source": [
    "mydic = {410374 : [410374, \"Nopparat\", 100000],\n",
    "         620860 : [620860, \"Chairath\", 20000],\n",
    "         620845 : [620845, \"Cheewin\", 70000],\n",
    "         212121 : [212121, \"Pattama\", 100001]\n",
    "         }\n",
    "perc = 0.1\n",
    "print(mydic)"
   ]
  },
  {
   "cell_type": "code",
   "execution_count": 10,
   "metadata": {},
   "outputs": [
    {
     "name": "stdout",
     "output_type": "stream",
     "text": [
      "ID: 212121 Name: Pattama 10% of Salary: 10000.1\n"
     ]
    }
   ],
   "source": [
    "print(\"ID:\", mydic[212121][0], \"Name:\",mydic[212121][1], \"10% of Salary:\", mydic[212121][2] * perc )"
   ]
  },
  {
   "cell_type": "markdown",
   "metadata": {},
   "source": [
    "GOJASON"
   ]
  },
  {
   "cell_type": "code",
   "execution_count": 18,
   "metadata": {},
   "outputs": [],
   "source": [
    "gojason = {\"type\": \"Feature Collection\",\n",
    " \"feature\": [\n",
    "     {\"type\": \"feature\",\n",
    "     \"id\": \"111\",\n",
    "     \"properties\" : {\n",
    "         \"name\": \"Thailand\",\n",
    "         \"income\": 100000000\n",
    "     }\n",
    "    }\n",
    " ]\n",
    "}    \n"
   ]
  },
  {
   "cell_type": "code",
   "execution_count": 19,
   "metadata": {},
   "outputs": [
    {
     "name": "stdout",
     "output_type": "stream",
     "text": [
      "{'type': 'Feature Collection', 'feature': [{'type': 'feature', 'id': '111', 'properties': {'name': 'Thailand', 'income': 100000000}}]}\n"
     ]
    }
   ],
   "source": [
    "print(gojason)"
   ]
  },
  {
   "cell_type": "code",
   "execution_count": null,
   "metadata": {},
   "outputs": [],
   "source": []
  }
 ],
 "metadata": {
  "kernelspec": {
   "display_name": "Python 3",
   "language": "python",
   "name": "python3"
  },
  "language_info": {
   "codemirror_mode": {
    "name": "ipython",
    "version": 3
   },
   "file_extension": ".py",
   "mimetype": "text/x-python",
   "name": "python",
   "nbconvert_exporter": "python",
   "pygments_lexer": "ipython3",
   "version": "3.7.4"
  }
 },
 "nbformat": 4,
 "nbformat_minor": 2
}
