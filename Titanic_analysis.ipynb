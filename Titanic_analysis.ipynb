{
 "cells": [
  {
   "cell_type": "markdown",
   "metadata": {},
   "source": [
    "# Assignment 1 : Who will survived ?\n",
    "\n",
    "**My goals for this notebook:**\n",
    "\n",
    "* **[Part 1: Exploratory Data Analysis]**  \n",
    "understand the data by EDA and derive simple models with Pandas as baseline\n",
    "\n",
    "\n",
    "* **[Part 2: Data wrangling]**  \n",
    "fill nan, convert categorical to numerical,  \n",
    "create train and test data for ML algorithms\n",
    "\n",
    "* **[Part 3: Scikit-learn basic ML algorithms](**  \n",
    "implement different Classifiers from the sklearn library:  \n",
    "[Logistic regression], [Gaussian naive Bayes], [KNN], [Decision tree], [Random forest], [SVM]\n",
    "\n",
    "\n",
    "* **[Part 3: Comparison of Model  results]**  \n",
    "use metrics like confusion_matrix, classification_report, accuracy_score  \n",
    "and implement k fold cross validation for comparison of test score"
   ]
  },
  {
   "cell_type": "markdown",
   "metadata": {},
   "source": [
    "**Imports**"
   ]
  },
  {
   "cell_type": "code",
   "execution_count": 1,
   "metadata": {},
   "outputs": [],
   "source": [
    "import numpy as np\n",
    "import pandas as pd\n",
    "import matplotlib.pyplot as plt\n",
    "import seaborn as sns"
   ]
  },
  {
   "cell_type": "code",
   "execution_count": 2,
   "metadata": {},
   "outputs": [],
   "source": [
    "df_train = pd.read_csv(\"../data set/titanic/train.csv\")\n",
    "df_test = pd.read_csv(\"../data set/titanic/test.csv\")"
   ]
  },
  {
   "cell_type": "markdown",
   "metadata": {},
   "source": [
    "## Part 1: Exploratory Data Analysis\n",
    "\n",
    "survival  = Survival (0 = No, 1 = Yes)\n",
    "\n",
    "pclass    = Ticket class (1 = 1st, 2 = 2nd, 3 = 3rd)\n",
    "\n",
    "sex       = Sex\t\n",
    "\n",
    "Age       = Age in years\t\n",
    "\n",
    "sibsp\t  = # of siblings / spouses aboard the Titanic\t\n",
    "\n",
    "parch\t  = # of parents / children aboard the Titanic\t\n",
    "\n",
    "ticket\t  = Ticket number\t\n",
    "\n",
    "fare\t  = Passenger fare\t\n",
    "\n",
    "cabin\t  = Cabin number\t\n",
    "\n",
    "embarked  = Port of Embarkation (C = Cherbourg, Q = Queenstown, S = Southampton)"
   ]
  },
  {
   "cell_type": "code",
   "execution_count": 3,
   "metadata": {},
   "outputs": [
    {
     "data": {
      "text/html": [
       "<div>\n",
       "<style scoped>\n",
       "    .dataframe tbody tr th:only-of-type {\n",
       "        vertical-align: middle;\n",
       "    }\n",
       "\n",
       "    .dataframe tbody tr th {\n",
       "        vertical-align: top;\n",
       "    }\n",
       "\n",
       "    .dataframe thead th {\n",
       "        text-align: right;\n",
       "    }\n",
       "</style>\n",
       "<table border=\"1\" class=\"dataframe\">\n",
       "  <thead>\n",
       "    <tr style=\"text-align: right;\">\n",
       "      <th></th>\n",
       "      <th>PassengerId</th>\n",
       "      <th>Survived</th>\n",
       "      <th>Pclass</th>\n",
       "      <th>Name</th>\n",
       "      <th>Sex</th>\n",
       "      <th>Age</th>\n",
       "      <th>SibSp</th>\n",
       "      <th>Parch</th>\n",
       "      <th>Ticket</th>\n",
       "      <th>Fare</th>\n",
       "      <th>Cabin</th>\n",
       "      <th>Embarked</th>\n",
       "    </tr>\n",
       "  </thead>\n",
       "  <tbody>\n",
       "    <tr>\n",
       "      <td>0</td>\n",
       "      <td>1</td>\n",
       "      <td>0</td>\n",
       "      <td>3</td>\n",
       "      <td>Braund, Mr. Owen Harris</td>\n",
       "      <td>male</td>\n",
       "      <td>22.0</td>\n",
       "      <td>1</td>\n",
       "      <td>0</td>\n",
       "      <td>A/5 21171</td>\n",
       "      <td>7.2500</td>\n",
       "      <td>NaN</td>\n",
       "      <td>S</td>\n",
       "    </tr>\n",
       "    <tr>\n",
       "      <td>1</td>\n",
       "      <td>2</td>\n",
       "      <td>1</td>\n",
       "      <td>1</td>\n",
       "      <td>Cumings, Mrs. John Bradley (Florence Briggs Th...</td>\n",
       "      <td>female</td>\n",
       "      <td>38.0</td>\n",
       "      <td>1</td>\n",
       "      <td>0</td>\n",
       "      <td>PC 17599</td>\n",
       "      <td>71.2833</td>\n",
       "      <td>C85</td>\n",
       "      <td>C</td>\n",
       "    </tr>\n",
       "    <tr>\n",
       "      <td>2</td>\n",
       "      <td>3</td>\n",
       "      <td>1</td>\n",
       "      <td>3</td>\n",
       "      <td>Heikkinen, Miss. Laina</td>\n",
       "      <td>female</td>\n",
       "      <td>26.0</td>\n",
       "      <td>0</td>\n",
       "      <td>0</td>\n",
       "      <td>STON/O2. 3101282</td>\n",
       "      <td>7.9250</td>\n",
       "      <td>NaN</td>\n",
       "      <td>S</td>\n",
       "    </tr>\n",
       "    <tr>\n",
       "      <td>3</td>\n",
       "      <td>4</td>\n",
       "      <td>1</td>\n",
       "      <td>1</td>\n",
       "      <td>Futrelle, Mrs. Jacques Heath (Lily May Peel)</td>\n",
       "      <td>female</td>\n",
       "      <td>35.0</td>\n",
       "      <td>1</td>\n",
       "      <td>0</td>\n",
       "      <td>113803</td>\n",
       "      <td>53.1000</td>\n",
       "      <td>C123</td>\n",
       "      <td>S</td>\n",
       "    </tr>\n",
       "    <tr>\n",
       "      <td>4</td>\n",
       "      <td>5</td>\n",
       "      <td>0</td>\n",
       "      <td>3</td>\n",
       "      <td>Allen, Mr. William Henry</td>\n",
       "      <td>male</td>\n",
       "      <td>35.0</td>\n",
       "      <td>0</td>\n",
       "      <td>0</td>\n",
       "      <td>373450</td>\n",
       "      <td>8.0500</td>\n",
       "      <td>NaN</td>\n",
       "      <td>S</td>\n",
       "    </tr>\n",
       "  </tbody>\n",
       "</table>\n",
       "</div>"
      ],
      "text/plain": [
       "   PassengerId  Survived  Pclass  \\\n",
       "0            1         0       3   \n",
       "1            2         1       1   \n",
       "2            3         1       3   \n",
       "3            4         1       1   \n",
       "4            5         0       3   \n",
       "\n",
       "                                                Name     Sex   Age  SibSp  \\\n",
       "0                            Braund, Mr. Owen Harris    male  22.0      1   \n",
       "1  Cumings, Mrs. John Bradley (Florence Briggs Th...  female  38.0      1   \n",
       "2                             Heikkinen, Miss. Laina  female  26.0      0   \n",
       "3       Futrelle, Mrs. Jacques Heath (Lily May Peel)  female  35.0      1   \n",
       "4                           Allen, Mr. William Henry    male  35.0      0   \n",
       "\n",
       "   Parch            Ticket     Fare Cabin Embarked  \n",
       "0      0         A/5 21171   7.2500   NaN        S  \n",
       "1      0          PC 17599  71.2833   C85        C  \n",
       "2      0  STON/O2. 3101282   7.9250   NaN        S  \n",
       "3      0            113803  53.1000  C123        S  \n",
       "4      0            373450   8.0500   NaN        S  "
      ]
     },
     "execution_count": 3,
     "metadata": {},
     "output_type": "execute_result"
    }
   ],
   "source": [
    "df_train.head()"
   ]
  },
  {
   "cell_type": "code",
   "execution_count": 4,
   "metadata": {},
   "outputs": [
    {
     "data": {
      "text/plain": [
       "PassengerId    891\n",
       "Survived       891\n",
       "Pclass         891\n",
       "Name           891\n",
       "Sex            891\n",
       "Age            714\n",
       "SibSp          891\n",
       "Parch          891\n",
       "Ticket         891\n",
       "Fare           891\n",
       "Cabin          204\n",
       "Embarked       889\n",
       "dtype: int64"
      ]
     },
     "execution_count": 4,
     "metadata": {},
     "output_type": "execute_result"
    }
   ],
   "source": [
    "df_train.count()"
   ]
  },
  {
   "cell_type": "code",
   "execution_count": 5,
   "metadata": {},
   "outputs": [
    {
     "data": {
      "text/plain": [
       "PassengerId      0\n",
       "Survived         0\n",
       "Pclass           0\n",
       "Name             0\n",
       "Sex              0\n",
       "Age            177\n",
       "SibSp            0\n",
       "Parch            0\n",
       "Ticket           0\n",
       "Fare             0\n",
       "Cabin          687\n",
       "Embarked         2\n",
       "dtype: int64"
      ]
     },
     "execution_count": 5,
     "metadata": {},
     "output_type": "execute_result"
    }
   ],
   "source": [
    "df_train.isnull().sum()"
   ]
  },
  {
   "cell_type": "markdown",
   "metadata": {},
   "source": [
    "**df_train has 891 entries, some values for Cabin and Age are missing**"
   ]
  },
  {
   "cell_type": "code",
   "execution_count": 6,
   "metadata": {},
   "outputs": [
    {
     "data": {
      "text/html": [
       "<div>\n",
       "<style scoped>\n",
       "    .dataframe tbody tr th:only-of-type {\n",
       "        vertical-align: middle;\n",
       "    }\n",
       "\n",
       "    .dataframe tbody tr th {\n",
       "        vertical-align: top;\n",
       "    }\n",
       "\n",
       "    .dataframe thead th {\n",
       "        text-align: right;\n",
       "    }\n",
       "</style>\n",
       "<table border=\"1\" class=\"dataframe\">\n",
       "  <thead>\n",
       "    <tr style=\"text-align: right;\">\n",
       "      <th></th>\n",
       "      <th>PassengerId</th>\n",
       "      <th>Pclass</th>\n",
       "      <th>Name</th>\n",
       "      <th>Sex</th>\n",
       "      <th>Age</th>\n",
       "      <th>SibSp</th>\n",
       "      <th>Parch</th>\n",
       "      <th>Ticket</th>\n",
       "      <th>Fare</th>\n",
       "      <th>Cabin</th>\n",
       "      <th>Embarked</th>\n",
       "    </tr>\n",
       "  </thead>\n",
       "  <tbody>\n",
       "    <tr>\n",
       "      <td>0</td>\n",
       "      <td>892</td>\n",
       "      <td>3</td>\n",
       "      <td>Kelly, Mr. James</td>\n",
       "      <td>male</td>\n",
       "      <td>34.5</td>\n",
       "      <td>0</td>\n",
       "      <td>0</td>\n",
       "      <td>330911</td>\n",
       "      <td>7.8292</td>\n",
       "      <td>NaN</td>\n",
       "      <td>Q</td>\n",
       "    </tr>\n",
       "    <tr>\n",
       "      <td>1</td>\n",
       "      <td>893</td>\n",
       "      <td>3</td>\n",
       "      <td>Wilkes, Mrs. James (Ellen Needs)</td>\n",
       "      <td>female</td>\n",
       "      <td>47.0</td>\n",
       "      <td>1</td>\n",
       "      <td>0</td>\n",
       "      <td>363272</td>\n",
       "      <td>7.0000</td>\n",
       "      <td>NaN</td>\n",
       "      <td>S</td>\n",
       "    </tr>\n",
       "    <tr>\n",
       "      <td>2</td>\n",
       "      <td>894</td>\n",
       "      <td>2</td>\n",
       "      <td>Myles, Mr. Thomas Francis</td>\n",
       "      <td>male</td>\n",
       "      <td>62.0</td>\n",
       "      <td>0</td>\n",
       "      <td>0</td>\n",
       "      <td>240276</td>\n",
       "      <td>9.6875</td>\n",
       "      <td>NaN</td>\n",
       "      <td>Q</td>\n",
       "    </tr>\n",
       "    <tr>\n",
       "      <td>3</td>\n",
       "      <td>895</td>\n",
       "      <td>3</td>\n",
       "      <td>Wirz, Mr. Albert</td>\n",
       "      <td>male</td>\n",
       "      <td>27.0</td>\n",
       "      <td>0</td>\n",
       "      <td>0</td>\n",
       "      <td>315154</td>\n",
       "      <td>8.6625</td>\n",
       "      <td>NaN</td>\n",
       "      <td>S</td>\n",
       "    </tr>\n",
       "    <tr>\n",
       "      <td>4</td>\n",
       "      <td>896</td>\n",
       "      <td>3</td>\n",
       "      <td>Hirvonen, Mrs. Alexander (Helga E Lindqvist)</td>\n",
       "      <td>female</td>\n",
       "      <td>22.0</td>\n",
       "      <td>1</td>\n",
       "      <td>1</td>\n",
       "      <td>3101298</td>\n",
       "      <td>12.2875</td>\n",
       "      <td>NaN</td>\n",
       "      <td>S</td>\n",
       "    </tr>\n",
       "  </tbody>\n",
       "</table>\n",
       "</div>"
      ],
      "text/plain": [
       "   PassengerId  Pclass                                          Name     Sex  \\\n",
       "0          892       3                              Kelly, Mr. James    male   \n",
       "1          893       3              Wilkes, Mrs. James (Ellen Needs)  female   \n",
       "2          894       2                     Myles, Mr. Thomas Francis    male   \n",
       "3          895       3                              Wirz, Mr. Albert    male   \n",
       "4          896       3  Hirvonen, Mrs. Alexander (Helga E Lindqvist)  female   \n",
       "\n",
       "    Age  SibSp  Parch   Ticket     Fare Cabin Embarked  \n",
       "0  34.5      0      0   330911   7.8292   NaN        Q  \n",
       "1  47.0      1      0   363272   7.0000   NaN        S  \n",
       "2  62.0      0      0   240276   9.6875   NaN        Q  \n",
       "3  27.0      0      0   315154   8.6625   NaN        S  \n",
       "4  22.0      1      1  3101298  12.2875   NaN        S  "
      ]
     },
     "execution_count": 6,
     "metadata": {},
     "output_type": "execute_result"
    }
   ],
   "source": [
    "df_test.head()"
   ]
  },
  {
   "cell_type": "code",
   "execution_count": 7,
   "metadata": {},
   "outputs": [
    {
     "data": {
      "text/plain": [
       "PassengerId    418\n",
       "Pclass         418\n",
       "Name           418\n",
       "Sex            418\n",
       "Age            332\n",
       "SibSp          418\n",
       "Parch          418\n",
       "Ticket         418\n",
       "Fare           417\n",
       "Cabin           91\n",
       "Embarked       418\n",
       "dtype: int64"
      ]
     },
     "execution_count": 7,
     "metadata": {},
     "output_type": "execute_result"
    }
   ],
   "source": [
    "df_test.count()"
   ]
  },
  {
   "cell_type": "code",
   "execution_count": 8,
   "metadata": {},
   "outputs": [
    {
     "data": {
      "text/plain": [
       "PassengerId      0\n",
       "Pclass           0\n",
       "Name             0\n",
       "Sex              0\n",
       "Age             86\n",
       "SibSp            0\n",
       "Parch            0\n",
       "Ticket           0\n",
       "Fare             1\n",
       "Cabin          327\n",
       "Embarked         0\n",
       "dtype: int64"
      ]
     },
     "execution_count": 8,
     "metadata": {},
     "output_type": "execute_result"
    }
   ],
   "source": [
    "df_test.isnull().sum()"
   ]
  },
  {
   "cell_type": "markdown",
   "metadata": {},
   "source": [
    "**Of all passengers in df_train, how many survived, how many died ?** "
   ]
  },
  {
   "cell_type": "code",
   "execution_count": 9,
   "metadata": {},
   "outputs": [
    {
     "data": {
      "image/png": "[encoded data removed]",
      "text/plain": [
       "<Figure size 432x288 with 1 Axes>"
      ]
     },
     "metadata": {
      "needs_background": "light"
     },
     "output_type": "display_data"
    }
   ],
   "source": [
    "sns.countplot(x='Survived', data=df_train);"
   ]
  },
  {
   "cell_type": "code",
   "execution_count": 10,
   "metadata": {},
   "outputs": [
    {
     "name": "stdout",
     "output_type": "stream",
     "text": [
      "people survived : 38.38 %\n",
      "people died : 61.62 %\n"
     ]
    }
   ],
   "source": [
    "print('people survived : %.2f %%'%(df_train.Survived.sum()/df_train.Survived.count()*100))\n",
    "\n",
    "print('people died : %.2f %%'%( 100- (df_train.Survived.sum()/df_train.Survived.count()*100)))\n"
   ]
  },
  {
   "cell_type": "markdown",
   "metadata": {},
   "source": [
    "**Sex: Female more likely to survive than male**"
   ]
  },
  {
   "cell_type": "code",
   "execution_count": 11,
   "metadata": {},
   "outputs": [
    {
     "data": {
      "text/plain": [
       "Survived  Sex   \n",
       "0         female     81\n",
       "          male      468\n",
       "1         female    233\n",
       "          male      109\n",
       "Name: Survived, dtype: int64"
      ]
     },
     "execution_count": 11,
     "metadata": {},
     "output_type": "execute_result"
    }
   ],
   "source": [
    "df_train.groupby(['Survived','Sex'])['Survived'].count()"
   ]
  },
  {
   "cell_type": "code",
   "execution_count": 12,
   "metadata": {},
   "outputs": [
    {
     "data": {
      "image/png": "[encoded data removed]",
      "text/plain": [
       "<Figure size 720x360 with 2 Axes>"
      ]
     },
     "metadata": {
      "needs_background": "light"
     },
     "output_type": "display_data"
    }
   ],
   "source": [
    "sns.catplot(x='Sex', col='Survived', kind='count', data=df_train);"
   ]
  },
  {
   "cell_type": "code",
   "execution_count": 13,
   "metadata": {},
   "outputs": [
    {
     "name": "stdout",
     "output_type": "stream",
     "text": [
      "% of women survived:  0.7420382165605095\n",
      "% of men survived:    0.18890814558058924\n"
     ]
    }
   ],
   "source": [
    "print(\"% of women survived: \" ,df_train[df_train.Sex == 'female'].Survived.sum()/df_train[df_train.Sex == 'female'].Survived.count())\n",
    "print(\"% of men survived:   \" , df_train[df_train.Sex == 'male'].Survived.sum()/df_train[df_train.Sex == 'male'].Survived.count())"
   ]
  },
  {
   "cell_type": "code",
   "execution_count": 14,
   "metadata": {},
   "outputs": [
    {
     "data": {
      "image/png": "[encoded data removed]",
      "text/plain": [
       "<Figure size 1152x504 with 2 Axes>"
      ]
     },
     "metadata": {},
     "output_type": "display_data"
    }
   ],
   "source": [
    "f,ax=plt.subplots(1,2,figsize=(16,7))\n",
    "df_train['Survived'][df_train['Sex']=='male'].value_counts().plot.pie(explode=[0,0.2],autopct='%1.1f%%',ax=ax[0],shadow=True)\n",
    "df_train['Survived'][df_train['Sex']=='female'].value_counts().plot.pie(explode=[0,0.2],autopct='%1.1f%%',ax=ax[1],shadow=True)\n",
    "ax[0].set_title('Survived (male)')\n",
    "ax[1].set_title('Survived (female)')\n",
    "\n",
    "plt.show()"
   ]
  },
  {
   "cell_type": "markdown",
   "metadata": {},
   "source": [
    "Women were more likely to survive than men\n",
    "\n",
    "74 % of women survived but only 19% of men (in training set)\n",
    "\n",
    "-> second model : all women survived and all men died\n",
    "\n",
    "submission : 0.766 accuracy"
   ]
  },
  {
   "cell_type": "markdown",
   "metadata": {},
   "source": [
    "**Passenger Class : Survival rate decreases with Pclass**"
   ]
  },
  {
   "cell_type": "code",
   "execution_count": 15,
   "metadata": {},
   "outputs": [
    {
     "data": {
      "text/html": [
       "<style  type=\"text/css\" >\n",
       "    #T_bd407222_3db2_11ea_98c3_a483e70b5030row0_col0 {\n",
       "            background-color:  #ffff00;\n",
       "            color:  #000000;\n",
       "        }    #T_bd407222_3db2_11ea_98c3_a483e70b5030row0_col1 {\n",
       "            background-color:  #ffce00;\n",
       "            color:  #000000;\n",
       "        }    #T_bd407222_3db2_11ea_98c3_a483e70b5030row0_col2 {\n",
       "            background-color:  #fff400;\n",
       "            color:  #000000;\n",
       "        }    #T_bd407222_3db2_11ea_98c3_a483e70b5030row1_col0 {\n",
       "            background-color:  #fff600;\n",
       "            color:  #000000;\n",
       "        }    #T_bd407222_3db2_11ea_98c3_a483e70b5030row1_col1 {\n",
       "            background-color:  #ffff00;\n",
       "            color:  #000000;\n",
       "        }    #T_bd407222_3db2_11ea_98c3_a483e70b5030row1_col2 {\n",
       "            background-color:  #ffff00;\n",
       "            color:  #000000;\n",
       "        }    #T_bd407222_3db2_11ea_98c3_a483e70b5030row2_col0 {\n",
       "            background-color:  #ff6000;\n",
       "            color:  #000000;\n",
       "        }    #T_bd407222_3db2_11ea_98c3_a483e70b5030row2_col1 {\n",
       "            background-color:  #ffdf00;\n",
       "            color:  #000000;\n",
       "        }    #T_bd407222_3db2_11ea_98c3_a483e70b5030row2_col2 {\n",
       "            background-color:  #ff9000;\n",
       "            color:  #000000;\n",
       "        }    #T_bd407222_3db2_11ea_98c3_a483e70b5030row3_col0 {\n",
       "            background-color:  #ff0000;\n",
       "            color:  #f1f1f1;\n",
       "        }    #T_bd407222_3db2_11ea_98c3_a483e70b5030row3_col1 {\n",
       "            background-color:  #ff0000;\n",
       "            color:  #f1f1f1;\n",
       "        }    #T_bd407222_3db2_11ea_98c3_a483e70b5030row3_col2 {\n",
       "            background-color:  #ff0000;\n",
       "            color:  #f1f1f1;\n",
       "        }</style><table id=\"T_bd407222_3db2_11ea_98c3_a483e70b5030\" ><thead>    <tr>        <th class=\"index_name level0\" >Survived</th>        <th class=\"col_heading level0 col0\" >0</th>        <th class=\"col_heading level0 col1\" >1</th>        <th class=\"col_heading level0 col2\" >All</th>    </tr>    <tr>        <th class=\"index_name level0\" >Pclass</th>        <th class=\"blank\" ></th>        <th class=\"blank\" ></th>        <th class=\"blank\" ></th>    </tr></thead><tbody>\n",
       "                <tr>\n",
       "                        <th id=\"T_bd407222_3db2_11ea_98c3_a483e70b5030level0_row0\" class=\"row_heading level0 row0\" >1</th>\n",
       "                        <td id=\"T_bd407222_3db2_11ea_98c3_a483e70b5030row0_col0\" class=\"data row0 col0\" >80</td>\n",
       "                        <td id=\"T_bd407222_3db2_11ea_98c3_a483e70b5030row0_col1\" class=\"data row0 col1\" >136</td>\n",
       "                        <td id=\"T_bd407222_3db2_11ea_98c3_a483e70b5030row0_col2\" class=\"data row0 col2\" >216</td>\n",
       "            </tr>\n",
       "            <tr>\n",
       "                        <th id=\"T_bd407222_3db2_11ea_98c3_a483e70b5030level0_row1\" class=\"row_heading level0 row1\" >2</th>\n",
       "                        <td id=\"T_bd407222_3db2_11ea_98c3_a483e70b5030row1_col0\" class=\"data row1 col0\" >97</td>\n",
       "                        <td id=\"T_bd407222_3db2_11ea_98c3_a483e70b5030row1_col1\" class=\"data row1 col1\" >87</td>\n",
       "                        <td id=\"T_bd407222_3db2_11ea_98c3_a483e70b5030row1_col2\" class=\"data row1 col2\" >184</td>\n",
       "            </tr>\n",
       "            <tr>\n",
       "                        <th id=\"T_bd407222_3db2_11ea_98c3_a483e70b5030level0_row2\" class=\"row_heading level0 row2\" >3</th>\n",
       "                        <td id=\"T_bd407222_3db2_11ea_98c3_a483e70b5030row2_col0\" class=\"data row2 col0\" >372</td>\n",
       "                        <td id=\"T_bd407222_3db2_11ea_98c3_a483e70b5030row2_col1\" class=\"data row2 col1\" >119</td>\n",
       "                        <td id=\"T_bd407222_3db2_11ea_98c3_a483e70b5030row2_col2\" class=\"data row2 col2\" >491</td>\n",
       "            </tr>\n",
       "            <tr>\n",
       "                        <th id=\"T_bd407222_3db2_11ea_98c3_a483e70b5030level0_row3\" class=\"row_heading level0 row3\" >All</th>\n",
       "                        <td id=\"T_bd407222_3db2_11ea_98c3_a483e70b5030row3_col0\" class=\"data row3 col0\" >549</td>\n",
       "                        <td id=\"T_bd407222_3db2_11ea_98c3_a483e70b5030row3_col1\" class=\"data row3 col1\" >342</td>\n",
       "                        <td id=\"T_bd407222_3db2_11ea_98c3_a483e70b5030row3_col2\" class=\"data row3 col2\" >891</td>\n",
       "            </tr>\n",
       "    </tbody></table>"
      ],
      "text/plain": [
       "<pandas.io.formats.style.Styler at 0x1a1acd9e50>"
      ]
     },
     "execution_count": 15,
     "metadata": {},
     "output_type": "execute_result"
    }
   ],
   "source": [
    "pd.crosstab(df_train.Pclass, df_train.Survived, margins=True).style.background_gradient(cmap='autumn_r')"
   ]
  },
  {
   "cell_type": "code",
   "execution_count": 16,
   "metadata": {},
   "outputs": [
    {
     "name": "stdout",
     "output_type": "stream",
     "text": [
      "% of survivals in\n",
      "Pclass=1 :  0.6296296296296297\n",
      "Pclass=2 :  0.47282608695652173\n",
      "Pclass=3 :  0.24236252545824846\n"
     ]
    }
   ],
   "source": [
    "print(\"% of survivals in\") \n",
    "print(\"Pclass=1 : \", df_train.Survived[df_train.Pclass == 1].sum()/df_train[df_train.Pclass == 1].Survived.count())\n",
    "print(\"Pclass=2 : \", df_train.Survived[df_train.Pclass == 2].sum()/df_train[df_train.Pclass == 2].Survived.count())\n",
    "print(\"Pclass=3 : \", df_train.Survived[df_train.Pclass == 3].sum()/df_train[df_train.Pclass == 3].Survived.count())"
   ]
  },
  {
   "cell_type": "code",
   "execution_count": 17,
   "metadata": {},
   "outputs": [
    {
     "data": {
      "image/png": "[encoded data removed]",
      "text/plain": [
       "<Figure size 360x360 with 1 Axes>"
      ]
     },
     "metadata": {
      "needs_background": "light"
     },
     "output_type": "display_data"
    }
   ],
   "source": [
    "sns.catplot('Pclass','Survived', kind='point', data=df_train);"
   ]
  },
  {
   "cell_type": "markdown",
   "metadata": {},
   "source": [
    "**Passenger Class and Sex :**\n",
    "\n",
    "**Almost all women in Pclass 1 and 2 survived and nearly all men in Pclass 2 and 3 died**"
   ]
  },
  {
   "cell_type": "code",
   "execution_count": 18,
   "metadata": {},
   "outputs": [
    {
     "data": {
      "text/html": [
       "<style  type=\"text/css\" >\n",
       "    #T_bd744002_3db2_11ea_98c3_a483e70b5030row0_col0 {\n",
       "            background-color:  #ffff00;\n",
       "            color:  #000000;\n",
       "        }    #T_bd744002_3db2_11ea_98c3_a483e70b5030row0_col1 {\n",
       "            background-color:  #ffff00;\n",
       "            color:  #000000;\n",
       "        }    #T_bd744002_3db2_11ea_98c3_a483e70b5030row0_col2 {\n",
       "            background-color:  #fff100;\n",
       "            color:  #000000;\n",
       "        }    #T_bd744002_3db2_11ea_98c3_a483e70b5030row0_col3 {\n",
       "            background-color:  #ffff00;\n",
       "            color:  #000000;\n",
       "        }    #T_bd744002_3db2_11ea_98c3_a483e70b5030row1_col0 {\n",
       "            background-color:  #ff9600;\n",
       "            color:  #000000;\n",
       "        }    #T_bd744002_3db2_11ea_98c3_a483e70b5030row1_col1 {\n",
       "            background-color:  #ffa300;\n",
       "            color:  #000000;\n",
       "        }    #T_bd744002_3db2_11ea_98c3_a483e70b5030row1_col2 {\n",
       "            background-color:  #fff100;\n",
       "            color:  #000000;\n",
       "        }    #T_bd744002_3db2_11ea_98c3_a483e70b5030row1_col3 {\n",
       "            background-color:  #ffcf00;\n",
       "            color:  #000000;\n",
       "        }    #T_bd744002_3db2_11ea_98c3_a483e70b5030row2_col0 {\n",
       "            background-color:  #ffa700;\n",
       "            color:  #000000;\n",
       "        }    #T_bd744002_3db2_11ea_98c3_a483e70b5030row2_col1 {\n",
       "            background-color:  #ff8500;\n",
       "            color:  #000000;\n",
       "        }    #T_bd744002_3db2_11ea_98c3_a483e70b5030row2_col2 {\n",
       "            background-color:  #ff6e00;\n",
       "            color:  #000000;\n",
       "        }    #T_bd744002_3db2_11ea_98c3_a483e70b5030row2_col3 {\n",
       "            background-color:  #ff8500;\n",
       "            color:  #000000;\n",
       "        }    #T_bd744002_3db2_11ea_98c3_a483e70b5030row3_col0 {\n",
       "            background-color:  #ffcd00;\n",
       "            color:  #000000;\n",
       "        }    #T_bd744002_3db2_11ea_98c3_a483e70b5030row3_col1 {\n",
       "            background-color:  #fff000;\n",
       "            color:  #000000;\n",
       "        }    #T_bd744002_3db2_11ea_98c3_a483e70b5030row3_col2 {\n",
       "            background-color:  #ffff00;\n",
       "            color:  #000000;\n",
       "        }    #T_bd744002_3db2_11ea_98c3_a483e70b5030row3_col3 {\n",
       "            background-color:  #fff700;\n",
       "            color:  #000000;\n",
       "        }    #T_bd744002_3db2_11ea_98c3_a483e70b5030row4_col0 {\n",
       "            background-color:  #ff0000;\n",
       "            color:  #f1f1f1;\n",
       "        }    #T_bd744002_3db2_11ea_98c3_a483e70b5030row4_col1 {\n",
       "            background-color:  #ff0000;\n",
       "            color:  #f1f1f1;\n",
       "        }    #T_bd744002_3db2_11ea_98c3_a483e70b5030row4_col2 {\n",
       "            background-color:  #ff0000;\n",
       "            color:  #f1f1f1;\n",
       "        }    #T_bd744002_3db2_11ea_98c3_a483e70b5030row4_col3 {\n",
       "            background-color:  #ff0000;\n",
       "            color:  #f1f1f1;\n",
       "        }</style><table id=\"T_bd744002_3db2_11ea_98c3_a483e70b5030\" ><thead>    <tr>        <th class=\"blank\" ></th>        <th class=\"index_name level0\" >Pclass</th>        <th class=\"col_heading level0 col0\" >1</th>        <th class=\"col_heading level0 col1\" >2</th>        <th class=\"col_heading level0 col2\" >3</th>        <th class=\"col_heading level0 col3\" >All</th>    </tr>    <tr>        <th class=\"index_name level0\" >Sex</th>        <th class=\"index_name level1\" >Survived</th>        <th class=\"blank\" ></th>        <th class=\"blank\" ></th>        <th class=\"blank\" ></th>        <th class=\"blank\" ></th>    </tr></thead><tbody>\n",
       "                <tr>\n",
       "                        <th id=\"T_bd744002_3db2_11ea_98c3_a483e70b5030level0_row0\" class=\"row_heading level0 row0\" rowspan=2>female</th>\n",
       "                        <th id=\"T_bd744002_3db2_11ea_98c3_a483e70b5030level1_row0\" class=\"row_heading level1 row0\" >0</th>\n",
       "                        <td id=\"T_bd744002_3db2_11ea_98c3_a483e70b5030row0_col0\" class=\"data row0 col0\" >3</td>\n",
       "                        <td id=\"T_bd744002_3db2_11ea_98c3_a483e70b5030row0_col1\" class=\"data row0 col1\" >6</td>\n",
       "                        <td id=\"T_bd744002_3db2_11ea_98c3_a483e70b5030row0_col2\" class=\"data row0 col2\" >72</td>\n",
       "                        <td id=\"T_bd744002_3db2_11ea_98c3_a483e70b5030row0_col3\" class=\"data row0 col3\" >81</td>\n",
       "            </tr>\n",
       "            <tr>\n",
       "                                <th id=\"T_bd744002_3db2_11ea_98c3_a483e70b5030level1_row1\" class=\"row_heading level1 row1\" >1</th>\n",
       "                        <td id=\"T_bd744002_3db2_11ea_98c3_a483e70b5030row1_col0\" class=\"data row1 col0\" >91</td>\n",
       "                        <td id=\"T_bd744002_3db2_11ea_98c3_a483e70b5030row1_col1\" class=\"data row1 col1\" >70</td>\n",
       "                        <td id=\"T_bd744002_3db2_11ea_98c3_a483e70b5030row1_col2\" class=\"data row1 col2\" >72</td>\n",
       "                        <td id=\"T_bd744002_3db2_11ea_98c3_a483e70b5030row1_col3\" class=\"data row1 col3\" >233</td>\n",
       "            </tr>\n",
       "            <tr>\n",
       "                        <th id=\"T_bd744002_3db2_11ea_98c3_a483e70b5030level0_row2\" class=\"row_heading level0 row2\" rowspan=2>male</th>\n",
       "                        <th id=\"T_bd744002_3db2_11ea_98c3_a483e70b5030level1_row2\" class=\"row_heading level1 row2\" >0</th>\n",
       "                        <td id=\"T_bd744002_3db2_11ea_98c3_a483e70b5030row2_col0\" class=\"data row2 col0\" >77</td>\n",
       "                        <td id=\"T_bd744002_3db2_11ea_98c3_a483e70b5030row2_col1\" class=\"data row2 col1\" >91</td>\n",
       "                        <td id=\"T_bd744002_3db2_11ea_98c3_a483e70b5030row2_col2\" class=\"data row2 col2\" >300</td>\n",
       "                        <td id=\"T_bd744002_3db2_11ea_98c3_a483e70b5030row2_col3\" class=\"data row2 col3\" >468</td>\n",
       "            </tr>\n",
       "            <tr>\n",
       "                                <th id=\"T_bd744002_3db2_11ea_98c3_a483e70b5030level1_row3\" class=\"row_heading level1 row3\" >1</th>\n",
       "                        <td id=\"T_bd744002_3db2_11ea_98c3_a483e70b5030row3_col0\" class=\"data row3 col0\" >45</td>\n",
       "                        <td id=\"T_bd744002_3db2_11ea_98c3_a483e70b5030row3_col1\" class=\"data row3 col1\" >17</td>\n",
       "                        <td id=\"T_bd744002_3db2_11ea_98c3_a483e70b5030row3_col2\" class=\"data row3 col2\" >47</td>\n",
       "                        <td id=\"T_bd744002_3db2_11ea_98c3_a483e70b5030row3_col3\" class=\"data row3 col3\" >109</td>\n",
       "            </tr>\n",
       "            <tr>\n",
       "                        <th id=\"T_bd744002_3db2_11ea_98c3_a483e70b5030level0_row4\" class=\"row_heading level0 row4\" >All</th>\n",
       "                        <th id=\"T_bd744002_3db2_11ea_98c3_a483e70b5030level1_row4\" class=\"row_heading level1 row4\" ></th>\n",
       "                        <td id=\"T_bd744002_3db2_11ea_98c3_a483e70b5030row4_col0\" class=\"data row4 col0\" >216</td>\n",
       "                        <td id=\"T_bd744002_3db2_11ea_98c3_a483e70b5030row4_col1\" class=\"data row4 col1\" >184</td>\n",
       "                        <td id=\"T_bd744002_3db2_11ea_98c3_a483e70b5030row4_col2\" class=\"data row4 col2\" >491</td>\n",
       "                        <td id=\"T_bd744002_3db2_11ea_98c3_a483e70b5030row4_col3\" class=\"data row4 col3\" >891</td>\n",
       "            </tr>\n",
       "    </tbody></table>"
      ],
      "text/plain": [
       "<pandas.io.formats.style.Styler at 0x1a1a33e5d0>"
      ]
     },
     "execution_count": 18,
     "metadata": {},
     "output_type": "execute_result"
    }
   ],
   "source": [
    "pd.crosstab([df_train.Sex, df_train.Survived], df_train.Pclass, margins=True).style.background_gradient(cmap='autumn_r')"
   ]
  },
  {
   "cell_type": "code",
   "execution_count": 19,
   "metadata": {},
   "outputs": [
    {
     "data": {
      "image/png": "[encoded data removed]",
      "text/plain": [
       "<Figure size 430.5x360 with 1 Axes>"
      ]
     },
     "metadata": {
      "needs_background": "light"
     },
     "output_type": "display_data"
    }
   ],
   "source": [
    "sns.catplot('Pclass','Survived',hue='Sex', kind='point', data=df_train);"
   ]
  },
  {
   "cell_type": "markdown",
   "metadata": {},
   "source": [
    "**Embarked : Survival rate lowest for S and highest for C**"
   ]
  },
  {
   "cell_type": "code",
   "execution_count": 20,
   "metadata": {},
   "outputs": [
    {
     "data": {
      "image/png": "[encoded data removed]",
      "text/plain": [
       "<Figure size 1080x360 with 3 Axes>"
      ]
     },
     "metadata": {
      "needs_background": "light"
     },
     "output_type": "display_data"
    }
   ],
   "source": [
    "sns.catplot(x='Survived', col='Embarked', kind='count', data=df_train);"
   ]
  },
  {
   "cell_type": "code",
   "execution_count": 21,
   "metadata": {},
   "outputs": [
    {
     "data": {
      "image/png": "[encoded data removed]",
      "text/plain": [
       "<Figure size 360x360 with 1 Axes>"
      ]
     },
     "metadata": {
      "needs_background": "light"
     },
     "output_type": "display_data"
    }
   ],
   "source": [
    "sns.catplot('Embarked','Survived', kind='point', data=df_train);"
   ]
  },
  {
   "cell_type": "markdown",
   "metadata": {},
   "source": [
    "**Embarked and Sex**"
   ]
  },
  {
   "cell_type": "code",
   "execution_count": 22,
   "metadata": {},
   "outputs": [
    {
     "data": {
      "image/png": "[encoded data removed]",
      "text/plain": [
       "<Figure size 430.5x360 with 1 Axes>"
      ]
     },
     "metadata": {
      "needs_background": "light"
     },
     "output_type": "display_data"
    }
   ],
   "source": [
    "sns.catplot('Embarked','Survived', hue= 'Sex', kind='point', data=df_train);"
   ]
  },
  {
   "cell_type": "markdown",
   "metadata": {},
   "source": [
    "**Embarked, Pclass and Sex :**\n",
    "\n",
    "**Practically all women of Pclass 2 that embarked in C and Q survived, also nearly all women of Pclass 1 survived.**\n",
    "\n",
    "**All men of Pclass 1 and 2 embarked in Q died, survival rate for men in Pclass 2 and 3 is always below 0.2**\n",
    "\n",
    "**For the remaining men in Pclass 1 that embarked in S and Q, survival rate is approx. 0.4**"
   ]
  },
  {
   "cell_type": "code",
   "execution_count": 23,
   "metadata": {},
   "outputs": [
    {
     "data": {
      "image/png": "[encoded data removed]",
      "text/plain": [
       "<Figure size 1150.5x360 with 3 Axes>"
      ]
     },
     "metadata": {
      "needs_background": "light"
     },
     "output_type": "display_data"
    }
   ],
   "source": [
    "sns.catplot('Embarked','Survived', col='Pclass', hue= 'Sex', kind='point', data=df_train);"
   ]
  },
  {
   "cell_type": "code",
   "execution_count": 37,
   "metadata": {},
   "outputs": [
    {
     "data": {
      "text/html": [
       "<style  type=\"text/css\" >\n",
       "    #T_9b9ea188_3db3_11ea_98c3_a483e70b5030row0_col0 {\n",
       "            background-color:  #ffff00;\n",
       "            color:  #000000;\n",
       "        }    #T_9b9ea188_3db3_11ea_98c3_a483e70b5030row0_col1 {\n",
       "            background-color:  #ffff00;\n",
       "            color:  #000000;\n",
       "        }    #T_9b9ea188_3db3_11ea_98c3_a483e70b5030row0_col2 {\n",
       "            background-color:  #ffff00;\n",
       "            color:  #000000;\n",
       "        }    #T_9b9ea188_3db3_11ea_98c3_a483e70b5030row0_col3 {\n",
       "            background-color:  #ffff00;\n",
       "            color:  #000000;\n",
       "        }    #T_9b9ea188_3db3_11ea_98c3_a483e70b5030row0_col4 {\n",
       "            background-color:  #ffff00;\n",
       "            color:  #000000;\n",
       "        }    #T_9b9ea188_3db3_11ea_98c3_a483e70b5030row0_col5 {\n",
       "            background-color:  #ffff00;\n",
       "            color:  #000000;\n",
       "        }    #T_9b9ea188_3db3_11ea_98c3_a483e70b5030row0_col6 {\n",
       "            background-color:  #ffff00;\n",
       "            color:  #000000;\n",
       "        }    #T_9b9ea188_3db3_11ea_98c3_a483e70b5030row0_col7 {\n",
       "            background-color:  #ffff00;\n",
       "            color:  #000000;\n",
       "        }    #T_9b9ea188_3db3_11ea_98c3_a483e70b5030row0_col8 {\n",
       "            background-color:  #ff9900;\n",
       "            color:  #000000;\n",
       "        }    #T_9b9ea188_3db3_11ea_98c3_a483e70b5030row0_col9 {\n",
       "            background-color:  #ffae00;\n",
       "            color:  #000000;\n",
       "        }    #T_9b9ea188_3db3_11ea_98c3_a483e70b5030row0_col10 {\n",
       "            background-color:  #ff0000;\n",
       "            color:  #f1f1f1;\n",
       "        }    #T_9b9ea188_3db3_11ea_98c3_a483e70b5030row0_col11 {\n",
       "            background-color:  #ff8c00;\n",
       "            color:  #000000;\n",
       "        }    #T_9b9ea188_3db3_11ea_98c3_a483e70b5030row0_col12 {\n",
       "            background-color:  #ff3f00;\n",
       "            color:  #f1f1f1;\n",
       "        }    #T_9b9ea188_3db3_11ea_98c3_a483e70b5030row0_col13 {\n",
       "            background-color:  #ff0000;\n",
       "            color:  #f1f1f1;\n",
       "        }    #T_9b9ea188_3db3_11ea_98c3_a483e70b5030row0_col14 {\n",
       "            background-color:  #ff2e00;\n",
       "            color:  #f1f1f1;\n",
       "        }    #T_9b9ea188_3db3_11ea_98c3_a483e70b5030row0_col15 {\n",
       "            background-color:  #ff4d00;\n",
       "            color:  #000000;\n",
       "        }    #T_9b9ea188_3db3_11ea_98c3_a483e70b5030row0_col16 {\n",
       "            background-color:  #ff1500;\n",
       "            color:  #f1f1f1;\n",
       "        }    #T_9b9ea188_3db3_11ea_98c3_a483e70b5030row0_col17 {\n",
       "            background-color:  #ff2500;\n",
       "            color:  #f1f1f1;\n",
       "        }    #T_9b9ea188_3db3_11ea_98c3_a483e70b5030row0_col18 {\n",
       "            background-color:  #ff9e00;\n",
       "            color:  #000000;\n",
       "        }    #T_9b9ea188_3db3_11ea_98c3_a483e70b5030row1_col0 {\n",
       "            background-color:  #ff0600;\n",
       "            color:  #f1f1f1;\n",
       "        }    #T_9b9ea188_3db3_11ea_98c3_a483e70b5030row1_col1 {\n",
       "            background-color:  #ff0000;\n",
       "            color:  #f1f1f1;\n",
       "        }    #T_9b9ea188_3db3_11ea_98c3_a483e70b5030row1_col2 {\n",
       "            background-color:  #ff0b00;\n",
       "            color:  #f1f1f1;\n",
       "        }    #T_9b9ea188_3db3_11ea_98c3_a483e70b5030row1_col3 {\n",
       "            background-color:  #ff0000;\n",
       "            color:  #f1f1f1;\n",
       "        }    #T_9b9ea188_3db3_11ea_98c3_a483e70b5030row1_col4 {\n",
       "            background-color:  #ff0000;\n",
       "            color:  #f1f1f1;\n",
       "        }    #T_9b9ea188_3db3_11ea_98c3_a483e70b5030row1_col5 {\n",
       "            background-color:  #ff1900;\n",
       "            color:  #f1f1f1;\n",
       "        }    #T_9b9ea188_3db3_11ea_98c3_a483e70b5030row1_col6 {\n",
       "            background-color:  #ff8800;\n",
       "            color:  #000000;\n",
       "        }    #T_9b9ea188_3db3_11ea_98c3_a483e70b5030row1_col7 {\n",
       "            background-color:  #ff5f00;\n",
       "            color:  #000000;\n",
       "        }    #T_9b9ea188_3db3_11ea_98c3_a483e70b5030row1_col8 {\n",
       "            background-color:  #ffff00;\n",
       "            color:  #000000;\n",
       "        }    #T_9b9ea188_3db3_11ea_98c3_a483e70b5030row1_col9 {\n",
       "            background-color:  #ffff00;\n",
       "            color:  #000000;\n",
       "        }    #T_9b9ea188_3db3_11ea_98c3_a483e70b5030row1_col10 {\n",
       "            background-color:  #ffff00;\n",
       "            color:  #000000;\n",
       "        }    #T_9b9ea188_3db3_11ea_98c3_a483e70b5030row1_col11 {\n",
       "            background-color:  #ffff00;\n",
       "            color:  #000000;\n",
       "        }    #T_9b9ea188_3db3_11ea_98c3_a483e70b5030row1_col12 {\n",
       "            background-color:  #ffff00;\n",
       "            color:  #000000;\n",
       "        }    #T_9b9ea188_3db3_11ea_98c3_a483e70b5030row1_col13 {\n",
       "            background-color:  #ffff00;\n",
       "            color:  #000000;\n",
       "        }    #T_9b9ea188_3db3_11ea_98c3_a483e70b5030row1_col14 {\n",
       "            background-color:  #ffff00;\n",
       "            color:  #000000;\n",
       "        }    #T_9b9ea188_3db3_11ea_98c3_a483e70b5030row1_col15 {\n",
       "            background-color:  #ffff00;\n",
       "            color:  #000000;\n",
       "        }    #T_9b9ea188_3db3_11ea_98c3_a483e70b5030row1_col16 {\n",
       "            background-color:  #ffff00;\n",
       "            color:  #000000;\n",
       "        }    #T_9b9ea188_3db3_11ea_98c3_a483e70b5030row1_col17 {\n",
       "            background-color:  #ffff00;\n",
       "            color:  #000000;\n",
       "        }    #T_9b9ea188_3db3_11ea_98c3_a483e70b5030row1_col18 {\n",
       "            background-color:  #ffff00;\n",
       "            color:  #000000;\n",
       "        }    #T_9b9ea188_3db3_11ea_98c3_a483e70b5030row2_col0 {\n",
       "            background-color:  #ff0000;\n",
       "            color:  #f1f1f1;\n",
       "        }    #T_9b9ea188_3db3_11ea_98c3_a483e70b5030row2_col1 {\n",
       "            background-color:  #ff0000;\n",
       "            color:  #f1f1f1;\n",
       "        }    #T_9b9ea188_3db3_11ea_98c3_a483e70b5030row2_col2 {\n",
       "            background-color:  #ff0000;\n",
       "            color:  #f1f1f1;\n",
       "        }    #T_9b9ea188_3db3_11ea_98c3_a483e70b5030row2_col3 {\n",
       "            background-color:  #ff0000;\n",
       "            color:  #f1f1f1;\n",
       "        }    #T_9b9ea188_3db3_11ea_98c3_a483e70b5030row2_col4 {\n",
       "            background-color:  #ff0000;\n",
       "            color:  #f1f1f1;\n",
       "        }    #T_9b9ea188_3db3_11ea_98c3_a483e70b5030row2_col5 {\n",
       "            background-color:  #ff0000;\n",
       "            color:  #f1f1f1;\n",
       "        }    #T_9b9ea188_3db3_11ea_98c3_a483e70b5030row2_col6 {\n",
       "            background-color:  #ff0000;\n",
       "            color:  #f1f1f1;\n",
       "        }    #T_9b9ea188_3db3_11ea_98c3_a483e70b5030row2_col7 {\n",
       "            background-color:  #ff0000;\n",
       "            color:  #f1f1f1;\n",
       "        }    #T_9b9ea188_3db3_11ea_98c3_a483e70b5030row2_col8 {\n",
       "            background-color:  #ff0000;\n",
       "            color:  #f1f1f1;\n",
       "        }    #T_9b9ea188_3db3_11ea_98c3_a483e70b5030row2_col9 {\n",
       "            background-color:  #ff0000;\n",
       "            color:  #f1f1f1;\n",
       "        }    #T_9b9ea188_3db3_11ea_98c3_a483e70b5030row2_col10 {\n",
       "            background-color:  #ff0000;\n",
       "            color:  #f1f1f1;\n",
       "        }    #T_9b9ea188_3db3_11ea_98c3_a483e70b5030row2_col11 {\n",
       "            background-color:  #ff0000;\n",
       "            color:  #f1f1f1;\n",
       "        }    #T_9b9ea188_3db3_11ea_98c3_a483e70b5030row2_col12 {\n",
       "            background-color:  #ff0000;\n",
       "            color:  #f1f1f1;\n",
       "        }    #T_9b9ea188_3db3_11ea_98c3_a483e70b5030row2_col13 {\n",
       "            background-color:  #ff0000;\n",
       "            color:  #f1f1f1;\n",
       "        }    #T_9b9ea188_3db3_11ea_98c3_a483e70b5030row2_col14 {\n",
       "            background-color:  #ff0000;\n",
       "            color:  #f1f1f1;\n",
       "        }    #T_9b9ea188_3db3_11ea_98c3_a483e70b5030row2_col15 {\n",
       "            background-color:  #ff0000;\n",
       "            color:  #f1f1f1;\n",
       "        }    #T_9b9ea188_3db3_11ea_98c3_a483e70b5030row2_col16 {\n",
       "            background-color:  #ff0000;\n",
       "            color:  #f1f1f1;\n",
       "        }    #T_9b9ea188_3db3_11ea_98c3_a483e70b5030row2_col17 {\n",
       "            background-color:  #ff0000;\n",
       "            color:  #f1f1f1;\n",
       "        }    #T_9b9ea188_3db3_11ea_98c3_a483e70b5030row2_col18 {\n",
       "            background-color:  #ff0000;\n",
       "            color:  #f1f1f1;\n",
       "        }</style><table id=\"T_9b9ea188_3db3_11ea_98c3_a483e70b5030\" ><thead>    <tr>        <th class=\"index_name level0\" >Sex</th>        <th class=\"col_heading level0 col0\" colspan=9>female</th>        <th class=\"col_heading level0 col9\" colspan=9>male</th>        <th class=\"col_heading level0 col18\" >All</th>    </tr>    <tr>        <th class=\"index_name level1\" >Pclass</th>        <th class=\"col_heading level1 col0\" colspan=3>1</th>        <th class=\"col_heading level1 col3\" colspan=3>2</th>        <th class=\"col_heading level1 col6\" colspan=3>3</th>        <th class=\"col_heading level1 col9\" colspan=3>1</th>        <th class=\"col_heading level1 col12\" colspan=3>2</th>        <th class=\"col_heading level1 col15\" colspan=3>3</th>        <th class=\"col_heading level1 col18\" ></th>    </tr>    <tr>        <th class=\"index_name level2\" >Embarked</th>        <th class=\"col_heading level2 col0\" >C</th>        <th class=\"col_heading level2 col1\" >Q</th>        <th class=\"col_heading level2 col2\" >S</th>        <th class=\"col_heading level2 col3\" >C</th>        <th class=\"col_heading level2 col4\" >Q</th>        <th class=\"col_heading level2 col5\" >S</th>        <th class=\"col_heading level2 col6\" >C</th>        <th class=\"col_heading level2 col7\" >Q</th>        <th class=\"col_heading level2 col8\" >S</th>        <th class=\"col_heading level2 col9\" >C</th>        <th class=\"col_heading level2 col10\" >Q</th>        <th class=\"col_heading level2 col11\" >S</th>        <th class=\"col_heading level2 col12\" >C</th>        <th class=\"col_heading level2 col13\" >Q</th>        <th class=\"col_heading level2 col14\" >S</th>        <th class=\"col_heading level2 col15\" >C</th>        <th class=\"col_heading level2 col16\" >Q</th>        <th class=\"col_heading level2 col17\" >S</th>        <th class=\"col_heading level2 col18\" ></th>    </tr>    <tr>        <th class=\"index_name level0\" >Survived</th>        <th class=\"blank\" ></th>        <th class=\"blank\" ></th>        <th class=\"blank\" ></th>        <th class=\"blank\" ></th>        <th class=\"blank\" ></th>        <th class=\"blank\" ></th>        <th class=\"blank\" ></th>        <th class=\"blank\" ></th>        <th class=\"blank\" ></th>        <th class=\"blank\" ></th>        <th class=\"blank\" ></th>        <th class=\"blank\" ></th>        <th class=\"blank\" ></th>        <th class=\"blank\" ></th>        <th class=\"blank\" ></th>        <th class=\"blank\" ></th>        <th class=\"blank\" ></th>        <th class=\"blank\" ></th>        <th class=\"blank\" ></th>    </tr></thead><tbody>\n",
       "                <tr>\n",
       "                        <th id=\"T_9b9ea188_3db3_11ea_98c3_a483e70b5030level0_row0\" class=\"row_heading level0 row0\" >0</th>\n",
       "                        <td id=\"T_9b9ea188_3db3_11ea_98c3_a483e70b5030row0_col0\" class=\"data row0 col0\" >1</td>\n",
       "                        <td id=\"T_9b9ea188_3db3_11ea_98c3_a483e70b5030row0_col1\" class=\"data row0 col1\" >0</td>\n",
       "                        <td id=\"T_9b9ea188_3db3_11ea_98c3_a483e70b5030row0_col2\" class=\"data row0 col2\" >2</td>\n",
       "                        <td id=\"T_9b9ea188_3db3_11ea_98c3_a483e70b5030row0_col3\" class=\"data row0 col3\" >0</td>\n",
       "                        <td id=\"T_9b9ea188_3db3_11ea_98c3_a483e70b5030row0_col4\" class=\"data row0 col4\" >0</td>\n",
       "                        <td id=\"T_9b9ea188_3db3_11ea_98c3_a483e70b5030row0_col5\" class=\"data row0 col5\" >6</td>\n",
       "                        <td id=\"T_9b9ea188_3db3_11ea_98c3_a483e70b5030row0_col6\" class=\"data row0 col6\" >8</td>\n",
       "                        <td id=\"T_9b9ea188_3db3_11ea_98c3_a483e70b5030row0_col7\" class=\"data row0 col7\" >9</td>\n",
       "                        <td id=\"T_9b9ea188_3db3_11ea_98c3_a483e70b5030row0_col8\" class=\"data row0 col8\" >55</td>\n",
       "                        <td id=\"T_9b9ea188_3db3_11ea_98c3_a483e70b5030row0_col9\" class=\"data row0 col9\" >25</td>\n",
       "                        <td id=\"T_9b9ea188_3db3_11ea_98c3_a483e70b5030row0_col10\" class=\"data row0 col10\" >1</td>\n",
       "                        <td id=\"T_9b9ea188_3db3_11ea_98c3_a483e70b5030row0_col11\" class=\"data row0 col11\" >51</td>\n",
       "                        <td id=\"T_9b9ea188_3db3_11ea_98c3_a483e70b5030row0_col12\" class=\"data row0 col12\" >8</td>\n",
       "                        <td id=\"T_9b9ea188_3db3_11ea_98c3_a483e70b5030row0_col13\" class=\"data row0 col13\" >1</td>\n",
       "                        <td id=\"T_9b9ea188_3db3_11ea_98c3_a483e70b5030row0_col14\" class=\"data row0 col14\" >82</td>\n",
       "                        <td id=\"T_9b9ea188_3db3_11ea_98c3_a483e70b5030row0_col15\" class=\"data row0 col15\" >33</td>\n",
       "                        <td id=\"T_9b9ea188_3db3_11ea_98c3_a483e70b5030row0_col16\" class=\"data row0 col16\" >36</td>\n",
       "                        <td id=\"T_9b9ea188_3db3_11ea_98c3_a483e70b5030row0_col17\" class=\"data row0 col17\" >231</td>\n",
       "                        <td id=\"T_9b9ea188_3db3_11ea_98c3_a483e70b5030row0_col18\" class=\"data row0 col18\" >549</td>\n",
       "            </tr>\n",
       "            <tr>\n",
       "                        <th id=\"T_9b9ea188_3db3_11ea_98c3_a483e70b5030level0_row1\" class=\"row_heading level0 row1\" >1</th>\n",
       "                        <td id=\"T_9b9ea188_3db3_11ea_98c3_a483e70b5030row1_col0\" class=\"data row1 col0\" >42</td>\n",
       "                        <td id=\"T_9b9ea188_3db3_11ea_98c3_a483e70b5030row1_col1\" class=\"data row1 col1\" >1</td>\n",
       "                        <td id=\"T_9b9ea188_3db3_11ea_98c3_a483e70b5030row1_col2\" class=\"data row1 col2\" >46</td>\n",
       "                        <td id=\"T_9b9ea188_3db3_11ea_98c3_a483e70b5030row1_col3\" class=\"data row1 col3\" >7</td>\n",
       "                        <td id=\"T_9b9ea188_3db3_11ea_98c3_a483e70b5030row1_col4\" class=\"data row1 col4\" >2</td>\n",
       "                        <td id=\"T_9b9ea188_3db3_11ea_98c3_a483e70b5030row1_col5\" class=\"data row1 col5\" >61</td>\n",
       "                        <td id=\"T_9b9ea188_3db3_11ea_98c3_a483e70b5030row1_col6\" class=\"data row1 col6\" >15</td>\n",
       "                        <td id=\"T_9b9ea188_3db3_11ea_98c3_a483e70b5030row1_col7\" class=\"data row1 col7\" >24</td>\n",
       "                        <td id=\"T_9b9ea188_3db3_11ea_98c3_a483e70b5030row1_col8\" class=\"data row1 col8\" >33</td>\n",
       "                        <td id=\"T_9b9ea188_3db3_11ea_98c3_a483e70b5030row1_col9\" class=\"data row1 col9\" >17</td>\n",
       "                        <td id=\"T_9b9ea188_3db3_11ea_98c3_a483e70b5030row1_col10\" class=\"data row1 col10\" >0</td>\n",
       "                        <td id=\"T_9b9ea188_3db3_11ea_98c3_a483e70b5030row1_col11\" class=\"data row1 col11\" >28</td>\n",
       "                        <td id=\"T_9b9ea188_3db3_11ea_98c3_a483e70b5030row1_col12\" class=\"data row1 col12\" >2</td>\n",
       "                        <td id=\"T_9b9ea188_3db3_11ea_98c3_a483e70b5030row1_col13\" class=\"data row1 col13\" >0</td>\n",
       "                        <td id=\"T_9b9ea188_3db3_11ea_98c3_a483e70b5030row1_col14\" class=\"data row1 col14\" >15</td>\n",
       "                        <td id=\"T_9b9ea188_3db3_11ea_98c3_a483e70b5030row1_col15\" class=\"data row1 col15\" >10</td>\n",
       "                        <td id=\"T_9b9ea188_3db3_11ea_98c3_a483e70b5030row1_col16\" class=\"data row1 col16\" >3</td>\n",
       "                        <td id=\"T_9b9ea188_3db3_11ea_98c3_a483e70b5030row1_col17\" class=\"data row1 col17\" >34</td>\n",
       "                        <td id=\"T_9b9ea188_3db3_11ea_98c3_a483e70b5030row1_col18\" class=\"data row1 col18\" >340</td>\n",
       "            </tr>\n",
       "            <tr>\n",
       "                        <th id=\"T_9b9ea188_3db3_11ea_98c3_a483e70b5030level0_row2\" class=\"row_heading level0 row2\" >All</th>\n",
       "                        <td id=\"T_9b9ea188_3db3_11ea_98c3_a483e70b5030row2_col0\" class=\"data row2 col0\" >43</td>\n",
       "                        <td id=\"T_9b9ea188_3db3_11ea_98c3_a483e70b5030row2_col1\" class=\"data row2 col1\" >1</td>\n",
       "                        <td id=\"T_9b9ea188_3db3_11ea_98c3_a483e70b5030row2_col2\" class=\"data row2 col2\" >48</td>\n",
       "                        <td id=\"T_9b9ea188_3db3_11ea_98c3_a483e70b5030row2_col3\" class=\"data row2 col3\" >7</td>\n",
       "                        <td id=\"T_9b9ea188_3db3_11ea_98c3_a483e70b5030row2_col4\" class=\"data row2 col4\" >2</td>\n",
       "                        <td id=\"T_9b9ea188_3db3_11ea_98c3_a483e70b5030row2_col5\" class=\"data row2 col5\" >67</td>\n",
       "                        <td id=\"T_9b9ea188_3db3_11ea_98c3_a483e70b5030row2_col6\" class=\"data row2 col6\" >23</td>\n",
       "                        <td id=\"T_9b9ea188_3db3_11ea_98c3_a483e70b5030row2_col7\" class=\"data row2 col7\" >33</td>\n",
       "                        <td id=\"T_9b9ea188_3db3_11ea_98c3_a483e70b5030row2_col8\" class=\"data row2 col8\" >88</td>\n",
       "                        <td id=\"T_9b9ea188_3db3_11ea_98c3_a483e70b5030row2_col9\" class=\"data row2 col9\" >42</td>\n",
       "                        <td id=\"T_9b9ea188_3db3_11ea_98c3_a483e70b5030row2_col10\" class=\"data row2 col10\" >1</td>\n",
       "                        <td id=\"T_9b9ea188_3db3_11ea_98c3_a483e70b5030row2_col11\" class=\"data row2 col11\" >79</td>\n",
       "                        <td id=\"T_9b9ea188_3db3_11ea_98c3_a483e70b5030row2_col12\" class=\"data row2 col12\" >10</td>\n",
       "                        <td id=\"T_9b9ea188_3db3_11ea_98c3_a483e70b5030row2_col13\" class=\"data row2 col13\" >1</td>\n",
       "                        <td id=\"T_9b9ea188_3db3_11ea_98c3_a483e70b5030row2_col14\" class=\"data row2 col14\" >97</td>\n",
       "                        <td id=\"T_9b9ea188_3db3_11ea_98c3_a483e70b5030row2_col15\" class=\"data row2 col15\" >43</td>\n",
       "                        <td id=\"T_9b9ea188_3db3_11ea_98c3_a483e70b5030row2_col16\" class=\"data row2 col16\" >39</td>\n",
       "                        <td id=\"T_9b9ea188_3db3_11ea_98c3_a483e70b5030row2_col17\" class=\"data row2 col17\" >265</td>\n",
       "                        <td id=\"T_9b9ea188_3db3_11ea_98c3_a483e70b5030row2_col18\" class=\"data row2 col18\" >889</td>\n",
       "            </tr>\n",
       "    </tbody></table>"
      ],
      "text/plain": [
       "<pandas.io.formats.style.Styler at 0x1058b8f10>"
      ]
     },
     "execution_count": 37,
     "metadata": {},
     "output_type": "execute_result"
    }
   ],
   "source": [
    "pd.crosstab([df_train.Survived], [df_train.Sex, df_train.Pclass, df_train.Embarked], margins=True).style.background_gradient(cmap='autumn_r')\n"
   ]
  },
  {
   "cell_type": "code",
   "execution_count": 33,
   "metadata": {},
   "outputs": [],
   "source": [
    "# model 3\n",
    "df_test['Survived'] = 0\n",
    "\n",
    "# all women survived\n",
    "df_test.loc[ (df_test.Sex == 'female'), 'Survived'] = 1\n",
    "\n",
    "# except for those in Pclass 3 and embarked in S\n",
    "df_test.loc[ (df_test.Sex == 'female') & (df_test.Pclass == 3) & (df_test.Embarked == 'S') , 'Survived'] = 0\n",
    "\n",
    "#df_test[['PassengerId', 'Survived']].to_csv('embarked_pclass_sex.csv', index=False)"
   ]
  },
  {
   "cell_type": "markdown",
   "metadata": {},
   "source": [
    "third model : based on PClass, Sex and Embarked , submission : 0.779 accuracy"
   ]
  },
  {
   "cell_type": "markdown",
   "metadata": {},
   "source": [
    "**Age: continuous numerical to 8 bins**"
   ]
  },
  {
   "cell_type": "code",
   "execution_count": 24,
   "metadata": {},
   "outputs": [
    {
     "data": {
      "image/png": "[encoded data removed]",
      "text/plain": [
       "<Figure size 430.5x360 with 1 Axes>"
      ]
     },
     "metadata": {
      "needs_background": "light"
     },
     "output_type": "display_data"
    }
   ],
   "source": [
    "sns.catplot('Age','Survived',hue='Sex',kind='point',data=df_train);"
   ]
  },
  {
   "cell_type": "code",
   "execution_count": 25,
   "metadata": {},
   "outputs": [],
   "source": [
    "for df in [df_train, df_test]:\n",
    "    df['Age_bin']=np.nan\n",
    "    for i in range(8,0,-1):\n",
    "        df.loc[ df['Age'] <= i*10, 'Age_bin'] = i"
   ]
  },
  {
   "cell_type": "code",
   "execution_count": 26,
   "metadata": {},
   "outputs": [
    {
     "name": "stdout",
     "output_type": "stream",
     "text": [
      "    Age  Age_bin\n",
      "0  22.0      3.0\n",
      "1  38.0      4.0\n",
      "2  26.0      3.0\n",
      "3  35.0      4.0\n",
      "4  35.0      4.0\n",
      "5   NaN      NaN\n",
      "6  54.0      6.0\n",
      "7   2.0      1.0\n",
      "8  27.0      3.0\n",
      "9  14.0      2.0\n"
     ]
    }
   ],
   "source": [
    "print(df_train[['Age' , 'Age_bin']].head(10))"
   ]
  },
  {
   "cell_type": "code",
   "execution_count": 27,
   "metadata": {},
   "outputs": [
    {
     "data": {
      "image/png": "[encoded data removed]",
      "text/plain": [
       "<Figure size 430.5x360 with 1 Axes>"
      ]
     },
     "metadata": {
      "needs_background": "light"
     },
     "output_type": "display_data"
    }
   ],
   "source": [
    "sns.catplot('Age_bin','Survived',hue='Sex',kind='point',data=df_train);"
   ]
  },
  {
   "cell_type": "code",
   "execution_count": 28,
   "metadata": {},
   "outputs": [
    {
     "data": {
      "image/png": "[encoded data removed]",
      "text/plain": [
       "<Figure size 1080x720 with 6 Axes>"
      ]
     },
     "metadata": {
      "needs_background": "light"
     },
     "output_type": "display_data"
    }
   ],
   "source": [
    "sns.catplot('Age_bin','Survived', col='Pclass' , row = 'Sex', kind='point', data=df_train);\n"
   ]
  },
  {
   "cell_type": "code",
   "execution_count": 29,
   "metadata": {},
   "outputs": [
    {
     "data": {
      "text/html": [
       "<style  type=\"text/css\" >\n",
       "    #T_c3340ffe_3db2_11ea_98c3_a483e70b5030row0_col0 {\n",
       "            background-color:  #ffaa00;\n",
       "            color:  #000000;\n",
       "        }    #T_c3340ffe_3db2_11ea_98c3_a483e70b5030row0_col1 {\n",
       "            background-color:  #ffff00;\n",
       "            color:  #000000;\n",
       "        }    #T_c3340ffe_3db2_11ea_98c3_a483e70b5030row0_col2 {\n",
       "            background-color:  #ffea00;\n",
       "            color:  #000000;\n",
       "        }    #T_c3340ffe_3db2_11ea_98c3_a483e70b5030row0_col3 {\n",
       "            background-color:  #ffff00;\n",
       "            color:  #000000;\n",
       "        }    #T_c3340ffe_3db2_11ea_98c3_a483e70b5030row0_col4 {\n",
       "            background-color:  #ffff00;\n",
       "            color:  #000000;\n",
       "        }    #T_c3340ffe_3db2_11ea_98c3_a483e70b5030row0_col5 {\n",
       "            background-color:  #ffee00;\n",
       "            color:  #000000;\n",
       "        }    #T_c3340ffe_3db2_11ea_98c3_a483e70b5030row0_col6 {\n",
       "            background-color:  #ffff00;\n",
       "            color:  #000000;\n",
       "        }    #T_c3340ffe_3db2_11ea_98c3_a483e70b5030row0_col7 {\n",
       "            background-color:  #fff300;\n",
       "            color:  #000000;\n",
       "        }    #T_c3340ffe_3db2_11ea_98c3_a483e70b5030row0_col8 {\n",
       "            background-color:  #fffb00;\n",
       "            color:  #000000;\n",
       "        }    #T_c3340ffe_3db2_11ea_98c3_a483e70b5030row0_col9 {\n",
       "            background-color:  #ffff00;\n",
       "            color:  #000000;\n",
       "        }    #T_c3340ffe_3db2_11ea_98c3_a483e70b5030row0_col10 {\n",
       "            background-color:  #ffff00;\n",
       "            color:  #000000;\n",
       "        }    #T_c3340ffe_3db2_11ea_98c3_a483e70b5030row0_col11 {\n",
       "            background-color:  #fff700;\n",
       "            color:  #000000;\n",
       "        }    #T_c3340ffe_3db2_11ea_98c3_a483e70b5030row0_col12 {\n",
       "            background-color:  #ffff00;\n",
       "            color:  #000000;\n",
       "        }    #T_c3340ffe_3db2_11ea_98c3_a483e70b5030row0_col13 {\n",
       "            background-color:  #ffff00;\n",
       "            color:  #000000;\n",
       "        }    #T_c3340ffe_3db2_11ea_98c3_a483e70b5030row0_col14 {\n",
       "            background-color:  #ffbb00;\n",
       "            color:  #000000;\n",
       "        }    #T_c3340ffe_3db2_11ea_98c3_a483e70b5030row0_col15 {\n",
       "            background-color:  #ffff00;\n",
       "            color:  #000000;\n",
       "        }    #T_c3340ffe_3db2_11ea_98c3_a483e70b5030row0_col16 {\n",
       "            background-color:  #ffea00;\n",
       "            color:  #000000;\n",
       "        }    #T_c3340ffe_3db2_11ea_98c3_a483e70b5030row0_col17 {\n",
       "            background-color:  #ffff00;\n",
       "            color:  #000000;\n",
       "        }    #T_c3340ffe_3db2_11ea_98c3_a483e70b5030row0_col18 {\n",
       "            background-color:  #ffff00;\n",
       "            color:  #000000;\n",
       "        }    #T_c3340ffe_3db2_11ea_98c3_a483e70b5030row0_col19 {\n",
       "            background-color:  #ffff00;\n",
       "            color:  #000000;\n",
       "        }    #T_c3340ffe_3db2_11ea_98c3_a483e70b5030row0_col20 {\n",
       "            background-color:  #ffff00;\n",
       "            color:  #000000;\n",
       "        }    #T_c3340ffe_3db2_11ea_98c3_a483e70b5030row0_col21 {\n",
       "            background-color:  #ffff00;\n",
       "            color:  #000000;\n",
       "        }    #T_c3340ffe_3db2_11ea_98c3_a483e70b5030row0_col22 {\n",
       "            background-color:  #ffff00;\n",
       "            color:  #000000;\n",
       "        }    #T_c3340ffe_3db2_11ea_98c3_a483e70b5030row0_col23 {\n",
       "            background-color:  #ffff00;\n",
       "            color:  #000000;\n",
       "        }    #T_c3340ffe_3db2_11ea_98c3_a483e70b5030row1_col0 {\n",
       "            background-color:  #ffff00;\n",
       "            color:  #000000;\n",
       "        }    #T_c3340ffe_3db2_11ea_98c3_a483e70b5030row1_col1 {\n",
       "            background-color:  #ff8700;\n",
       "            color:  #000000;\n",
       "        }    #T_c3340ffe_3db2_11ea_98c3_a483e70b5030row1_col2 {\n",
       "            background-color:  #ffea00;\n",
       "            color:  #000000;\n",
       "        }    #T_c3340ffe_3db2_11ea_98c3_a483e70b5030row1_col3 {\n",
       "            background-color:  #ff4700;\n",
       "            color:  #f1f1f1;\n",
       "        }    #T_c3340ffe_3db2_11ea_98c3_a483e70b5030row1_col4 {\n",
       "            background-color:  #ff8e00;\n",
       "            color:  #000000;\n",
       "        }    #T_c3340ffe_3db2_11ea_98c3_a483e70b5030row1_col5 {\n",
       "            background-color:  #ffea00;\n",
       "            color:  #000000;\n",
       "        }    #T_c3340ffe_3db2_11ea_98c3_a483e70b5030row1_col6 {\n",
       "            background-color:  #ff8300;\n",
       "            color:  #000000;\n",
       "        }    #T_c3340ffe_3db2_11ea_98c3_a483e70b5030row1_col7 {\n",
       "            background-color:  #ff9700;\n",
       "            color:  #000000;\n",
       "        }    #T_c3340ffe_3db2_11ea_98c3_a483e70b5030row1_col8 {\n",
       "            background-color:  #fffb00;\n",
       "            color:  #000000;\n",
       "        }    #T_c3340ffe_3db2_11ea_98c3_a483e70b5030row1_col9 {\n",
       "            background-color:  #ff8200;\n",
       "            color:  #000000;\n",
       "        }    #T_c3340ffe_3db2_11ea_98c3_a483e70b5030row1_col10 {\n",
       "            background-color:  #ffa400;\n",
       "            color:  #000000;\n",
       "        }    #T_c3340ffe_3db2_11ea_98c3_a483e70b5030row1_col11 {\n",
       "            background-color:  #ffff00;\n",
       "            color:  #000000;\n",
       "        }    #T_c3340ffe_3db2_11ea_98c3_a483e70b5030row1_col12 {\n",
       "            background-color:  #ffb100;\n",
       "            color:  #000000;\n",
       "        }    #T_c3340ffe_3db2_11ea_98c3_a483e70b5030row1_col13 {\n",
       "            background-color:  #ff8e00;\n",
       "            color:  #000000;\n",
       "        }    #T_c3340ffe_3db2_11ea_98c3_a483e70b5030row1_col14 {\n",
       "            background-color:  #ffff00;\n",
       "            color:  #000000;\n",
       "        }    #T_c3340ffe_3db2_11ea_98c3_a483e70b5030row1_col15 {\n",
       "            background-color:  #ff8f00;\n",
       "            color:  #000000;\n",
       "        }    #T_c3340ffe_3db2_11ea_98c3_a483e70b5030row1_col16 {\n",
       "            background-color:  #ffd500;\n",
       "            color:  #000000;\n",
       "        }    #T_c3340ffe_3db2_11ea_98c3_a483e70b5030row1_col17 {\n",
       "            background-color:  #ffff00;\n",
       "            color:  #000000;\n",
       "        }    #T_c3340ffe_3db2_11ea_98c3_a483e70b5030row1_col18 {\n",
       "            background-color:  #ffd100;\n",
       "            color:  #000000;\n",
       "        }    #T_c3340ffe_3db2_11ea_98c3_a483e70b5030row1_col19 {\n",
       "            background-color:  #ffff00;\n",
       "            color:  #000000;\n",
       "        }    #T_c3340ffe_3db2_11ea_98c3_a483e70b5030row1_col20 {\n",
       "            background-color:  #ffaa00;\n",
       "            color:  #000000;\n",
       "        }    #T_c3340ffe_3db2_11ea_98c3_a483e70b5030row1_col21 {\n",
       "            background-color:  #ffff00;\n",
       "            color:  #000000;\n",
       "        }    #T_c3340ffe_3db2_11ea_98c3_a483e70b5030row1_col22 {\n",
       "            background-color:  #ffff00;\n",
       "            color:  #000000;\n",
       "        }    #T_c3340ffe_3db2_11ea_98c3_a483e70b5030row1_col23 {\n",
       "            background-color:  #ffcb00;\n",
       "            color:  #000000;\n",
       "        }    #T_c3340ffe_3db2_11ea_98c3_a483e70b5030row2_col0 {\n",
       "            background-color:  #ffff00;\n",
       "            color:  #000000;\n",
       "        }    #T_c3340ffe_3db2_11ea_98c3_a483e70b5030row2_col1 {\n",
       "            background-color:  #ffff00;\n",
       "            color:  #000000;\n",
       "        }    #T_c3340ffe_3db2_11ea_98c3_a483e70b5030row2_col2 {\n",
       "            background-color:  #ffd500;\n",
       "            color:  #000000;\n",
       "        }    #T_c3340ffe_3db2_11ea_98c3_a483e70b5030row2_col3 {\n",
       "            background-color:  #ffd500;\n",
       "            color:  #000000;\n",
       "        }    #T_c3340ffe_3db2_11ea_98c3_a483e70b5030row2_col4 {\n",
       "            background-color:  #ff7f00;\n",
       "            color:  #000000;\n",
       "        }    #T_c3340ffe_3db2_11ea_98c3_a483e70b5030row2_col5 {\n",
       "            background-color:  #ff7100;\n",
       "            color:  #000000;\n",
       "        }    #T_c3340ffe_3db2_11ea_98c3_a483e70b5030row2_col6 {\n",
       "            background-color:  #ffc400;\n",
       "            color:  #000000;\n",
       "        }    #T_c3340ffe_3db2_11ea_98c3_a483e70b5030row2_col7 {\n",
       "            background-color:  #ff7500;\n",
       "            color:  #000000;\n",
       "        }    #T_c3340ffe_3db2_11ea_98c3_a483e70b5030row2_col8 {\n",
       "            background-color:  #ff6600;\n",
       "            color:  #000000;\n",
       "        }    #T_c3340ffe_3db2_11ea_98c3_a483e70b5030row2_col9 {\n",
       "            background-color:  #ffc100;\n",
       "            color:  #000000;\n",
       "        }    #T_c3340ffe_3db2_11ea_98c3_a483e70b5030row2_col10 {\n",
       "            background-color:  #ff7900;\n",
       "            color:  #000000;\n",
       "        }    #T_c3340ffe_3db2_11ea_98c3_a483e70b5030row2_col11 {\n",
       "            background-color:  #ff5e00;\n",
       "            color:  #000000;\n",
       "        }    #T_c3340ffe_3db2_11ea_98c3_a483e70b5030row2_col12 {\n",
       "            background-color:  #ff9c00;\n",
       "            color:  #000000;\n",
       "        }    #T_c3340ffe_3db2_11ea_98c3_a483e70b5030row2_col13 {\n",
       "            background-color:  #ff9c00;\n",
       "            color:  #000000;\n",
       "        }    #T_c3340ffe_3db2_11ea_98c3_a483e70b5030row2_col14 {\n",
       "            background-color:  #ff5500;\n",
       "            color:  #000000;\n",
       "        }    #T_c3340ffe_3db2_11ea_98c3_a483e70b5030row2_col15 {\n",
       "            background-color:  #ff9900;\n",
       "            color:  #000000;\n",
       "        }    #T_c3340ffe_3db2_11ea_98c3_a483e70b5030row2_col16 {\n",
       "            background-color:  #ff3f00;\n",
       "            color:  #f1f1f1;\n",
       "        }    #T_c3340ffe_3db2_11ea_98c3_a483e70b5030row2_col17 {\n",
       "            background-color:  #ff0000;\n",
       "            color:  #f1f1f1;\n",
       "        }    #T_c3340ffe_3db2_11ea_98c3_a483e70b5030row2_col18 {\n",
       "            background-color:  #ff2e00;\n",
       "            color:  #f1f1f1;\n",
       "        }    #T_c3340ffe_3db2_11ea_98c3_a483e70b5030row2_col19 {\n",
       "            background-color:  #ff5500;\n",
       "            color:  #000000;\n",
       "        }    #T_c3340ffe_3db2_11ea_98c3_a483e70b5030row2_col20 {\n",
       "            background-color:  #ff5500;\n",
       "            color:  #000000;\n",
       "        }    #T_c3340ffe_3db2_11ea_98c3_a483e70b5030row2_col21 {\n",
       "            background-color:  #ff5500;\n",
       "            color:  #000000;\n",
       "        }    #T_c3340ffe_3db2_11ea_98c3_a483e70b5030row2_col22 {\n",
       "            background-color:  #ff0000;\n",
       "            color:  #f1f1f1;\n",
       "        }    #T_c3340ffe_3db2_11ea_98c3_a483e70b5030row2_col23 {\n",
       "            background-color:  #ff8b00;\n",
       "            color:  #000000;\n",
       "        }    #T_c3340ffe_3db2_11ea_98c3_a483e70b5030row3_col0 {\n",
       "            background-color:  #ff5500;\n",
       "            color:  #000000;\n",
       "        }    #T_c3340ffe_3db2_11ea_98c3_a483e70b5030row3_col1 {\n",
       "            background-color:  #ff7800;\n",
       "            color:  #000000;\n",
       "        }    #T_c3340ffe_3db2_11ea_98c3_a483e70b5030row3_col2 {\n",
       "            background-color:  #ffff00;\n",
       "            color:  #000000;\n",
       "        }    #T_c3340ffe_3db2_11ea_98c3_a483e70b5030row3_col3 {\n",
       "            background-color:  #ffe300;\n",
       "            color:  #000000;\n",
       "        }    #T_c3340ffe_3db2_11ea_98c3_a483e70b5030row3_col4 {\n",
       "            background-color:  #fff100;\n",
       "            color:  #000000;\n",
       "        }    #T_c3340ffe_3db2_11ea_98c3_a483e70b5030row3_col5 {\n",
       "            background-color:  #ffff00;\n",
       "            color:  #000000;\n",
       "        }    #T_c3340ffe_3db2_11ea_98c3_a483e70b5030row3_col6 {\n",
       "            background-color:  #ffcb00;\n",
       "            color:  #000000;\n",
       "        }    #T_c3340ffe_3db2_11ea_98c3_a483e70b5030row3_col7 {\n",
       "            background-color:  #ffff00;\n",
       "            color:  #000000;\n",
       "        }    #T_c3340ffe_3db2_11ea_98c3_a483e70b5030row3_col8 {\n",
       "            background-color:  #ffff00;\n",
       "            color:  #000000;\n",
       "        }    #T_c3340ffe_3db2_11ea_98c3_a483e70b5030row3_col9 {\n",
       "            background-color:  #ffbc00;\n",
       "            color:  #000000;\n",
       "        }    #T_c3340ffe_3db2_11ea_98c3_a483e70b5030row3_col10 {\n",
       "            background-color:  #fff300;\n",
       "            color:  #000000;\n",
       "        }    #T_c3340ffe_3db2_11ea_98c3_a483e70b5030row3_col11 {\n",
       "            background-color:  #fffb00;\n",
       "            color:  #000000;\n",
       "        }    #T_c3340ffe_3db2_11ea_98c3_a483e70b5030row3_col12 {\n",
       "            background-color:  #ffc700;\n",
       "            color:  #000000;\n",
       "        }    #T_c3340ffe_3db2_11ea_98c3_a483e70b5030row3_col13 {\n",
       "            background-color:  #ffff00;\n",
       "            color:  #000000;\n",
       "        }    #T_c3340ffe_3db2_11ea_98c3_a483e70b5030row3_col14 {\n",
       "            background-color:  #ffee00;\n",
       "            color:  #000000;\n",
       "        }    #T_c3340ffe_3db2_11ea_98c3_a483e70b5030row3_col15 {\n",
       "            background-color:  #ffd700;\n",
       "            color:  #000000;\n",
       "        }    #T_c3340ffe_3db2_11ea_98c3_a483e70b5030row3_col16 {\n",
       "            background-color:  #ffff00;\n",
       "            color:  #000000;\n",
       "        }    #T_c3340ffe_3db2_11ea_98c3_a483e70b5030row3_col17 {\n",
       "            background-color:  #ffff00;\n",
       "            color:  #000000;\n",
       "        }    #T_c3340ffe_3db2_11ea_98c3_a483e70b5030row3_col18 {\n",
       "            background-color:  #ffff00;\n",
       "            color:  #000000;\n",
       "        }    #T_c3340ffe_3db2_11ea_98c3_a483e70b5030row3_col19 {\n",
       "            background-color:  #ffaa00;\n",
       "            color:  #000000;\n",
       "        }    #T_c3340ffe_3db2_11ea_98c3_a483e70b5030row3_col20 {\n",
       "            background-color:  #ffff00;\n",
       "            color:  #000000;\n",
       "        }    #T_c3340ffe_3db2_11ea_98c3_a483e70b5030row3_col21 {\n",
       "            background-color:  #ffaa00;\n",
       "            color:  #000000;\n",
       "        }    #T_c3340ffe_3db2_11ea_98c3_a483e70b5030row3_col22 {\n",
       "            background-color:  #ffff00;\n",
       "            color:  #000000;\n",
       "        }    #T_c3340ffe_3db2_11ea_98c3_a483e70b5030row3_col23 {\n",
       "            background-color:  #fff400;\n",
       "            color:  #000000;\n",
       "        }    #T_c3340ffe_3db2_11ea_98c3_a483e70b5030row4_col0 {\n",
       "            background-color:  #ff0000;\n",
       "            color:  #f1f1f1;\n",
       "        }    #T_c3340ffe_3db2_11ea_98c3_a483e70b5030row4_col1 {\n",
       "            background-color:  #ff0000;\n",
       "            color:  #f1f1f1;\n",
       "        }    #T_c3340ffe_3db2_11ea_98c3_a483e70b5030row4_col2 {\n",
       "            background-color:  #ff0000;\n",
       "            color:  #f1f1f1;\n",
       "        }    #T_c3340ffe_3db2_11ea_98c3_a483e70b5030row4_col3 {\n",
       "            background-color:  #ff0000;\n",
       "            color:  #f1f1f1;\n",
       "        }    #T_c3340ffe_3db2_11ea_98c3_a483e70b5030row4_col4 {\n",
       "            background-color:  #ff0000;\n",
       "            color:  #f1f1f1;\n",
       "        }    #T_c3340ffe_3db2_11ea_98c3_a483e70b5030row4_col5 {\n",
       "            background-color:  #ff0000;\n",
       "            color:  #f1f1f1;\n",
       "        }    #T_c3340ffe_3db2_11ea_98c3_a483e70b5030row4_col6 {\n",
       "            background-color:  #ff0000;\n",
       "            color:  #f1f1f1;\n",
       "        }    #T_c3340ffe_3db2_11ea_98c3_a483e70b5030row4_col7 {\n",
       "            background-color:  #ff0000;\n",
       "            color:  #f1f1f1;\n",
       "        }    #T_c3340ffe_3db2_11ea_98c3_a483e70b5030row4_col8 {\n",
       "            background-color:  #ff0000;\n",
       "            color:  #f1f1f1;\n",
       "        }    #T_c3340ffe_3db2_11ea_98c3_a483e70b5030row4_col9 {\n",
       "            background-color:  #ff0000;\n",
       "            color:  #f1f1f1;\n",
       "        }    #T_c3340ffe_3db2_11ea_98c3_a483e70b5030row4_col10 {\n",
       "            background-color:  #ff0000;\n",
       "            color:  #f1f1f1;\n",
       "        }    #T_c3340ffe_3db2_11ea_98c3_a483e70b5030row4_col11 {\n",
       "            background-color:  #ff0000;\n",
       "            color:  #f1f1f1;\n",
       "        }    #T_c3340ffe_3db2_11ea_98c3_a483e70b5030row4_col12 {\n",
       "            background-color:  #ff0000;\n",
       "            color:  #f1f1f1;\n",
       "        }    #T_c3340ffe_3db2_11ea_98c3_a483e70b5030row4_col13 {\n",
       "            background-color:  #ff0000;\n",
       "            color:  #f1f1f1;\n",
       "        }    #T_c3340ffe_3db2_11ea_98c3_a483e70b5030row4_col14 {\n",
       "            background-color:  #ff0000;\n",
       "            color:  #f1f1f1;\n",
       "        }    #T_c3340ffe_3db2_11ea_98c3_a483e70b5030row4_col15 {\n",
       "            background-color:  #ff0000;\n",
       "            color:  #f1f1f1;\n",
       "        }    #T_c3340ffe_3db2_11ea_98c3_a483e70b5030row4_col16 {\n",
       "            background-color:  #ff0000;\n",
       "            color:  #f1f1f1;\n",
       "        }    #T_c3340ffe_3db2_11ea_98c3_a483e70b5030row4_col17 {\n",
       "            background-color:  #ff0000;\n",
       "            color:  #f1f1f1;\n",
       "        }    #T_c3340ffe_3db2_11ea_98c3_a483e70b5030row4_col18 {\n",
       "            background-color:  #ff0000;\n",
       "            color:  #f1f1f1;\n",
       "        }    #T_c3340ffe_3db2_11ea_98c3_a483e70b5030row4_col19 {\n",
       "            background-color:  #ff0000;\n",
       "            color:  #f1f1f1;\n",
       "        }    #T_c3340ffe_3db2_11ea_98c3_a483e70b5030row4_col20 {\n",
       "            background-color:  #ff0000;\n",
       "            color:  #f1f1f1;\n",
       "        }    #T_c3340ffe_3db2_11ea_98c3_a483e70b5030row4_col21 {\n",
       "            background-color:  #ff0000;\n",
       "            color:  #f1f1f1;\n",
       "        }    #T_c3340ffe_3db2_11ea_98c3_a483e70b5030row4_col22 {\n",
       "            background-color:  #ff0000;\n",
       "            color:  #f1f1f1;\n",
       "        }    #T_c3340ffe_3db2_11ea_98c3_a483e70b5030row4_col23 {\n",
       "            background-color:  #ff0000;\n",
       "            color:  #f1f1f1;\n",
       "        }</style><table id=\"T_c3340ffe_3db2_11ea_98c3_a483e70b5030\" ><thead>    <tr>        <th class=\"blank\" ></th>        <th class=\"index_name level0\" >Age_bin</th>        <th class=\"col_heading level0 col0\" colspan=3>1.0</th>        <th class=\"col_heading level0 col3\" colspan=3>2.0</th>        <th class=\"col_heading level0 col6\" colspan=3>3.0</th>        <th class=\"col_heading level0 col9\" colspan=3>4.0</th>        <th class=\"col_heading level0 col12\" colspan=3>5.0</th>        <th class=\"col_heading level0 col15\" colspan=3>6.0</th>        <th class=\"col_heading level0 col18\" colspan=3>7.0</th>        <th class=\"col_heading level0 col21\" colspan=2>8.0</th>        <th class=\"col_heading level0 col23\" >All</th>    </tr>    <tr>        <th class=\"blank\" ></th>        <th class=\"index_name level1\" >Pclass</th>        <th class=\"col_heading level1 col0\" >1</th>        <th class=\"col_heading level1 col1\" >2</th>        <th class=\"col_heading level1 col2\" >3</th>        <th class=\"col_heading level1 col3\" >1</th>        <th class=\"col_heading level1 col4\" >2</th>        <th class=\"col_heading level1 col5\" >3</th>        <th class=\"col_heading level1 col6\" >1</th>        <th class=\"col_heading level1 col7\" >2</th>        <th class=\"col_heading level1 col8\" >3</th>        <th class=\"col_heading level1 col9\" >1</th>        <th class=\"col_heading level1 col10\" >2</th>        <th class=\"col_heading level1 col11\" >3</th>        <th class=\"col_heading level1 col12\" >1</th>        <th class=\"col_heading level1 col13\" >2</th>        <th class=\"col_heading level1 col14\" >3</th>        <th class=\"col_heading level1 col15\" >1</th>        <th class=\"col_heading level1 col16\" >2</th>        <th class=\"col_heading level1 col17\" >3</th>        <th class=\"col_heading level1 col18\" >1</th>        <th class=\"col_heading level1 col19\" >2</th>        <th class=\"col_heading level1 col20\" >3</th>        <th class=\"col_heading level1 col21\" >1</th>        <th class=\"col_heading level1 col22\" >3</th>        <th class=\"col_heading level1 col23\" ></th>    </tr>    <tr>        <th class=\"index_name level0\" >Sex</th>        <th class=\"index_name level1\" >Survived</th>        <th class=\"blank\" ></th>        <th class=\"blank\" ></th>        <th class=\"blank\" ></th>        <th class=\"blank\" ></th>        <th class=\"blank\" ></th>        <th class=\"blank\" ></th>        <th class=\"blank\" ></th>        <th class=\"blank\" ></th>        <th class=\"blank\" ></th>        <th class=\"blank\" ></th>        <th class=\"blank\" ></th>        <th class=\"blank\" ></th>        <th class=\"blank\" ></th>        <th class=\"blank\" ></th>        <th class=\"blank\" ></th>        <th class=\"blank\" ></th>        <th class=\"blank\" ></th>        <th class=\"blank\" ></th>        <th class=\"blank\" ></th>        <th class=\"blank\" ></th>        <th class=\"blank\" ></th>        <th class=\"blank\" ></th>        <th class=\"blank\" ></th>        <th class=\"blank\" ></th>    </tr></thead><tbody>\n",
       "                <tr>\n",
       "                        <th id=\"T_c3340ffe_3db2_11ea_98c3_a483e70b5030level0_row0\" class=\"row_heading level0 row0\" rowspan=2>female</th>\n",
       "                        <th id=\"T_c3340ffe_3db2_11ea_98c3_a483e70b5030level1_row0\" class=\"row_heading level1 row0\" >0</th>\n",
       "                        <td id=\"T_c3340ffe_3db2_11ea_98c3_a483e70b5030row0_col0\" class=\"data row0 col0\" >1</td>\n",
       "                        <td id=\"T_c3340ffe_3db2_11ea_98c3_a483e70b5030row0_col1\" class=\"data row0 col1\" >0</td>\n",
       "                        <td id=\"T_c3340ffe_3db2_11ea_98c3_a483e70b5030row0_col2\" class=\"data row0 col2\" >11</td>\n",
       "                        <td id=\"T_c3340ffe_3db2_11ea_98c3_a483e70b5030row0_col3\" class=\"data row0 col3\" >0</td>\n",
       "                        <td id=\"T_c3340ffe_3db2_11ea_98c3_a483e70b5030row0_col4\" class=\"data row0 col4\" >0</td>\n",
       "                        <td id=\"T_c3340ffe_3db2_11ea_98c3_a483e70b5030row0_col5\" class=\"data row0 col5\" >12</td>\n",
       "                        <td id=\"T_c3340ffe_3db2_11ea_98c3_a483e70b5030row0_col6\" class=\"data row0 col6\" >1</td>\n",
       "                        <td id=\"T_c3340ffe_3db2_11ea_98c3_a483e70b5030row0_col7\" class=\"data row0 col7\" >3</td>\n",
       "                        <td id=\"T_c3340ffe_3db2_11ea_98c3_a483e70b5030row0_col8\" class=\"data row0 col8\" >16</td>\n",
       "                        <td id=\"T_c3340ffe_3db2_11ea_98c3_a483e70b5030row0_col9\" class=\"data row0 col9\" >0</td>\n",
       "                        <td id=\"T_c3340ffe_3db2_11ea_98c3_a483e70b5030row0_col10\" class=\"data row0 col10\" >1</td>\n",
       "                        <td id=\"T_c3340ffe_3db2_11ea_98c3_a483e70b5030row0_col11\" class=\"data row0 col11\" >8</td>\n",
       "                        <td id=\"T_c3340ffe_3db2_11ea_98c3_a483e70b5030row0_col12\" class=\"data row0 col12\" >1</td>\n",
       "                        <td id=\"T_c3340ffe_3db2_11ea_98c3_a483e70b5030row0_col13\" class=\"data row0 col13\" >1</td>\n",
       "                        <td id=\"T_c3340ffe_3db2_11ea_98c3_a483e70b5030row0_col14\" class=\"data row0 col14\" >8</td>\n",
       "                        <td id=\"T_c3340ffe_3db2_11ea_98c3_a483e70b5030row0_col15\" class=\"data row0 col15\" >0</td>\n",
       "                        <td id=\"T_c3340ffe_3db2_11ea_98c3_a483e70b5030row0_col16\" class=\"data row0 col16\" >1</td>\n",
       "                        <td id=\"T_c3340ffe_3db2_11ea_98c3_a483e70b5030row0_col17\" class=\"data row0 col17\" >0</td>\n",
       "                        <td id=\"T_c3340ffe_3db2_11ea_98c3_a483e70b5030row0_col18\" class=\"data row0 col18\" >0</td>\n",
       "                        <td id=\"T_c3340ffe_3db2_11ea_98c3_a483e70b5030row0_col19\" class=\"data row0 col19\" >0</td>\n",
       "                        <td id=\"T_c3340ffe_3db2_11ea_98c3_a483e70b5030row0_col20\" class=\"data row0 col20\" >0</td>\n",
       "                        <td id=\"T_c3340ffe_3db2_11ea_98c3_a483e70b5030row0_col21\" class=\"data row0 col21\" >0</td>\n",
       "                        <td id=\"T_c3340ffe_3db2_11ea_98c3_a483e70b5030row0_col22\" class=\"data row0 col22\" >0</td>\n",
       "                        <td id=\"T_c3340ffe_3db2_11ea_98c3_a483e70b5030row0_col23\" class=\"data row0 col23\" >64</td>\n",
       "            </tr>\n",
       "            <tr>\n",
       "                                <th id=\"T_c3340ffe_3db2_11ea_98c3_a483e70b5030level1_row1\" class=\"row_heading level1 row1\" >1</th>\n",
       "                        <td id=\"T_c3340ffe_3db2_11ea_98c3_a483e70b5030row1_col0\" class=\"data row1 col0\" >0</td>\n",
       "                        <td id=\"T_c3340ffe_3db2_11ea_98c3_a483e70b5030row1_col1\" class=\"data row1 col1\" >8</td>\n",
       "                        <td id=\"T_c3340ffe_3db2_11ea_98c3_a483e70b5030row1_col2\" class=\"data row1 col2\" >11</td>\n",
       "                        <td id=\"T_c3340ffe_3db2_11ea_98c3_a483e70b5030row1_col3\" class=\"data row1 col3\" >13</td>\n",
       "                        <td id=\"T_c3340ffe_3db2_11ea_98c3_a483e70b5030row1_col4\" class=\"data row1 col4\" >8</td>\n",
       "                        <td id=\"T_c3340ffe_3db2_11ea_98c3_a483e70b5030row1_col5\" class=\"data row1 col5\" >13</td>\n",
       "                        <td id=\"T_c3340ffe_3db2_11ea_98c3_a483e70b5030row1_col6\" class=\"data row1 col6\" >20</td>\n",
       "                        <td id=\"T_c3340ffe_3db2_11ea_98c3_a483e70b5030row1_col7\" class=\"data row1 col7\" >25</td>\n",
       "                        <td id=\"T_c3340ffe_3db2_11ea_98c3_a483e70b5030row1_col8\" class=\"data row1 col8\" >16</td>\n",
       "                        <td id=\"T_c3340ffe_3db2_11ea_98c3_a483e70b5030row1_col9\" class=\"data row1 col9\" >24</td>\n",
       "                        <td id=\"T_c3340ffe_3db2_11ea_98c3_a483e70b5030row1_col10\" class=\"data row1 col10\" >16</td>\n",
       "                        <td id=\"T_c3340ffe_3db2_11ea_98c3_a483e70b5030row1_col11\" class=\"data row1 col11\" >6</td>\n",
       "                        <td id=\"T_c3340ffe_3db2_11ea_98c3_a483e70b5030row1_col12\" class=\"data row1 col12\" >12</td>\n",
       "                        <td id=\"T_c3340ffe_3db2_11ea_98c3_a483e70b5030row1_col13\" class=\"data row1 col13\" >9</td>\n",
       "                        <td id=\"T_c3340ffe_3db2_11ea_98c3_a483e70b5030row1_col14\" class=\"data row1 col14\" >0</td>\n",
       "                        <td id=\"T_c3340ffe_3db2_11ea_98c3_a483e70b5030row1_col15\" class=\"data row1 col15\" >11</td>\n",
       "                        <td id=\"T_c3340ffe_3db2_11ea_98c3_a483e70b5030row1_col16\" class=\"data row1 col16\" >2</td>\n",
       "                        <td id=\"T_c3340ffe_3db2_11ea_98c3_a483e70b5030row1_col17\" class=\"data row1 col17\" >0</td>\n",
       "                        <td id=\"T_c3340ffe_3db2_11ea_98c3_a483e70b5030row1_col18\" class=\"data row1 col18\" >2</td>\n",
       "                        <td id=\"T_c3340ffe_3db2_11ea_98c3_a483e70b5030row1_col19\" class=\"data row1 col19\" >0</td>\n",
       "                        <td id=\"T_c3340ffe_3db2_11ea_98c3_a483e70b5030row1_col20\" class=\"data row1 col20\" >1</td>\n",
       "                        <td id=\"T_c3340ffe_3db2_11ea_98c3_a483e70b5030row1_col21\" class=\"data row1 col21\" >0</td>\n",
       "                        <td id=\"T_c3340ffe_3db2_11ea_98c3_a483e70b5030row1_col22\" class=\"data row1 col22\" >0</td>\n",
       "                        <td id=\"T_c3340ffe_3db2_11ea_98c3_a483e70b5030row1_col23\" class=\"data row1 col23\" >197</td>\n",
       "            </tr>\n",
       "            <tr>\n",
       "                        <th id=\"T_c3340ffe_3db2_11ea_98c3_a483e70b5030level0_row2\" class=\"row_heading level0 row2\" rowspan=2>male</th>\n",
       "                        <th id=\"T_c3340ffe_3db2_11ea_98c3_a483e70b5030level1_row2\" class=\"row_heading level1 row2\" >0</th>\n",
       "                        <td id=\"T_c3340ffe_3db2_11ea_98c3_a483e70b5030row2_col0\" class=\"data row2 col0\" >0</td>\n",
       "                        <td id=\"T_c3340ffe_3db2_11ea_98c3_a483e70b5030row2_col1\" class=\"data row2 col1\" >0</td>\n",
       "                        <td id=\"T_c3340ffe_3db2_11ea_98c3_a483e70b5030row2_col2\" class=\"data row2 col2\" >14</td>\n",
       "                        <td id=\"T_c3340ffe_3db2_11ea_98c3_a483e70b5030row2_col3\" class=\"data row2 col3\" >3</td>\n",
       "                        <td id=\"T_c3340ffe_3db2_11ea_98c3_a483e70b5030row2_col4\" class=\"data row2 col4\" >9</td>\n",
       "                        <td id=\"T_c3340ffe_3db2_11ea_98c3_a483e70b5030row2_col5\" class=\"data row2 col5\" >47</td>\n",
       "                        <td id=\"T_c3340ffe_3db2_11ea_98c3_a483e70b5030row2_col6\" class=\"data row2 col6\" >10</td>\n",
       "                        <td id=\"T_c3340ffe_3db2_11ea_98c3_a483e70b5030row2_col7\" class=\"data row2 col7\" >33</td>\n",
       "                        <td id=\"T_c3340ffe_3db2_11ea_98c3_a483e70b5030row2_col8\" class=\"data row2 col8\" >83</td>\n",
       "                        <td id=\"T_c3340ffe_3db2_11ea_98c3_a483e70b5030row2_col9\" class=\"data row2 col9\" >12</td>\n",
       "                        <td id=\"T_c3340ffe_3db2_11ea_98c3_a483e70b5030row2_col10\" class=\"data row2 col10\" >23</td>\n",
       "                        <td id=\"T_c3340ffe_3db2_11ea_98c3_a483e70b5030row2_col11\" class=\"data row2 col11\" >42</td>\n",
       "                        <td id=\"T_c3340ffe_3db2_11ea_98c3_a483e70b5030row2_col12\" class=\"data row2 col12\" >15</td>\n",
       "                        <td id=\"T_c3340ffe_3db2_11ea_98c3_a483e70b5030row2_col13\" class=\"data row2 col13\" >8</td>\n",
       "                        <td id=\"T_c3340ffe_3db2_11ea_98c3_a483e70b5030row2_col14\" class=\"data row2 col14\" >20</td>\n",
       "                        <td id=\"T_c3340ffe_3db2_11ea_98c3_a483e70b5030row2_col15\" class=\"data row2 col15\" >10</td>\n",
       "                        <td id=\"T_c3340ffe_3db2_11ea_98c3_a483e70b5030row2_col16\" class=\"data row2 col16\" >9</td>\n",
       "                        <td id=\"T_c3340ffe_3db2_11ea_98c3_a483e70b5030row2_col17\" class=\"data row2 col17\" >5</td>\n",
       "                        <td id=\"T_c3340ffe_3db2_11ea_98c3_a483e70b5030row2_col18\" class=\"data row2 col18\" >9</td>\n",
       "                        <td id=\"T_c3340ffe_3db2_11ea_98c3_a483e70b5030row2_col19\" class=\"data row2 col19\" >2</td>\n",
       "                        <td id=\"T_c3340ffe_3db2_11ea_98c3_a483e70b5030row2_col20\" class=\"data row2 col20\" >2</td>\n",
       "                        <td id=\"T_c3340ffe_3db2_11ea_98c3_a483e70b5030row2_col21\" class=\"data row2 col21\" >2</td>\n",
       "                        <td id=\"T_c3340ffe_3db2_11ea_98c3_a483e70b5030row2_col22\" class=\"data row2 col22\" >2</td>\n",
       "                        <td id=\"T_c3340ffe_3db2_11ea_98c3_a483e70b5030row2_col23\" class=\"data row2 col23\" >360</td>\n",
       "            </tr>\n",
       "            <tr>\n",
       "                                <th id=\"T_c3340ffe_3db2_11ea_98c3_a483e70b5030level1_row3\" class=\"row_heading level1 row3\" >1</th>\n",
       "                        <td id=\"T_c3340ffe_3db2_11ea_98c3_a483e70b5030row3_col0\" class=\"data row3 col0\" >2</td>\n",
       "                        <td id=\"T_c3340ffe_3db2_11ea_98c3_a483e70b5030row3_col1\" class=\"data row3 col1\" >9</td>\n",
       "                        <td id=\"T_c3340ffe_3db2_11ea_98c3_a483e70b5030row3_col2\" class=\"data row3 col2\" >8</td>\n",
       "                        <td id=\"T_c3340ffe_3db2_11ea_98c3_a483e70b5030row3_col3\" class=\"data row3 col3\" >2</td>\n",
       "                        <td id=\"T_c3340ffe_3db2_11ea_98c3_a483e70b5030row3_col4\" class=\"data row3 col4\" >1</td>\n",
       "                        <td id=\"T_c3340ffe_3db2_11ea_98c3_a483e70b5030row3_col5\" class=\"data row3 col5\" >7</td>\n",
       "                        <td id=\"T_c3340ffe_3db2_11ea_98c3_a483e70b5030row3_col6\" class=\"data row3 col6\" >9</td>\n",
       "                        <td id=\"T_c3340ffe_3db2_11ea_98c3_a483e70b5030row3_col7\" class=\"data row3 col7\" >0</td>\n",
       "                        <td id=\"T_c3340ffe_3db2_11ea_98c3_a483e70b5030row3_col8\" class=\"data row3 col8\" >14</td>\n",
       "                        <td id=\"T_c3340ffe_3db2_11ea_98c3_a483e70b5030row3_col9\" class=\"data row3 col9\" >13</td>\n",
       "                        <td id=\"T_c3340ffe_3db2_11ea_98c3_a483e70b5030row3_col10\" class=\"data row3 col10\" >3</td>\n",
       "                        <td id=\"T_c3340ffe_3db2_11ea_98c3_a483e70b5030row3_col11\" class=\"data row3 col11\" >7</td>\n",
       "                        <td id=\"T_c3340ffe_3db2_11ea_98c3_a483e70b5030row3_col12\" class=\"data row3 col12\" >9</td>\n",
       "                        <td id=\"T_c3340ffe_3db2_11ea_98c3_a483e70b5030row3_col13\" class=\"data row3 col13\" >1</td>\n",
       "                        <td id=\"T_c3340ffe_3db2_11ea_98c3_a483e70b5030row3_col14\" class=\"data row3 col14\" >2</td>\n",
       "                        <td id=\"T_c3340ffe_3db2_11ea_98c3_a483e70b5030row3_col15\" class=\"data row3 col15\" >4</td>\n",
       "                        <td id=\"T_c3340ffe_3db2_11ea_98c3_a483e70b5030row3_col16\" class=\"data row3 col16\" >0</td>\n",
       "                        <td id=\"T_c3340ffe_3db2_11ea_98c3_a483e70b5030row3_col17\" class=\"data row3 col17\" >0</td>\n",
       "                        <td id=\"T_c3340ffe_3db2_11ea_98c3_a483e70b5030row3_col18\" class=\"data row3 col18\" >0</td>\n",
       "                        <td id=\"T_c3340ffe_3db2_11ea_98c3_a483e70b5030row3_col19\" class=\"data row3 col19\" >1</td>\n",
       "                        <td id=\"T_c3340ffe_3db2_11ea_98c3_a483e70b5030row3_col20\" class=\"data row3 col20\" >0</td>\n",
       "                        <td id=\"T_c3340ffe_3db2_11ea_98c3_a483e70b5030row3_col21\" class=\"data row3 col21\" >1</td>\n",
       "                        <td id=\"T_c3340ffe_3db2_11ea_98c3_a483e70b5030row3_col22\" class=\"data row3 col22\" >0</td>\n",
       "                        <td id=\"T_c3340ffe_3db2_11ea_98c3_a483e70b5030row3_col23\" class=\"data row3 col23\" >93</td>\n",
       "            </tr>\n",
       "            <tr>\n",
       "                        <th id=\"T_c3340ffe_3db2_11ea_98c3_a483e70b5030level0_row4\" class=\"row_heading level0 row4\" >All</th>\n",
       "                        <th id=\"T_c3340ffe_3db2_11ea_98c3_a483e70b5030level1_row4\" class=\"row_heading level1 row4\" ></th>\n",
       "                        <td id=\"T_c3340ffe_3db2_11ea_98c3_a483e70b5030row4_col0\" class=\"data row4 col0\" >3</td>\n",
       "                        <td id=\"T_c3340ffe_3db2_11ea_98c3_a483e70b5030row4_col1\" class=\"data row4 col1\" >17</td>\n",
       "                        <td id=\"T_c3340ffe_3db2_11ea_98c3_a483e70b5030row4_col2\" class=\"data row4 col2\" >44</td>\n",
       "                        <td id=\"T_c3340ffe_3db2_11ea_98c3_a483e70b5030row4_col3\" class=\"data row4 col3\" >18</td>\n",
       "                        <td id=\"T_c3340ffe_3db2_11ea_98c3_a483e70b5030row4_col4\" class=\"data row4 col4\" >18</td>\n",
       "                        <td id=\"T_c3340ffe_3db2_11ea_98c3_a483e70b5030row4_col5\" class=\"data row4 col5\" >79</td>\n",
       "                        <td id=\"T_c3340ffe_3db2_11ea_98c3_a483e70b5030row4_col6\" class=\"data row4 col6\" >40</td>\n",
       "                        <td id=\"T_c3340ffe_3db2_11ea_98c3_a483e70b5030row4_col7\" class=\"data row4 col7\" >61</td>\n",
       "                        <td id=\"T_c3340ffe_3db2_11ea_98c3_a483e70b5030row4_col8\" class=\"data row4 col8\" >129</td>\n",
       "                        <td id=\"T_c3340ffe_3db2_11ea_98c3_a483e70b5030row4_col9\" class=\"data row4 col9\" >49</td>\n",
       "                        <td id=\"T_c3340ffe_3db2_11ea_98c3_a483e70b5030row4_col10\" class=\"data row4 col10\" >43</td>\n",
       "                        <td id=\"T_c3340ffe_3db2_11ea_98c3_a483e70b5030row4_col11\" class=\"data row4 col11\" >63</td>\n",
       "                        <td id=\"T_c3340ffe_3db2_11ea_98c3_a483e70b5030row4_col12\" class=\"data row4 col12\" >37</td>\n",
       "                        <td id=\"T_c3340ffe_3db2_11ea_98c3_a483e70b5030row4_col13\" class=\"data row4 col13\" >19</td>\n",
       "                        <td id=\"T_c3340ffe_3db2_11ea_98c3_a483e70b5030row4_col14\" class=\"data row4 col14\" >30</td>\n",
       "                        <td id=\"T_c3340ffe_3db2_11ea_98c3_a483e70b5030row4_col15\" class=\"data row4 col15\" >25</td>\n",
       "                        <td id=\"T_c3340ffe_3db2_11ea_98c3_a483e70b5030row4_col16\" class=\"data row4 col16\" >12</td>\n",
       "                        <td id=\"T_c3340ffe_3db2_11ea_98c3_a483e70b5030row4_col17\" class=\"data row4 col17\" >5</td>\n",
       "                        <td id=\"T_c3340ffe_3db2_11ea_98c3_a483e70b5030row4_col18\" class=\"data row4 col18\" >11</td>\n",
       "                        <td id=\"T_c3340ffe_3db2_11ea_98c3_a483e70b5030row4_col19\" class=\"data row4 col19\" >3</td>\n",
       "                        <td id=\"T_c3340ffe_3db2_11ea_98c3_a483e70b5030row4_col20\" class=\"data row4 col20\" >3</td>\n",
       "                        <td id=\"T_c3340ffe_3db2_11ea_98c3_a483e70b5030row4_col21\" class=\"data row4 col21\" >3</td>\n",
       "                        <td id=\"T_c3340ffe_3db2_11ea_98c3_a483e70b5030row4_col22\" class=\"data row4 col22\" >2</td>\n",
       "                        <td id=\"T_c3340ffe_3db2_11ea_98c3_a483e70b5030row4_col23\" class=\"data row4 col23\" >714</td>\n",
       "            </tr>\n",
       "    </tbody></table>"
      ],
      "text/plain": [
       "<pandas.io.formats.style.Styler at 0x1a1c316890>"
      ]
     },
     "execution_count": 29,
     "metadata": {},
     "output_type": "execute_result"
    }
   ],
   "source": [
    "pd.crosstab([df_train.Sex, df_train.Survived], [df_train.Age_bin, df_train.Pclass], margins=True).style.background_gradient(cmap='autumn_r')\n"
   ]
  },
  {
   "cell_type": "markdown",
   "metadata": {},
   "source": [
    "For passengers in Age_bin = 1 (younger than 10) : All male in Pclass 1 and 2 survived\n",
    "\n",
    "All female in Pclass 3 and Age_bin = 5 died.\n",
    "\n",
    "(Survival rate for female in Pclass 3 and Age_bin = 4 is below 50%)\n",
    "\n",
    "(Survival rate for male in Pclass 1 and Age_bin = 4 is above 50%)"
   ]
  },
  {
   "cell_type": "code",
   "execution_count": 34,
   "metadata": {},
   "outputs": [
    {
     "data": {
      "text/plain": [
       "196    0\n",
       "Name: Survived, dtype: int64"
      ]
     },
     "execution_count": 34,
     "metadata": {},
     "output_type": "execute_result"
    }
   ],
   "source": [
    "df_test.loc[ (df_test.Sex == 'male') & (df_test.Pclass == 1) & (df_test.Age_bin == 1), 'Survived']\n"
   ]
  },
  {
   "cell_type": "code",
   "execution_count": 35,
   "metadata": {},
   "outputs": [
    {
     "data": {
      "text/plain": [
       "89     0\n",
       "194    0\n",
       "Name: Survived, dtype: int64"
      ]
     },
     "execution_count": 35,
     "metadata": {},
     "output_type": "execute_result"
    }
   ],
   "source": [
    "df_test.loc[ (df_test.Sex == 'male') & (df_test.Pclass == 2) & (df_test.Age_bin == 1), 'Survived']\n"
   ]
  },
  {
   "cell_type": "code",
   "execution_count": 38,
   "metadata": {},
   "outputs": [],
   "source": [
    "# in Pclass 1 and 2 all men in Age_bin = 1 survived\n",
    "df_test.loc[ (df_test.Sex == 'male') & (df_test.Pclass == 1) & (df_test.Age_bin == 1), 'Survived'] = 1\n",
    "df_test.loc[ (df_test.Sex == 'male') & (df_test.Pclass == 2) & (df_test.Age_bin == 1), 'Survived'] = 1\n"
   ]
  },
  {
   "cell_type": "markdown",
   "metadata": {},
   "source": [
    "**SibSp and Parch**"
   ]
  },
  {
   "cell_type": "code",
   "execution_count": 39,
   "metadata": {},
   "outputs": [
    {
     "data": {
      "image/png": "[encoded data removed]",
      "text/plain": [
       "<Figure size 1080x720 with 6 Axes>"
      ]
     },
     "metadata": {
      "needs_background": "light"
     },
     "output_type": "display_data"
    }
   ],
   "source": [
    "sns.catplot('SibSp','Survived', col='Pclass' , row = 'Sex', kind='point', data=df_train);\n"
   ]
  },
  {
   "cell_type": "code",
   "execution_count": 40,
   "metadata": {},
   "outputs": [
    {
     "data": {
      "text/html": [
       "<style  type=\"text/css\" >\n",
       "    #T_4a027d62_3db4_11ea_98c3_a483e70b5030row0_col0 {\n",
       "            background-color:  #ffff00;\n",
       "            color:  #000000;\n",
       "        }    #T_4a027d62_3db4_11ea_98c3_a483e70b5030row0_col1 {\n",
       "            background-color:  #ffff00;\n",
       "            color:  #000000;\n",
       "        }    #T_4a027d62_3db4_11ea_98c3_a483e70b5030row0_col2 {\n",
       "            background-color:  #ffff00;\n",
       "            color:  #000000;\n",
       "        }    #T_4a027d62_3db4_11ea_98c3_a483e70b5030row0_col3 {\n",
       "            background-color:  #ffff00;\n",
       "            color:  #000000;\n",
       "        }    #T_4a027d62_3db4_11ea_98c3_a483e70b5030row0_col4 {\n",
       "            background-color:  #ffff00;\n",
       "            color:  #000000;\n",
       "        }    #T_4a027d62_3db4_11ea_98c3_a483e70b5030row0_col5 {\n",
       "            background-color:  #ffd900;\n",
       "            color:  #000000;\n",
       "        }    #T_4a027d62_3db4_11ea_98c3_a483e70b5030row0_col6 {\n",
       "            background-color:  #ffff00;\n",
       "            color:  #000000;\n",
       "        }    #T_4a027d62_3db4_11ea_98c3_a483e70b5030row0_col7 {\n",
       "            background-color:  #ffff00;\n",
       "            color:  #000000;\n",
       "        }    #T_4a027d62_3db4_11ea_98c3_a483e70b5030row0_col8 {\n",
       "            background-color:  #ffdb00;\n",
       "            color:  #000000;\n",
       "        }    #T_4a027d62_3db4_11ea_98c3_a483e70b5030row0_col9 {\n",
       "            background-color:  #ffff00;\n",
       "            color:  #000000;\n",
       "        }    #T_4a027d62_3db4_11ea_98c3_a483e70b5030row0_col10 {\n",
       "            background-color:  #ffff00;\n",
       "            color:  #000000;\n",
       "        }    #T_4a027d62_3db4_11ea_98c3_a483e70b5030row0_col11 {\n",
       "            background-color:  #ff6a00;\n",
       "            color:  #000000;\n",
       "        }    #T_4a027d62_3db4_11ea_98c3_a483e70b5030row0_col12 {\n",
       "            background-color:  #ffd200;\n",
       "            color:  #000000;\n",
       "        }    #T_4a027d62_3db4_11ea_98c3_a483e70b5030row0_col13 {\n",
       "            background-color:  #ffcc00;\n",
       "            color:  #000000;\n",
       "        }    #T_4a027d62_3db4_11ea_98c3_a483e70b5030row0_col14 {\n",
       "            background-color:  #ff9200;\n",
       "            color:  #000000;\n",
       "        }    #T_4a027d62_3db4_11ea_98c3_a483e70b5030row0_col15 {\n",
       "            background-color:  #ffff00;\n",
       "            color:  #000000;\n",
       "        }    #T_4a027d62_3db4_11ea_98c3_a483e70b5030row1_col0 {\n",
       "            background-color:  #ffa700;\n",
       "            color:  #000000;\n",
       "        }    #T_4a027d62_3db4_11ea_98c3_a483e70b5030row1_col1 {\n",
       "            background-color:  #ffac00;\n",
       "            color:  #000000;\n",
       "        }    #T_4a027d62_3db4_11ea_98c3_a483e70b5030row1_col2 {\n",
       "            background-color:  #fff300;\n",
       "            color:  #000000;\n",
       "        }    #T_4a027d62_3db4_11ea_98c3_a483e70b5030row1_col3 {\n",
       "            background-color:  #ff7a00;\n",
       "            color:  #000000;\n",
       "        }    #T_4a027d62_3db4_11ea_98c3_a483e70b5030row1_col4 {\n",
       "            background-color:  #ff9300;\n",
       "            color:  #000000;\n",
       "        }    #T_4a027d62_3db4_11ea_98c3_a483e70b5030row1_col5 {\n",
       "            background-color:  #ffe700;\n",
       "            color:  #000000;\n",
       "        }    #T_4a027d62_3db4_11ea_98c3_a483e70b5030row1_col6 {\n",
       "            background-color:  #ff6600;\n",
       "            color:  #000000;\n",
       "        }    #T_4a027d62_3db4_11ea_98c3_a483e70b5030row1_col7 {\n",
       "            background-color:  #ff9f00;\n",
       "            color:  #000000;\n",
       "        }    #T_4a027d62_3db4_11ea_98c3_a483e70b5030row1_col8 {\n",
       "            background-color:  #ffc900;\n",
       "            color:  #000000;\n",
       "        }    #T_4a027d62_3db4_11ea_98c3_a483e70b5030row1_col9 {\n",
       "            background-color:  #ff5500;\n",
       "            color:  #000000;\n",
       "        }    #T_4a027d62_3db4_11ea_98c3_a483e70b5030row1_col10 {\n",
       "            background-color:  #ff0000;\n",
       "            color:  #f1f1f1;\n",
       "        }    #T_4a027d62_3db4_11ea_98c3_a483e70b5030row1_col11 {\n",
       "            background-color:  #ffea00;\n",
       "            color:  #000000;\n",
       "        }    #T_4a027d62_3db4_11ea_98c3_a483e70b5030row1_col12 {\n",
       "            background-color:  #fff000;\n",
       "            color:  #000000;\n",
       "        }    #T_4a027d62_3db4_11ea_98c3_a483e70b5030row1_col13 {\n",
       "            background-color:  #ffff00;\n",
       "            color:  #000000;\n",
       "        }    #T_4a027d62_3db4_11ea_98c3_a483e70b5030row1_col14 {\n",
       "            background-color:  #ffff00;\n",
       "            color:  #000000;\n",
       "        }    #T_4a027d62_3db4_11ea_98c3_a483e70b5030row1_col15 {\n",
       "            background-color:  #ffcf00;\n",
       "            color:  #000000;\n",
       "        }    #T_4a027d62_3db4_11ea_98c3_a483e70b5030row2_col0 {\n",
       "            background-color:  #ff9200;\n",
       "            color:  #000000;\n",
       "        }    #T_4a027d62_3db4_11ea_98c3_a483e70b5030row2_col1 {\n",
       "            background-color:  #ff7300;\n",
       "            color:  #000000;\n",
       "        }    #T_4a027d62_3db4_11ea_98c3_a483e70b5030row2_col2 {\n",
       "            background-color:  #ff5d00;\n",
       "            color:  #000000;\n",
       "        }    #T_4a027d62_3db4_11ea_98c3_a483e70b5030row2_col3 {\n",
       "            background-color:  #ffcc00;\n",
       "            color:  #000000;\n",
       "        }    #T_4a027d62_3db4_11ea_98c3_a483e70b5030row2_col4 {\n",
       "            background-color:  #ffac00;\n",
       "            color:  #000000;\n",
       "        }    #T_4a027d62_3db4_11ea_98c3_a483e70b5030row2_col5 {\n",
       "            background-color:  #ffa800;\n",
       "            color:  #000000;\n",
       "        }    #T_4a027d62_3db4_11ea_98c3_a483e70b5030row2_col6 {\n",
       "            background-color:  #ffcc00;\n",
       "            color:  #000000;\n",
       "        }    #T_4a027d62_3db4_11ea_98c3_a483e70b5030row2_col7 {\n",
       "            background-color:  #ff7f00;\n",
       "            color:  #000000;\n",
       "        }    #T_4a027d62_3db4_11ea_98c3_a483e70b5030row2_col8 {\n",
       "            background-color:  #ff9200;\n",
       "            color:  #000000;\n",
       "        }    #T_4a027d62_3db4_11ea_98c3_a483e70b5030row2_col9 {\n",
       "            background-color:  #ffaa00;\n",
       "            color:  #000000;\n",
       "        }    #T_4a027d62_3db4_11ea_98c3_a483e70b5030row2_col10 {\n",
       "            background-color:  #ffff00;\n",
       "            color:  #000000;\n",
       "        }    #T_4a027d62_3db4_11ea_98c3_a483e70b5030row2_col11 {\n",
       "            background-color:  #ffaa00;\n",
       "            color:  #000000;\n",
       "        }    #T_4a027d62_3db4_11ea_98c3_a483e70b5030row2_col12 {\n",
       "            background-color:  #ff6900;\n",
       "            color:  #000000;\n",
       "        }    #T_4a027d62_3db4_11ea_98c3_a483e70b5030row2_col13 {\n",
       "            background-color:  #ff3300;\n",
       "            color:  #f1f1f1;\n",
       "        }    #T_4a027d62_3db4_11ea_98c3_a483e70b5030row2_col14 {\n",
       "            background-color:  #ff6d00;\n",
       "            color:  #000000;\n",
       "        }    #T_4a027d62_3db4_11ea_98c3_a483e70b5030row2_col15 {\n",
       "            background-color:  #ff8500;\n",
       "            color:  #000000;\n",
       "        }    #T_4a027d62_3db4_11ea_98c3_a483e70b5030row3_col0 {\n",
       "            background-color:  #ffcb00;\n",
       "            color:  #000000;\n",
       "        }    #T_4a027d62_3db4_11ea_98c3_a483e70b5030row3_col1 {\n",
       "            background-color:  #fff200;\n",
       "            color:  #000000;\n",
       "        }    #T_4a027d62_3db4_11ea_98c3_a483e70b5030row3_col2 {\n",
       "            background-color:  #fffe00;\n",
       "            color:  #000000;\n",
       "        }    #T_4a027d62_3db4_11ea_98c3_a483e70b5030row3_col3 {\n",
       "            background-color:  #ffcf00;\n",
       "            color:  #000000;\n",
       "        }    #T_4a027d62_3db4_11ea_98c3_a483e70b5030row3_col4 {\n",
       "            background-color:  #ffec00;\n",
       "            color:  #000000;\n",
       "        }    #T_4a027d62_3db4_11ea_98c3_a483e70b5030row3_col5 {\n",
       "            background-color:  #ffff00;\n",
       "            color:  #000000;\n",
       "        }    #T_4a027d62_3db4_11ea_98c3_a483e70b5030row3_col6 {\n",
       "            background-color:  #ffcc00;\n",
       "            color:  #000000;\n",
       "        }    #T_4a027d62_3db4_11ea_98c3_a483e70b5030row3_col7 {\n",
       "            background-color:  #ffdf00;\n",
       "            color:  #000000;\n",
       "        }    #T_4a027d62_3db4_11ea_98c3_a483e70b5030row3_col8 {\n",
       "            background-color:  #ffff00;\n",
       "            color:  #000000;\n",
       "        }    #T_4a027d62_3db4_11ea_98c3_a483e70b5030row3_col9 {\n",
       "            background-color:  #ffff00;\n",
       "            color:  #000000;\n",
       "        }    #T_4a027d62_3db4_11ea_98c3_a483e70b5030row3_col10 {\n",
       "            background-color:  #ffff00;\n",
       "            color:  #000000;\n",
       "        }    #T_4a027d62_3db4_11ea_98c3_a483e70b5030row3_col11 {\n",
       "            background-color:  #ffff00;\n",
       "            color:  #000000;\n",
       "        }    #T_4a027d62_3db4_11ea_98c3_a483e70b5030row3_col12 {\n",
       "            background-color:  #ffff00;\n",
       "            color:  #000000;\n",
       "        }    #T_4a027d62_3db4_11ea_98c3_a483e70b5030row3_col13 {\n",
       "            background-color:  #ffff00;\n",
       "            color:  #000000;\n",
       "        }    #T_4a027d62_3db4_11ea_98c3_a483e70b5030row3_col14 {\n",
       "            background-color:  #ffff00;\n",
       "            color:  #000000;\n",
       "        }    #T_4a027d62_3db4_11ea_98c3_a483e70b5030row3_col15 {\n",
       "            background-color:  #fff700;\n",
       "            color:  #000000;\n",
       "        }    #T_4a027d62_3db4_11ea_98c3_a483e70b5030row4_col0 {\n",
       "            background-color:  #ff0000;\n",
       "            color:  #f1f1f1;\n",
       "        }    #T_4a027d62_3db4_11ea_98c3_a483e70b5030row4_col1 {\n",
       "            background-color:  #ff0000;\n",
       "            color:  #f1f1f1;\n",
       "        }    #T_4a027d62_3db4_11ea_98c3_a483e70b5030row4_col2 {\n",
       "            background-color:  #ff0000;\n",
       "            color:  #f1f1f1;\n",
       "        }    #T_4a027d62_3db4_11ea_98c3_a483e70b5030row4_col3 {\n",
       "            background-color:  #ff0000;\n",
       "            color:  #f1f1f1;\n",
       "        }    #T_4a027d62_3db4_11ea_98c3_a483e70b5030row4_col4 {\n",
       "            background-color:  #ff0000;\n",
       "            color:  #f1f1f1;\n",
       "        }    #T_4a027d62_3db4_11ea_98c3_a483e70b5030row4_col5 {\n",
       "            background-color:  #ff0000;\n",
       "            color:  #f1f1f1;\n",
       "        }    #T_4a027d62_3db4_11ea_98c3_a483e70b5030row4_col6 {\n",
       "            background-color:  #ff0000;\n",
       "            color:  #f1f1f1;\n",
       "        }    #T_4a027d62_3db4_11ea_98c3_a483e70b5030row4_col7 {\n",
       "            background-color:  #ff0000;\n",
       "            color:  #f1f1f1;\n",
       "        }    #T_4a027d62_3db4_11ea_98c3_a483e70b5030row4_col8 {\n",
       "            background-color:  #ff0000;\n",
       "            color:  #f1f1f1;\n",
       "        }    #T_4a027d62_3db4_11ea_98c3_a483e70b5030row4_col9 {\n",
       "            background-color:  #ff0000;\n",
       "            color:  #f1f1f1;\n",
       "        }    #T_4a027d62_3db4_11ea_98c3_a483e70b5030row4_col10 {\n",
       "            background-color:  #ff0000;\n",
       "            color:  #f1f1f1;\n",
       "        }    #T_4a027d62_3db4_11ea_98c3_a483e70b5030row4_col11 {\n",
       "            background-color:  #ff0000;\n",
       "            color:  #f1f1f1;\n",
       "        }    #T_4a027d62_3db4_11ea_98c3_a483e70b5030row4_col12 {\n",
       "            background-color:  #ff0000;\n",
       "            color:  #f1f1f1;\n",
       "        }    #T_4a027d62_3db4_11ea_98c3_a483e70b5030row4_col13 {\n",
       "            background-color:  #ff0000;\n",
       "            color:  #f1f1f1;\n",
       "        }    #T_4a027d62_3db4_11ea_98c3_a483e70b5030row4_col14 {\n",
       "            background-color:  #ff0000;\n",
       "            color:  #f1f1f1;\n",
       "        }    #T_4a027d62_3db4_11ea_98c3_a483e70b5030row4_col15 {\n",
       "            background-color:  #ff0000;\n",
       "            color:  #f1f1f1;\n",
       "        }</style><table id=\"T_4a027d62_3db4_11ea_98c3_a483e70b5030\" ><thead>    <tr>        <th class=\"blank\" ></th>        <th class=\"index_name level0\" >SibSp</th>        <th class=\"col_heading level0 col0\" colspan=3>0</th>        <th class=\"col_heading level0 col3\" colspan=3>1</th>        <th class=\"col_heading level0 col6\" colspan=3>2</th>        <th class=\"col_heading level0 col9\" colspan=3>3</th>        <th class=\"col_heading level0 col12\" >4</th>        <th class=\"col_heading level0 col13\" >5</th>        <th class=\"col_heading level0 col14\" >8</th>        <th class=\"col_heading level0 col15\" >All</th>    </tr>    <tr>        <th class=\"blank\" ></th>        <th class=\"index_name level1\" >Pclass</th>        <th class=\"col_heading level1 col0\" >1</th>        <th class=\"col_heading level1 col1\" >2</th>        <th class=\"col_heading level1 col2\" >3</th>        <th class=\"col_heading level1 col3\" >1</th>        <th class=\"col_heading level1 col4\" >2</th>        <th class=\"col_heading level1 col5\" >3</th>        <th class=\"col_heading level1 col6\" >1</th>        <th class=\"col_heading level1 col7\" >2</th>        <th class=\"col_heading level1 col8\" >3</th>        <th class=\"col_heading level1 col9\" >1</th>        <th class=\"col_heading level1 col10\" >2</th>        <th class=\"col_heading level1 col11\" >3</th>        <th class=\"col_heading level1 col12\" >3</th>        <th class=\"col_heading level1 col13\" >3</th>        <th class=\"col_heading level1 col14\" >3</th>        <th class=\"col_heading level1 col15\" ></th>    </tr>    <tr>        <th class=\"index_name level0\" >Sex</th>        <th class=\"index_name level1\" >Survived</th>        <th class=\"blank\" ></th>        <th class=\"blank\" ></th>        <th class=\"blank\" ></th>        <th class=\"blank\" ></th>        <th class=\"blank\" ></th>        <th class=\"blank\" ></th>        <th class=\"blank\" ></th>        <th class=\"blank\" ></th>        <th class=\"blank\" ></th>        <th class=\"blank\" ></th>        <th class=\"blank\" ></th>        <th class=\"blank\" ></th>        <th class=\"blank\" ></th>        <th class=\"blank\" ></th>        <th class=\"blank\" ></th>        <th class=\"blank\" ></th>    </tr></thead><tbody>\n",
       "                <tr>\n",
       "                        <th id=\"T_4a027d62_3db4_11ea_98c3_a483e70b5030level0_row0\" class=\"row_heading level0 row0\" rowspan=2>female</th>\n",
       "                        <th id=\"T_4a027d62_3db4_11ea_98c3_a483e70b5030level1_row0\" class=\"row_heading level1 row0\" >0</th>\n",
       "                        <td id=\"T_4a027d62_3db4_11ea_98c3_a483e70b5030row0_col0\" class=\"data row0 col0\" >1</td>\n",
       "                        <td id=\"T_4a027d62_3db4_11ea_98c3_a483e70b5030row0_col1\" class=\"data row0 col1\" >3</td>\n",
       "                        <td id=\"T_4a027d62_3db4_11ea_98c3_a483e70b5030row0_col2\" class=\"data row0 col2\" >33</td>\n",
       "                        <td id=\"T_4a027d62_3db4_11ea_98c3_a483e70b5030row0_col3\" class=\"data row0 col3\" >2</td>\n",
       "                        <td id=\"T_4a027d62_3db4_11ea_98c3_a483e70b5030row0_col4\" class=\"data row0 col4\" >3</td>\n",
       "                        <td id=\"T_4a027d62_3db4_11ea_98c3_a483e70b5030row0_col5\" class=\"data row0 col5\" >21</td>\n",
       "                        <td id=\"T_4a027d62_3db4_11ea_98c3_a483e70b5030row0_col6\" class=\"data row0 col6\" >0</td>\n",
       "                        <td id=\"T_4a027d62_3db4_11ea_98c3_a483e70b5030row0_col7\" class=\"data row0 col7\" >0</td>\n",
       "                        <td id=\"T_4a027d62_3db4_11ea_98c3_a483e70b5030row0_col8\" class=\"data row0 col8\" >3</td>\n",
       "                        <td id=\"T_4a027d62_3db4_11ea_98c3_a483e70b5030row0_col9\" class=\"data row0 col9\" >0</td>\n",
       "                        <td id=\"T_4a027d62_3db4_11ea_98c3_a483e70b5030row0_col10\" class=\"data row0 col10\" >0</td>\n",
       "                        <td id=\"T_4a027d62_3db4_11ea_98c3_a483e70b5030row0_col11\" class=\"data row0 col11\" >7</td>\n",
       "                        <td id=\"T_4a027d62_3db4_11ea_98c3_a483e70b5030row0_col12\" class=\"data row0 col12\" >4</td>\n",
       "                        <td id=\"T_4a027d62_3db4_11ea_98c3_a483e70b5030row0_col13\" class=\"data row0 col13\" >1</td>\n",
       "                        <td id=\"T_4a027d62_3db4_11ea_98c3_a483e70b5030row0_col14\" class=\"data row0 col14\" >3</td>\n",
       "                        <td id=\"T_4a027d62_3db4_11ea_98c3_a483e70b5030row0_col15\" class=\"data row0 col15\" >81</td>\n",
       "            </tr>\n",
       "            <tr>\n",
       "                                <th id=\"T_4a027d62_3db4_11ea_98c3_a483e70b5030level1_row1\" class=\"row_heading level1 row1\" >1</th>\n",
       "                        <td id=\"T_4a027d62_3db4_11ea_98c3_a483e70b5030row1_col0\" class=\"data row1 col0\" >48</td>\n",
       "                        <td id=\"T_4a027d62_3db4_11ea_98c3_a483e70b5030row1_col1\" class=\"data row1 col1\" >41</td>\n",
       "                        <td id=\"T_4a027d62_3db4_11ea_98c3_a483e70b5030row1_col2\" class=\"data row1 col2\" >48</td>\n",
       "                        <td id=\"T_4a027d62_3db4_11ea_98c3_a483e70b5030row1_col3\" class=\"data row1 col3\" >38</td>\n",
       "                        <td id=\"T_4a027d62_3db4_11ea_98c3_a483e70b5030row1_col4\" class=\"data row1 col4\" >25</td>\n",
       "                        <td id=\"T_4a027d62_3db4_11ea_98c3_a483e70b5030row1_col5\" class=\"data row1 col5\" >17</td>\n",
       "                        <td id=\"T_4a027d62_3db4_11ea_98c3_a483e70b5030row1_col6\" class=\"data row1 col6\" >3</td>\n",
       "                        <td id=\"T_4a027d62_3db4_11ea_98c3_a483e70b5030row1_col7\" class=\"data row1 col7\" >3</td>\n",
       "                        <td id=\"T_4a027d62_3db4_11ea_98c3_a483e70b5030row1_col8\" class=\"data row1 col8\" >4</td>\n",
       "                        <td id=\"T_4a027d62_3db4_11ea_98c3_a483e70b5030row1_col9\" class=\"data row1 col9\" >2</td>\n",
       "                        <td id=\"T_4a027d62_3db4_11ea_98c3_a483e70b5030row1_col10\" class=\"data row1 col10\" >1</td>\n",
       "                        <td id=\"T_4a027d62_3db4_11ea_98c3_a483e70b5030row1_col11\" class=\"data row1 col11\" >1</td>\n",
       "                        <td id=\"T_4a027d62_3db4_11ea_98c3_a483e70b5030row1_col12\" class=\"data row1 col12\" >2</td>\n",
       "                        <td id=\"T_4a027d62_3db4_11ea_98c3_a483e70b5030row1_col13\" class=\"data row1 col13\" >0</td>\n",
       "                        <td id=\"T_4a027d62_3db4_11ea_98c3_a483e70b5030row1_col14\" class=\"data row1 col14\" >0</td>\n",
       "                        <td id=\"T_4a027d62_3db4_11ea_98c3_a483e70b5030row1_col15\" class=\"data row1 col15\" >233</td>\n",
       "            </tr>\n",
       "            <tr>\n",
       "                        <th id=\"T_4a027d62_3db4_11ea_98c3_a483e70b5030level0_row2\" class=\"row_heading level0 row2\" rowspan=2>male</th>\n",
       "                        <th id=\"T_4a027d62_3db4_11ea_98c3_a483e70b5030level1_row2\" class=\"row_heading level1 row2\" >0</th>\n",
       "                        <td id=\"T_4a027d62_3db4_11ea_98c3_a483e70b5030row2_col0\" class=\"data row2 col0\" >59</td>\n",
       "                        <td id=\"T_4a027d62_3db4_11ea_98c3_a483e70b5030row2_col1\" class=\"data row2 col1\" >67</td>\n",
       "                        <td id=\"T_4a027d62_3db4_11ea_98c3_a483e70b5030row2_col2\" class=\"data row2 col2\" >235</td>\n",
       "                        <td id=\"T_4a027d62_3db4_11ea_98c3_a483e70b5030row2_col3\" class=\"data row2 col3\" >16</td>\n",
       "                        <td id=\"T_4a027d62_3db4_11ea_98c3_a483e70b5030row2_col4\" class=\"data row2 col4\" >20</td>\n",
       "                        <td id=\"T_4a027d62_3db4_11ea_98c3_a483e70b5030row2_col5\" class=\"data row2 col5\" >35</td>\n",
       "                        <td id=\"T_4a027d62_3db4_11ea_98c3_a483e70b5030row2_col6\" class=\"data row2 col6\" >1</td>\n",
       "                        <td id=\"T_4a027d62_3db4_11ea_98c3_a483e70b5030row2_col7\" class=\"data row2 col7\" >4</td>\n",
       "                        <td id=\"T_4a027d62_3db4_11ea_98c3_a483e70b5030row2_col8\" class=\"data row2 col8\" >7</td>\n",
       "                        <td id=\"T_4a027d62_3db4_11ea_98c3_a483e70b5030row2_col9\" class=\"data row2 col9\" >1</td>\n",
       "                        <td id=\"T_4a027d62_3db4_11ea_98c3_a483e70b5030row2_col10\" class=\"data row2 col10\" >0</td>\n",
       "                        <td id=\"T_4a027d62_3db4_11ea_98c3_a483e70b5030row2_col11\" class=\"data row2 col11\" >4</td>\n",
       "                        <td id=\"T_4a027d62_3db4_11ea_98c3_a483e70b5030row2_col12\" class=\"data row2 col12\" >11</td>\n",
       "                        <td id=\"T_4a027d62_3db4_11ea_98c3_a483e70b5030row2_col13\" class=\"data row2 col13\" >4</td>\n",
       "                        <td id=\"T_4a027d62_3db4_11ea_98c3_a483e70b5030row2_col14\" class=\"data row2 col14\" >4</td>\n",
       "                        <td id=\"T_4a027d62_3db4_11ea_98c3_a483e70b5030row2_col15\" class=\"data row2 col15\" >468</td>\n",
       "            </tr>\n",
       "            <tr>\n",
       "                                <th id=\"T_4a027d62_3db4_11ea_98c3_a483e70b5030level1_row3\" class=\"row_heading level1 row3\" >1</th>\n",
       "                        <td id=\"T_4a027d62_3db4_11ea_98c3_a483e70b5030row3_col0\" class=\"data row3 col0\" >29</td>\n",
       "                        <td id=\"T_4a027d62_3db4_11ea_98c3_a483e70b5030row3_col1\" class=\"data row3 col1\" >9</td>\n",
       "                        <td id=\"T_4a027d62_3db4_11ea_98c3_a483e70b5030row3_col2\" class=\"data row3 col2\" >35</td>\n",
       "                        <td id=\"T_4a027d62_3db4_11ea_98c3_a483e70b5030row3_col3\" class=\"data row3 col3\" >15</td>\n",
       "                        <td id=\"T_4a027d62_3db4_11ea_98c3_a483e70b5030row3_col4\" class=\"data row3 col4\" >7</td>\n",
       "                        <td id=\"T_4a027d62_3db4_11ea_98c3_a483e70b5030row3_col5\" class=\"data row3 col5\" >10</td>\n",
       "                        <td id=\"T_4a027d62_3db4_11ea_98c3_a483e70b5030row3_col6\" class=\"data row3 col6\" >1</td>\n",
       "                        <td id=\"T_4a027d62_3db4_11ea_98c3_a483e70b5030row3_col7\" class=\"data row3 col7\" >1</td>\n",
       "                        <td id=\"T_4a027d62_3db4_11ea_98c3_a483e70b5030row3_col8\" class=\"data row3 col8\" >1</td>\n",
       "                        <td id=\"T_4a027d62_3db4_11ea_98c3_a483e70b5030row3_col9\" class=\"data row3 col9\" >0</td>\n",
       "                        <td id=\"T_4a027d62_3db4_11ea_98c3_a483e70b5030row3_col10\" class=\"data row3 col10\" >0</td>\n",
       "                        <td id=\"T_4a027d62_3db4_11ea_98c3_a483e70b5030row3_col11\" class=\"data row3 col11\" >0</td>\n",
       "                        <td id=\"T_4a027d62_3db4_11ea_98c3_a483e70b5030row3_col12\" class=\"data row3 col12\" >1</td>\n",
       "                        <td id=\"T_4a027d62_3db4_11ea_98c3_a483e70b5030row3_col13\" class=\"data row3 col13\" >0</td>\n",
       "                        <td id=\"T_4a027d62_3db4_11ea_98c3_a483e70b5030row3_col14\" class=\"data row3 col14\" >0</td>\n",
       "                        <td id=\"T_4a027d62_3db4_11ea_98c3_a483e70b5030row3_col15\" class=\"data row3 col15\" >109</td>\n",
       "            </tr>\n",
       "            <tr>\n",
       "                        <th id=\"T_4a027d62_3db4_11ea_98c3_a483e70b5030level0_row4\" class=\"row_heading level0 row4\" >All</th>\n",
       "                        <th id=\"T_4a027d62_3db4_11ea_98c3_a483e70b5030level1_row4\" class=\"row_heading level1 row4\" ></th>\n",
       "                        <td id=\"T_4a027d62_3db4_11ea_98c3_a483e70b5030row4_col0\" class=\"data row4 col0\" >137</td>\n",
       "                        <td id=\"T_4a027d62_3db4_11ea_98c3_a483e70b5030row4_col1\" class=\"data row4 col1\" >120</td>\n",
       "                        <td id=\"T_4a027d62_3db4_11ea_98c3_a483e70b5030row4_col2\" class=\"data row4 col2\" >351</td>\n",
       "                        <td id=\"T_4a027d62_3db4_11ea_98c3_a483e70b5030row4_col3\" class=\"data row4 col3\" >71</td>\n",
       "                        <td id=\"T_4a027d62_3db4_11ea_98c3_a483e70b5030row4_col4\" class=\"data row4 col4\" >55</td>\n",
       "                        <td id=\"T_4a027d62_3db4_11ea_98c3_a483e70b5030row4_col5\" class=\"data row4 col5\" >83</td>\n",
       "                        <td id=\"T_4a027d62_3db4_11ea_98c3_a483e70b5030row4_col6\" class=\"data row4 col6\" >5</td>\n",
       "                        <td id=\"T_4a027d62_3db4_11ea_98c3_a483e70b5030row4_col7\" class=\"data row4 col7\" >8</td>\n",
       "                        <td id=\"T_4a027d62_3db4_11ea_98c3_a483e70b5030row4_col8\" class=\"data row4 col8\" >15</td>\n",
       "                        <td id=\"T_4a027d62_3db4_11ea_98c3_a483e70b5030row4_col9\" class=\"data row4 col9\" >3</td>\n",
       "                        <td id=\"T_4a027d62_3db4_11ea_98c3_a483e70b5030row4_col10\" class=\"data row4 col10\" >1</td>\n",
       "                        <td id=\"T_4a027d62_3db4_11ea_98c3_a483e70b5030row4_col11\" class=\"data row4 col11\" >12</td>\n",
       "                        <td id=\"T_4a027d62_3db4_11ea_98c3_a483e70b5030row4_col12\" class=\"data row4 col12\" >18</td>\n",
       "                        <td id=\"T_4a027d62_3db4_11ea_98c3_a483e70b5030row4_col13\" class=\"data row4 col13\" >5</td>\n",
       "                        <td id=\"T_4a027d62_3db4_11ea_98c3_a483e70b5030row4_col14\" class=\"data row4 col14\" >7</td>\n",
       "                        <td id=\"T_4a027d62_3db4_11ea_98c3_a483e70b5030row4_col15\" class=\"data row4 col15\" >891</td>\n",
       "            </tr>\n",
       "    </tbody></table>"
      ],
      "text/plain": [
       "<pandas.io.formats.style.Styler at 0x1a1b86eb50>"
      ]
     },
     "execution_count": 40,
     "metadata": {},
     "output_type": "execute_result"
    }
   ],
   "source": [
    "pd.crosstab([df_train.Sex, df_train.Survived], [df_train.SibSp, df_train.Pclass], margins=True).style.background_gradient(cmap='autumn_r')\n"
   ]
  },
  {
   "cell_type": "markdown",
   "metadata": {},
   "source": [
    "For males, no survival rate above 0.5 \n",
    "for any values of SibSp. For females, \n",
    "passengers with SibSp = 3 and Pclass = 3 died, \n",
    "also all females with SibSp > 4 died. \n",
    "For females with SibSp = 1 and Pclass = 3 survival rate is below 0.5"
   ]
  },
  {
   "cell_type": "code",
   "execution_count": 41,
   "metadata": {},
   "outputs": [
    {
     "data": {
      "text/plain": [
       "188    0\n",
       "Name: Survived, dtype: int64"
      ]
     },
     "execution_count": 41,
     "metadata": {},
     "output_type": "execute_result"
    }
   ],
   "source": [
    "df_test.loc[ (df_test.Sex == 'female') & (df_test.SibSp > 7) , 'Survived'] \n"
   ]
  },
  {
   "cell_type": "code",
   "execution_count": 42,
   "metadata": {},
   "outputs": [],
   "source": [
    "# all females with SibSp > 7 died\n",
    "df_test.loc[ (df_test.Sex == 'female') & (df_test.SibSp > 7) , 'Survived'] = 0\n"
   ]
  },
  {
   "cell_type": "code",
   "execution_count": 43,
   "metadata": {},
   "outputs": [
    {
     "data": {
      "image/png": "[encoded data removed]",
      "text/plain": [
       "<Figure size 1080x720 with 6 Axes>"
      ]
     },
     "metadata": {
      "needs_background": "light"
     },
     "output_type": "display_data"
    }
   ],
   "source": [
    "sns.catplot('Parch','Survived', col='Pclass' , row = 'Sex', kind='point', data=df_train);\n"
   ]
  },
  {
   "cell_type": "code",
   "execution_count": 44,
   "metadata": {},
   "outputs": [
    {
     "data": {
      "text/html": [
       "<style  type=\"text/css\" >\n",
       "    #T_6a84b7da_3db4_11ea_98c3_a483e70b5030row0_col0 {\n",
       "            background-color:  #ffff00;\n",
       "            color:  #000000;\n",
       "        }    #T_6a84b7da_3db4_11ea_98c3_a483e70b5030row0_col1 {\n",
       "            background-color:  #ffff00;\n",
       "            color:  #000000;\n",
       "        }    #T_6a84b7da_3db4_11ea_98c3_a483e70b5030row0_col2 {\n",
       "            background-color:  #ffff00;\n",
       "            color:  #000000;\n",
       "        }    #T_6a84b7da_3db4_11ea_98c3_a483e70b5030row0_col3 {\n",
       "            background-color:  #ffff00;\n",
       "            color:  #000000;\n",
       "        }    #T_6a84b7da_3db4_11ea_98c3_a483e70b5030row0_col4 {\n",
       "            background-color:  #ffff00;\n",
       "            color:  #000000;\n",
       "        }    #T_6a84b7da_3db4_11ea_98c3_a483e70b5030row0_col5 {\n",
       "            background-color:  #ffe400;\n",
       "            color:  #000000;\n",
       "        }    #T_6a84b7da_3db4_11ea_98c3_a483e70b5030row0_col6 {\n",
       "            background-color:  #ffff00;\n",
       "            color:  #000000;\n",
       "        }    #T_6a84b7da_3db4_11ea_98c3_a483e70b5030row0_col7 {\n",
       "            background-color:  #ffff00;\n",
       "            color:  #000000;\n",
       "        }    #T_6a84b7da_3db4_11ea_98c3_a483e70b5030row0_col8 {\n",
       "            background-color:  #ffa600;\n",
       "            color:  #000000;\n",
       "        }    #T_6a84b7da_3db4_11ea_98c3_a483e70b5030row0_col9 {\n",
       "            background-color:  #ffff00;\n",
       "            color:  #000000;\n",
       "        }    #T_6a84b7da_3db4_11ea_98c3_a483e70b5030row0_col10 {\n",
       "            background-color:  #ffaa00;\n",
       "            color:  #000000;\n",
       "        }    #T_6a84b7da_3db4_11ea_98c3_a483e70b5030row0_col11 {\n",
       "            background-color:  #ffff00;\n",
       "            color:  #000000;\n",
       "        }    #T_6a84b7da_3db4_11ea_98c3_a483e70b5030row0_col12 {\n",
       "            background-color:  #ff5500;\n",
       "            color:  #000000;\n",
       "        }    #T_6a84b7da_3db4_11ea_98c3_a483e70b5030row0_col13 {\n",
       "            background-color:  #ff6600;\n",
       "            color:  #000000;\n",
       "        }    #T_6a84b7da_3db4_11ea_98c3_a483e70b5030row0_col14 {\n",
       "            background-color:  #ff0000;\n",
       "            color:  #f1f1f1;\n",
       "        }    #T_6a84b7da_3db4_11ea_98c3_a483e70b5030row0_col15 {\n",
       "            background-color:  #ffff00;\n",
       "            color:  #000000;\n",
       "        }    #T_6a84b7da_3db4_11ea_98c3_a483e70b5030row1_col0 {\n",
       "            background-color:  #ff9e00;\n",
       "            color:  #000000;\n",
       "        }    #T_6a84b7da_3db4_11ea_98c3_a483e70b5030row1_col1 {\n",
       "            background-color:  #ffba00;\n",
       "            color:  #000000;\n",
       "        }    #T_6a84b7da_3db4_11ea_98c3_a483e70b5030row1_col2 {\n",
       "            background-color:  #fff400;\n",
       "            color:  #000000;\n",
       "        }    #T_6a84b7da_3db4_11ea_98c3_a483e70b5030row1_col3 {\n",
       "            background-color:  #ff7300;\n",
       "            color:  #000000;\n",
       "        }    #T_6a84b7da_3db4_11ea_98c3_a483e70b5030row1_col4 {\n",
       "            background-color:  #ff7b00;\n",
       "            color:  #000000;\n",
       "        }    #T_6a84b7da_3db4_11ea_98c3_a483e70b5030row1_col5 {\n",
       "            background-color:  #ffea00;\n",
       "            color:  #000000;\n",
       "        }    #T_6a84b7da_3db4_11ea_98c3_a483e70b5030row1_col6 {\n",
       "            background-color:  #ff8600;\n",
       "            color:  #000000;\n",
       "        }    #T_6a84b7da_3db4_11ea_98c3_a483e70b5030row1_col7 {\n",
       "            background-color:  #ff4f00;\n",
       "            color:  #000000;\n",
       "        }    #T_6a84b7da_3db4_11ea_98c3_a483e70b5030row1_col8 {\n",
       "            background-color:  #ffdf00;\n",
       "            color:  #000000;\n",
       "        }    #T_6a84b7da_3db4_11ea_98c3_a483e70b5030row1_col9 {\n",
       "            background-color:  #ff0000;\n",
       "            color:  #f1f1f1;\n",
       "        }    #T_6a84b7da_3db4_11ea_98c3_a483e70b5030row1_col10 {\n",
       "            background-color:  #ffaa00;\n",
       "            color:  #000000;\n",
       "        }    #T_6a84b7da_3db4_11ea_98c3_a483e70b5030row1_col11 {\n",
       "            background-color:  #ffff00;\n",
       "            color:  #000000;\n",
       "        }    #T_6a84b7da_3db4_11ea_98c3_a483e70b5030row1_col12 {\n",
       "            background-color:  #ffff00;\n",
       "            color:  #000000;\n",
       "        }    #T_6a84b7da_3db4_11ea_98c3_a483e70b5030row1_col13 {\n",
       "            background-color:  #ffcc00;\n",
       "            color:  #000000;\n",
       "        }    #T_6a84b7da_3db4_11ea_98c3_a483e70b5030row1_col14 {\n",
       "            background-color:  #ffff00;\n",
       "            color:  #000000;\n",
       "        }    #T_6a84b7da_3db4_11ea_98c3_a483e70b5030row1_col15 {\n",
       "            background-color:  #ffcf00;\n",
       "            color:  #000000;\n",
       "        }    #T_6a84b7da_3db4_11ea_98c3_a483e70b5030row2_col0 {\n",
       "            background-color:  #ff9e00;\n",
       "            color:  #000000;\n",
       "        }    #T_6a84b7da_3db4_11ea_98c3_a483e70b5030row2_col1 {\n",
       "            background-color:  #ff6900;\n",
       "            color:  #000000;\n",
       "        }    #T_6a84b7da_3db4_11ea_98c3_a483e70b5030row2_col2 {\n",
       "            background-color:  #ff5900;\n",
       "            color:  #000000;\n",
       "        }    #T_6a84b7da_3db4_11ea_98c3_a483e70b5030row2_col3 {\n",
       "            background-color:  #ffad00;\n",
       "            color:  #000000;\n",
       "        }    #T_6a84b7da_3db4_11ea_98c3_a483e70b5030row2_col4 {\n",
       "            background-color:  #ffce00;\n",
       "            color:  #000000;\n",
       "        }    #T_6a84b7da_3db4_11ea_98c3_a483e70b5030row2_col5 {\n",
       "            background-color:  #ffb300;\n",
       "            color:  #000000;\n",
       "        }    #T_6a84b7da_3db4_11ea_98c3_a483e70b5030row2_col6 {\n",
       "            background-color:  #fff200;\n",
       "            color:  #000000;\n",
       "        }    #T_6a84b7da_3db4_11ea_98c3_a483e70b5030row2_col7 {\n",
       "            background-color:  #ffcf00;\n",
       "            color:  #000000;\n",
       "        }    #T_6a84b7da_3db4_11ea_98c3_a483e70b5030row2_col8 {\n",
       "            background-color:  #ffb300;\n",
       "            color:  #000000;\n",
       "        }    #T_6a84b7da_3db4_11ea_98c3_a483e70b5030row2_col9 {\n",
       "            background-color:  #ffff00;\n",
       "            color:  #000000;\n",
       "        }    #T_6a84b7da_3db4_11ea_98c3_a483e70b5030row2_col10 {\n",
       "            background-color:  #ffaa00;\n",
       "            color:  #000000;\n",
       "        }    #T_6a84b7da_3db4_11ea_98c3_a483e70b5030row2_col11 {\n",
       "            background-color:  #ff0000;\n",
       "            color:  #f1f1f1;\n",
       "        }    #T_6a84b7da_3db4_11ea_98c3_a483e70b5030row2_col12 {\n",
       "            background-color:  #ffaa00;\n",
       "            color:  #000000;\n",
       "        }    #T_6a84b7da_3db4_11ea_98c3_a483e70b5030row2_col13 {\n",
       "            background-color:  #ffcc00;\n",
       "            color:  #000000;\n",
       "        }    #T_6a84b7da_3db4_11ea_98c3_a483e70b5030row2_col14 {\n",
       "            background-color:  #ffff00;\n",
       "            color:  #000000;\n",
       "        }    #T_6a84b7da_3db4_11ea_98c3_a483e70b5030row2_col15 {\n",
       "            background-color:  #ff8500;\n",
       "            color:  #000000;\n",
       "        }    #T_6a84b7da_3db4_11ea_98c3_a483e70b5030row3_col0 {\n",
       "            background-color:  #ffc800;\n",
       "            color:  #000000;\n",
       "        }    #T_6a84b7da_3db4_11ea_98c3_a483e70b5030row3_col1 {\n",
       "            background-color:  #fffa00;\n",
       "            color:  #000000;\n",
       "        }    #T_6a84b7da_3db4_11ea_98c3_a483e70b5030row3_col2 {\n",
       "            background-color:  #ffff00;\n",
       "            color:  #000000;\n",
       "        }    #T_6a84b7da_3db4_11ea_98c3_a483e70b5030row3_col3 {\n",
       "            background-color:  #ffde00;\n",
       "            color:  #000000;\n",
       "        }    #T_6a84b7da_3db4_11ea_98c3_a483e70b5030row3_col4 {\n",
       "            background-color:  #ffce00;\n",
       "            color:  #000000;\n",
       "        }    #T_6a84b7da_3db4_11ea_98c3_a483e70b5030row3_col5 {\n",
       "            background-color:  #ffff00;\n",
       "            color:  #000000;\n",
       "        }    #T_6a84b7da_3db4_11ea_98c3_a483e70b5030row3_col6 {\n",
       "            background-color:  #ffd700;\n",
       "            color:  #000000;\n",
       "        }    #T_6a84b7da_3db4_11ea_98c3_a483e70b5030row3_col7 {\n",
       "            background-color:  #ffdf00;\n",
       "            color:  #000000;\n",
       "        }    #T_6a84b7da_3db4_11ea_98c3_a483e70b5030row3_col8 {\n",
       "            background-color:  #ffff00;\n",
       "            color:  #000000;\n",
       "        }    #T_6a84b7da_3db4_11ea_98c3_a483e70b5030row3_col9 {\n",
       "            background-color:  #ffff00;\n",
       "            color:  #000000;\n",
       "        }    #T_6a84b7da_3db4_11ea_98c3_a483e70b5030row3_col10 {\n",
       "            background-color:  #ffff00;\n",
       "            color:  #000000;\n",
       "        }    #T_6a84b7da_3db4_11ea_98c3_a483e70b5030row3_col11 {\n",
       "            background-color:  #ffff00;\n",
       "            color:  #000000;\n",
       "        }    #T_6a84b7da_3db4_11ea_98c3_a483e70b5030row3_col12 {\n",
       "            background-color:  #ffff00;\n",
       "            color:  #000000;\n",
       "        }    #T_6a84b7da_3db4_11ea_98c3_a483e70b5030row3_col13 {\n",
       "            background-color:  #ffff00;\n",
       "            color:  #000000;\n",
       "        }    #T_6a84b7da_3db4_11ea_98c3_a483e70b5030row3_col14 {\n",
       "            background-color:  #ffff00;\n",
       "            color:  #000000;\n",
       "        }    #T_6a84b7da_3db4_11ea_98c3_a483e70b5030row3_col15 {\n",
       "            background-color:  #fff700;\n",
       "            color:  #000000;\n",
       "        }    #T_6a84b7da_3db4_11ea_98c3_a483e70b5030row4_col0 {\n",
       "            background-color:  #ff0000;\n",
       "            color:  #f1f1f1;\n",
       "        }    #T_6a84b7da_3db4_11ea_98c3_a483e70b5030row4_col1 {\n",
       "            background-color:  #ff0000;\n",
       "            color:  #f1f1f1;\n",
       "        }    #T_6a84b7da_3db4_11ea_98c3_a483e70b5030row4_col2 {\n",
       "            background-color:  #ff0000;\n",
       "            color:  #f1f1f1;\n",
       "        }    #T_6a84b7da_3db4_11ea_98c3_a483e70b5030row4_col3 {\n",
       "            background-color:  #ff0000;\n",
       "            color:  #f1f1f1;\n",
       "        }    #T_6a84b7da_3db4_11ea_98c3_a483e70b5030row4_col4 {\n",
       "            background-color:  #ff0000;\n",
       "            color:  #f1f1f1;\n",
       "        }    #T_6a84b7da_3db4_11ea_98c3_a483e70b5030row4_col5 {\n",
       "            background-color:  #ff0000;\n",
       "            color:  #f1f1f1;\n",
       "        }    #T_6a84b7da_3db4_11ea_98c3_a483e70b5030row4_col6 {\n",
       "            background-color:  #ff0000;\n",
       "            color:  #f1f1f1;\n",
       "        }    #T_6a84b7da_3db4_11ea_98c3_a483e70b5030row4_col7 {\n",
       "            background-color:  #ff0000;\n",
       "            color:  #f1f1f1;\n",
       "        }    #T_6a84b7da_3db4_11ea_98c3_a483e70b5030row4_col8 {\n",
       "            background-color:  #ff0000;\n",
       "            color:  #f1f1f1;\n",
       "        }    #T_6a84b7da_3db4_11ea_98c3_a483e70b5030row4_col9 {\n",
       "            background-color:  #ff0000;\n",
       "            color:  #f1f1f1;\n",
       "        }    #T_6a84b7da_3db4_11ea_98c3_a483e70b5030row4_col10 {\n",
       "            background-color:  #ff0000;\n",
       "            color:  #f1f1f1;\n",
       "        }    #T_6a84b7da_3db4_11ea_98c3_a483e70b5030row4_col11 {\n",
       "            background-color:  #ff0000;\n",
       "            color:  #f1f1f1;\n",
       "        }    #T_6a84b7da_3db4_11ea_98c3_a483e70b5030row4_col12 {\n",
       "            background-color:  #ff0000;\n",
       "            color:  #f1f1f1;\n",
       "        }    #T_6a84b7da_3db4_11ea_98c3_a483e70b5030row4_col13 {\n",
       "            background-color:  #ff0000;\n",
       "            color:  #f1f1f1;\n",
       "        }    #T_6a84b7da_3db4_11ea_98c3_a483e70b5030row4_col14 {\n",
       "            background-color:  #ff0000;\n",
       "            color:  #f1f1f1;\n",
       "        }    #T_6a84b7da_3db4_11ea_98c3_a483e70b5030row4_col15 {\n",
       "            background-color:  #ff0000;\n",
       "            color:  #f1f1f1;\n",
       "        }</style><table id=\"T_6a84b7da_3db4_11ea_98c3_a483e70b5030\" ><thead>    <tr>        <th class=\"blank\" ></th>        <th class=\"index_name level0\" >Parch</th>        <th class=\"col_heading level0 col0\" colspan=3>0</th>        <th class=\"col_heading level0 col3\" colspan=3>1</th>        <th class=\"col_heading level0 col6\" colspan=3>2</th>        <th class=\"col_heading level0 col9\" colspan=2>3</th>        <th class=\"col_heading level0 col11\" colspan=2>4</th>        <th class=\"col_heading level0 col13\" >5</th>        <th class=\"col_heading level0 col14\" >6</th>        <th class=\"col_heading level0 col15\" >All</th>    </tr>    <tr>        <th class=\"blank\" ></th>        <th class=\"index_name level1\" >Pclass</th>        <th class=\"col_heading level1 col0\" >1</th>        <th class=\"col_heading level1 col1\" >2</th>        <th class=\"col_heading level1 col2\" >3</th>        <th class=\"col_heading level1 col3\" >1</th>        <th class=\"col_heading level1 col4\" >2</th>        <th class=\"col_heading level1 col5\" >3</th>        <th class=\"col_heading level1 col6\" >1</th>        <th class=\"col_heading level1 col7\" >2</th>        <th class=\"col_heading level1 col8\" >3</th>        <th class=\"col_heading level1 col9\" >2</th>        <th class=\"col_heading level1 col10\" >3</th>        <th class=\"col_heading level1 col11\" >1</th>        <th class=\"col_heading level1 col12\" >3</th>        <th class=\"col_heading level1 col13\" >3</th>        <th class=\"col_heading level1 col14\" >3</th>        <th class=\"col_heading level1 col15\" ></th>    </tr>    <tr>        <th class=\"index_name level0\" >Sex</th>        <th class=\"index_name level1\" >Survived</th>        <th class=\"blank\" ></th>        <th class=\"blank\" ></th>        <th class=\"blank\" ></th>        <th class=\"blank\" ></th>        <th class=\"blank\" ></th>        <th class=\"blank\" ></th>        <th class=\"blank\" ></th>        <th class=\"blank\" ></th>        <th class=\"blank\" ></th>        <th class=\"blank\" ></th>        <th class=\"blank\" ></th>        <th class=\"blank\" ></th>        <th class=\"blank\" ></th>        <th class=\"blank\" ></th>        <th class=\"blank\" ></th>        <th class=\"blank\" ></th>    </tr></thead><tbody>\n",
       "                <tr>\n",
       "                        <th id=\"T_6a84b7da_3db4_11ea_98c3_a483e70b5030level0_row0\" class=\"row_heading level0 row0\" rowspan=2>female</th>\n",
       "                        <th id=\"T_6a84b7da_3db4_11ea_98c3_a483e70b5030level1_row0\" class=\"row_heading level1 row0\" >0</th>\n",
       "                        <td id=\"T_6a84b7da_3db4_11ea_98c3_a483e70b5030row0_col0\" class=\"data row0 col0\" >1</td>\n",
       "                        <td id=\"T_6a84b7da_3db4_11ea_98c3_a483e70b5030row0_col1\" class=\"data row0 col1\" >5</td>\n",
       "                        <td id=\"T_6a84b7da_3db4_11ea_98c3_a483e70b5030row0_col2\" class=\"data row0 col2\" >35</td>\n",
       "                        <td id=\"T_6a84b7da_3db4_11ea_98c3_a483e70b5030row0_col3\" class=\"data row0 col3\" >0</td>\n",
       "                        <td id=\"T_6a84b7da_3db4_11ea_98c3_a483e70b5030row0_col4\" class=\"data row0 col4\" >1</td>\n",
       "                        <td id=\"T_6a84b7da_3db4_11ea_98c3_a483e70b5030row0_col5\" class=\"data row0 col5\" >13</td>\n",
       "                        <td id=\"T_6a84b7da_3db4_11ea_98c3_a483e70b5030row0_col6\" class=\"data row0 col6\" >2</td>\n",
       "                        <td id=\"T_6a84b7da_3db4_11ea_98c3_a483e70b5030row0_col7\" class=\"data row0 col7\" >0</td>\n",
       "                        <td id=\"T_6a84b7da_3db4_11ea_98c3_a483e70b5030row0_col8\" class=\"data row0 col8\" >17</td>\n",
       "                        <td id=\"T_6a84b7da_3db4_11ea_98c3_a483e70b5030row0_col9\" class=\"data row0 col9\" >0</td>\n",
       "                        <td id=\"T_6a84b7da_3db4_11ea_98c3_a483e70b5030row0_col10\" class=\"data row0 col10\" >1</td>\n",
       "                        <td id=\"T_6a84b7da_3db4_11ea_98c3_a483e70b5030row0_col11\" class=\"data row0 col11\" >0</td>\n",
       "                        <td id=\"T_6a84b7da_3db4_11ea_98c3_a483e70b5030row0_col12\" class=\"data row0 col12\" >2</td>\n",
       "                        <td id=\"T_6a84b7da_3db4_11ea_98c3_a483e70b5030row0_col13\" class=\"data row0 col13\" >3</td>\n",
       "                        <td id=\"T_6a84b7da_3db4_11ea_98c3_a483e70b5030row0_col14\" class=\"data row0 col14\" >1</td>\n",
       "                        <td id=\"T_6a84b7da_3db4_11ea_98c3_a483e70b5030row0_col15\" class=\"data row0 col15\" >81</td>\n",
       "            </tr>\n",
       "            <tr>\n",
       "                                <th id=\"T_6a84b7da_3db4_11ea_98c3_a483e70b5030level1_row1\" class=\"row_heading level1 row1\" >1</th>\n",
       "                        <td id=\"T_6a84b7da_3db4_11ea_98c3_a483e70b5030row1_col0\" class=\"data row1 col0\" >63</td>\n",
       "                        <td id=\"T_6a84b7da_3db4_11ea_98c3_a483e70b5030row1_col1\" class=\"data row1 col1\" >40</td>\n",
       "                        <td id=\"T_6a84b7da_3db4_11ea_98c3_a483e70b5030row1_col2\" class=\"data row1 col2\" >50</td>\n",
       "                        <td id=\"T_6a84b7da_3db4_11ea_98c3_a483e70b5030row1_col3\" class=\"data row1 col3\" >17</td>\n",
       "                        <td id=\"T_6a84b7da_3db4_11ea_98c3_a483e70b5030row1_col4\" class=\"data row1 col4\" >17</td>\n",
       "                        <td id=\"T_6a84b7da_3db4_11ea_98c3_a483e70b5030row1_col5\" class=\"data row1 col5\" >12</td>\n",
       "                        <td id=\"T_6a84b7da_3db4_11ea_98c3_a483e70b5030row1_col6\" class=\"data row1 col6\" >11</td>\n",
       "                        <td id=\"T_6a84b7da_3db4_11ea_98c3_a483e70b5030row1_col7\" class=\"data row1 col7\" >11</td>\n",
       "                        <td id=\"T_6a84b7da_3db4_11ea_98c3_a483e70b5030row1_col8\" class=\"data row1 col8\" >8</td>\n",
       "                        <td id=\"T_6a84b7da_3db4_11ea_98c3_a483e70b5030row1_col9\" class=\"data row1 col9\" >2</td>\n",
       "                        <td id=\"T_6a84b7da_3db4_11ea_98c3_a483e70b5030row1_col10\" class=\"data row1 col10\" >1</td>\n",
       "                        <td id=\"T_6a84b7da_3db4_11ea_98c3_a483e70b5030row1_col11\" class=\"data row1 col11\" >0</td>\n",
       "                        <td id=\"T_6a84b7da_3db4_11ea_98c3_a483e70b5030row1_col12\" class=\"data row1 col12\" >0</td>\n",
       "                        <td id=\"T_6a84b7da_3db4_11ea_98c3_a483e70b5030row1_col13\" class=\"data row1 col13\" >1</td>\n",
       "                        <td id=\"T_6a84b7da_3db4_11ea_98c3_a483e70b5030row1_col14\" class=\"data row1 col14\" >0</td>\n",
       "                        <td id=\"T_6a84b7da_3db4_11ea_98c3_a483e70b5030row1_col15\" class=\"data row1 col15\" >233</td>\n",
       "            </tr>\n",
       "            <tr>\n",
       "                        <th id=\"T_6a84b7da_3db4_11ea_98c3_a483e70b5030level0_row2\" class=\"row_heading level0 row2\" rowspan=2>male</th>\n",
       "                        <th id=\"T_6a84b7da_3db4_11ea_98c3_a483e70b5030level1_row2\" class=\"row_heading level1 row2\" >0</th>\n",
       "                        <td id=\"T_6a84b7da_3db4_11ea_98c3_a483e70b5030row2_col0\" class=\"data row2 col0\" >63</td>\n",
       "                        <td id=\"T_6a84b7da_3db4_11ea_98c3_a483e70b5030row2_col1\" class=\"data row2 col1\" >81</td>\n",
       "                        <td id=\"T_6a84b7da_3db4_11ea_98c3_a483e70b5030row2_col2\" class=\"data row2 col2\" >260</td>\n",
       "                        <td id=\"T_6a84b7da_3db4_11ea_98c3_a483e70b5030row2_col3\" class=\"data row2 col3\" >10</td>\n",
       "                        <td id=\"T_6a84b7da_3db4_11ea_98c3_a483e70b5030row2_col4\" class=\"data row2 col4\" >7</td>\n",
       "                        <td id=\"T_6a84b7da_3db4_11ea_98c3_a483e70b5030row2_col5\" class=\"data row2 col5\" >22</td>\n",
       "                        <td id=\"T_6a84b7da_3db4_11ea_98c3_a483e70b5030row2_col6\" class=\"data row2 col6\" >3</td>\n",
       "                        <td id=\"T_6a84b7da_3db4_11ea_98c3_a483e70b5030row2_col7\" class=\"data row2 col7\" >3</td>\n",
       "                        <td id=\"T_6a84b7da_3db4_11ea_98c3_a483e70b5030row2_col8\" class=\"data row2 col8\" >15</td>\n",
       "                        <td id=\"T_6a84b7da_3db4_11ea_98c3_a483e70b5030row2_col9\" class=\"data row2 col9\" >0</td>\n",
       "                        <td id=\"T_6a84b7da_3db4_11ea_98c3_a483e70b5030row2_col10\" class=\"data row2 col10\" >1</td>\n",
       "                        <td id=\"T_6a84b7da_3db4_11ea_98c3_a483e70b5030row2_col11\" class=\"data row2 col11\" >1</td>\n",
       "                        <td id=\"T_6a84b7da_3db4_11ea_98c3_a483e70b5030row2_col12\" class=\"data row2 col12\" >1</td>\n",
       "                        <td id=\"T_6a84b7da_3db4_11ea_98c3_a483e70b5030row2_col13\" class=\"data row2 col13\" >1</td>\n",
       "                        <td id=\"T_6a84b7da_3db4_11ea_98c3_a483e70b5030row2_col14\" class=\"data row2 col14\" >0</td>\n",
       "                        <td id=\"T_6a84b7da_3db4_11ea_98c3_a483e70b5030row2_col15\" class=\"data row2 col15\" >468</td>\n",
       "            </tr>\n",
       "            <tr>\n",
       "                                <th id=\"T_6a84b7da_3db4_11ea_98c3_a483e70b5030level1_row3\" class=\"row_heading level1 row3\" >1</th>\n",
       "                        <td id=\"T_6a84b7da_3db4_11ea_98c3_a483e70b5030row3_col0\" class=\"data row3 col0\" >36</td>\n",
       "                        <td id=\"T_6a84b7da_3db4_11ea_98c3_a483e70b5030row3_col1\" class=\"data row3 col1\" >8</td>\n",
       "                        <td id=\"T_6a84b7da_3db4_11ea_98c3_a483e70b5030row3_col2\" class=\"data row3 col2\" >36</td>\n",
       "                        <td id=\"T_6a84b7da_3db4_11ea_98c3_a483e70b5030row3_col3\" class=\"data row3 col3\" >4</td>\n",
       "                        <td id=\"T_6a84b7da_3db4_11ea_98c3_a483e70b5030row3_col4\" class=\"data row3 col4\" >7</td>\n",
       "                        <td id=\"T_6a84b7da_3db4_11ea_98c3_a483e70b5030row3_col5\" class=\"data row3 col5\" >8</td>\n",
       "                        <td id=\"T_6a84b7da_3db4_11ea_98c3_a483e70b5030row3_col6\" class=\"data row3 col6\" >5</td>\n",
       "                        <td id=\"T_6a84b7da_3db4_11ea_98c3_a483e70b5030row3_col7\" class=\"data row3 col7\" >2</td>\n",
       "                        <td id=\"T_6a84b7da_3db4_11ea_98c3_a483e70b5030row3_col8\" class=\"data row3 col8\" >3</td>\n",
       "                        <td id=\"T_6a84b7da_3db4_11ea_98c3_a483e70b5030row3_col9\" class=\"data row3 col9\" >0</td>\n",
       "                        <td id=\"T_6a84b7da_3db4_11ea_98c3_a483e70b5030row3_col10\" class=\"data row3 col10\" >0</td>\n",
       "                        <td id=\"T_6a84b7da_3db4_11ea_98c3_a483e70b5030row3_col11\" class=\"data row3 col11\" >0</td>\n",
       "                        <td id=\"T_6a84b7da_3db4_11ea_98c3_a483e70b5030row3_col12\" class=\"data row3 col12\" >0</td>\n",
       "                        <td id=\"T_6a84b7da_3db4_11ea_98c3_a483e70b5030row3_col13\" class=\"data row3 col13\" >0</td>\n",
       "                        <td id=\"T_6a84b7da_3db4_11ea_98c3_a483e70b5030row3_col14\" class=\"data row3 col14\" >0</td>\n",
       "                        <td id=\"T_6a84b7da_3db4_11ea_98c3_a483e70b5030row3_col15\" class=\"data row3 col15\" >109</td>\n",
       "            </tr>\n",
       "            <tr>\n",
       "                        <th id=\"T_6a84b7da_3db4_11ea_98c3_a483e70b5030level0_row4\" class=\"row_heading level0 row4\" >All</th>\n",
       "                        <th id=\"T_6a84b7da_3db4_11ea_98c3_a483e70b5030level1_row4\" class=\"row_heading level1 row4\" ></th>\n",
       "                        <td id=\"T_6a84b7da_3db4_11ea_98c3_a483e70b5030row4_col0\" class=\"data row4 col0\" >163</td>\n",
       "                        <td id=\"T_6a84b7da_3db4_11ea_98c3_a483e70b5030row4_col1\" class=\"data row4 col1\" >134</td>\n",
       "                        <td id=\"T_6a84b7da_3db4_11ea_98c3_a483e70b5030row4_col2\" class=\"data row4 col2\" >381</td>\n",
       "                        <td id=\"T_6a84b7da_3db4_11ea_98c3_a483e70b5030row4_col3\" class=\"data row4 col3\" >31</td>\n",
       "                        <td id=\"T_6a84b7da_3db4_11ea_98c3_a483e70b5030row4_col4\" class=\"data row4 col4\" >32</td>\n",
       "                        <td id=\"T_6a84b7da_3db4_11ea_98c3_a483e70b5030row4_col5\" class=\"data row4 col5\" >55</td>\n",
       "                        <td id=\"T_6a84b7da_3db4_11ea_98c3_a483e70b5030row4_col6\" class=\"data row4 col6\" >21</td>\n",
       "                        <td id=\"T_6a84b7da_3db4_11ea_98c3_a483e70b5030row4_col7\" class=\"data row4 col7\" >16</td>\n",
       "                        <td id=\"T_6a84b7da_3db4_11ea_98c3_a483e70b5030row4_col8\" class=\"data row4 col8\" >43</td>\n",
       "                        <td id=\"T_6a84b7da_3db4_11ea_98c3_a483e70b5030row4_col9\" class=\"data row4 col9\" >2</td>\n",
       "                        <td id=\"T_6a84b7da_3db4_11ea_98c3_a483e70b5030row4_col10\" class=\"data row4 col10\" >3</td>\n",
       "                        <td id=\"T_6a84b7da_3db4_11ea_98c3_a483e70b5030row4_col11\" class=\"data row4 col11\" >1</td>\n",
       "                        <td id=\"T_6a84b7da_3db4_11ea_98c3_a483e70b5030row4_col12\" class=\"data row4 col12\" >3</td>\n",
       "                        <td id=\"T_6a84b7da_3db4_11ea_98c3_a483e70b5030row4_col13\" class=\"data row4 col13\" >5</td>\n",
       "                        <td id=\"T_6a84b7da_3db4_11ea_98c3_a483e70b5030row4_col14\" class=\"data row4 col14\" >1</td>\n",
       "                        <td id=\"T_6a84b7da_3db4_11ea_98c3_a483e70b5030row4_col15\" class=\"data row4 col15\" >891</td>\n",
       "            </tr>\n",
       "    </tbody></table>"
      ],
      "text/plain": [
       "<pandas.io.formats.style.Styler at 0x1a1b5d0050>"
      ]
     },
     "execution_count": 44,
     "metadata": {},
     "output_type": "execute_result"
    }
   ],
   "source": [
    "pd.crosstab([df_train.Sex, df_train.Survived], [df_train.Parch, df_train.Pclass], margins=True).style.background_gradient(cmap='autumn_r')"
   ]
  },
  {
   "cell_type": "markdown",
   "metadata": {},
   "source": [
    "Very similar to SibSp - 1 , but different values ? For females with Parch = 2 and Pclass = 3 survival rate is below 0.5\n",
    "All females with Parch = 4 and Pclass = 3 died. All females with Parch > 4 died. (For females with Parch = 1 and Pclass = 3 survival rate is below 0.5) For males,all survival rates below 0.5 for any values of Parch, except for Parch = 2 and Pclass = 1."
   ]
  },
  {
   "cell_type": "code",
   "execution_count": null,
   "metadata": {},
   "outputs": [],
   "source": [
    "# survival rate is below 0.5 for females with Parch = 2 and Pclass = 3 \n",
    "#df_test.loc[ (df_test.Sex == 'female') & (df_test.Pclass == 3) & (df_test.Parch == 2), 'Survived'] = 0\n",
    "\n",
    "# All females with Parch = 4 and Pclass = 3 died\n",
    "##df_test.loc[ (df_test.Sex == 'female') & (df_test.Pclass == 3) & (df_test.Parch == 4), 'Survived'] = 0\n",
    "\n",
    "# all females with Parch > 4 died\n",
    "#df_test.loc[ (df_test.Sex == 'female') & (df_test.Parch > 4) , 'Survived'] = 0\n",
    "\n",
    "# For males with Parch = 2 and Pclass = 1 survival rate is above 0.5\n",
    "##df_test.loc[ (df_test.Sex == 'male') & (df_test.Pclass == 1) & (df_test.Parch == 1) , 'Survived'] = 1\n",
    "\n",
    "#df_test.head(20)"
   ]
  },
  {
   "cell_type": "markdown",
   "metadata": {},
   "source": [
    "**Fare: continuous numerical to 12 bins**"
   ]
  },
  {
   "cell_type": "code",
   "execution_count": 45,
   "metadata": {},
   "outputs": [
    {
     "data": {
      "image/png": "[encoded data removed]",
      "text/plain": [
       "<Figure size 432x288 with 1 Axes>"
      ]
     },
     "metadata": {
      "needs_background": "light"
     },
     "output_type": "display_data"
    }
   ],
   "source": [
    "sns.distplot(df_train['Fare']);"
   ]
  },
  {
   "cell_type": "code",
   "execution_count": 46,
   "metadata": {},
   "outputs": [],
   "source": [
    "for df in [df_train, df_test]:\n",
    "    df['Fare_bin']=np.nan\n",
    "    for i in range(12,0,-1):\n",
    "        df.loc[ df['Fare'] <= i*50, 'Fare_bin'] = i"
   ]
  },
  {
   "cell_type": "code",
   "execution_count": 47,
   "metadata": {},
   "outputs": [
    {
     "name": "stdout",
     "output_type": "stream",
     "text": [
      "      Fare  Fare_bin\n",
      "0   7.2500       1.0\n",
      "1  71.2833       2.0\n",
      "2   7.9250       1.0\n",
      "3  53.1000       2.0\n",
      "4   8.0500       1.0\n",
      "5   8.4583       1.0\n",
      "6  51.8625       2.0\n",
      "7  21.0750       1.0\n",
      "8  11.1333       1.0\n",
      "9  30.0708       1.0\n"
     ]
    }
   ],
   "source": [
    "print(df_train[['Fare' , 'Fare_bin']].head(10))"
   ]
  },
  {
   "cell_type": "code",
   "execution_count": 48,
   "metadata": {},
   "outputs": [
    {
     "data": {
      "image/png": "[encoded data removed]",
      "text/plain": [
       "<Figure size 1080x720 with 6 Axes>"
      ]
     },
     "metadata": {
      "needs_background": "light"
     },
     "output_type": "display_data"
    }
   ],
   "source": [
    "sns.catplot('Fare_bin','Survived', col='Pclass' , row = 'Sex', kind='point', data=df_train);"
   ]
  },
  {
   "cell_type": "code",
   "execution_count": 49,
   "metadata": {},
   "outputs": [
    {
     "data": {
      "text/html": [
       "<style  type=\"text/css\" >\n",
       "    #T_74a59446_3db4_11ea_98c3_a483e70b5030row0_col0 {\n",
       "            background-color:  #ffff00;\n",
       "            color:  #000000;\n",
       "        }    #T_74a59446_3db4_11ea_98c3_a483e70b5030row0_col1 {\n",
       "            background-color:  #ffff00;\n",
       "            color:  #000000;\n",
       "        }    #T_74a59446_3db4_11ea_98c3_a483e70b5030row0_col2 {\n",
       "            background-color:  #fff000;\n",
       "            color:  #000000;\n",
       "        }    #T_74a59446_3db4_11ea_98c3_a483e70b5030row0_col3 {\n",
       "            background-color:  #ffff00;\n",
       "            color:  #000000;\n",
       "        }    #T_74a59446_3db4_11ea_98c3_a483e70b5030row0_col4 {\n",
       "            background-color:  #ffff00;\n",
       "            color:  #000000;\n",
       "        }    #T_74a59446_3db4_11ea_98c3_a483e70b5030row0_col5 {\n",
       "            background-color:  #ffc900;\n",
       "            color:  #000000;\n",
       "        }    #T_74a59446_3db4_11ea_98c3_a483e70b5030row0_col6 {\n",
       "            background-color:  #ffff00;\n",
       "            color:  #000000;\n",
       "        }    #T_74a59446_3db4_11ea_98c3_a483e70b5030row0_col7 {\n",
       "            background-color:  #ffdf00;\n",
       "            color:  #000000;\n",
       "        }    #T_74a59446_3db4_11ea_98c3_a483e70b5030row0_col8 {\n",
       "            background-color:  #ffff00;\n",
       "            color:  #000000;\n",
       "        }    #T_74a59446_3db4_11ea_98c3_a483e70b5030row0_col9 {\n",
       "            background-color:  #ffff00;\n",
       "            color:  #000000;\n",
       "        }    #T_74a59446_3db4_11ea_98c3_a483e70b5030row0_col10 {\n",
       "            background-color:  #ffff00;\n",
       "            color:  #000000;\n",
       "        }    #T_74a59446_3db4_11ea_98c3_a483e70b5030row0_col11 {\n",
       "            background-color:  #ffff00;\n",
       "            color:  #000000;\n",
       "        }    #T_74a59446_3db4_11ea_98c3_a483e70b5030row1_col0 {\n",
       "            background-color:  #ffde00;\n",
       "            color:  #000000;\n",
       "        }    #T_74a59446_3db4_11ea_98c3_a483e70b5030row1_col1 {\n",
       "            background-color:  #ffa300;\n",
       "            color:  #000000;\n",
       "        }    #T_74a59446_3db4_11ea_98c3_a483e70b5030row1_col2 {\n",
       "            background-color:  #ffee00;\n",
       "            color:  #000000;\n",
       "        }    #T_74a59446_3db4_11ea_98c3_a483e70b5030row1_col3 {\n",
       "            background-color:  #ff7100;\n",
       "            color:  #000000;\n",
       "        }    #T_74a59446_3db4_11ea_98c3_a483e70b5030row1_col4 {\n",
       "            background-color:  #ffb600;\n",
       "            color:  #000000;\n",
       "        }    #T_74a59446_3db4_11ea_98c3_a483e70b5030row1_col5 {\n",
       "            background-color:  #ffff00;\n",
       "            color:  #000000;\n",
       "        }    #T_74a59446_3db4_11ea_98c3_a483e70b5030row1_col6 {\n",
       "            background-color:  #ff5f00;\n",
       "            color:  #000000;\n",
       "        }    #T_74a59446_3db4_11ea_98c3_a483e70b5030row1_col7 {\n",
       "            background-color:  #ff7f00;\n",
       "            color:  #000000;\n",
       "        }    #T_74a59446_3db4_11ea_98c3_a483e70b5030row1_col8 {\n",
       "            background-color:  #ff5d00;\n",
       "            color:  #000000;\n",
       "        }    #T_74a59446_3db4_11ea_98c3_a483e70b5030row1_col9 {\n",
       "            background-color:  #ff5500;\n",
       "            color:  #000000;\n",
       "        }    #T_74a59446_3db4_11ea_98c3_a483e70b5030row1_col10 {\n",
       "            background-color:  #ffaa00;\n",
       "            color:  #000000;\n",
       "        }    #T_74a59446_3db4_11ea_98c3_a483e70b5030row1_col11 {\n",
       "            background-color:  #ffcf00;\n",
       "            color:  #000000;\n",
       "        }    #T_74a59446_3db4_11ea_98c3_a483e70b5030row2_col0 {\n",
       "            background-color:  #ff7500;\n",
       "            color:  #000000;\n",
       "        }    #T_74a59446_3db4_11ea_98c3_a483e70b5030row2_col1 {\n",
       "            background-color:  #ff8800;\n",
       "            color:  #000000;\n",
       "        }    #T_74a59446_3db4_11ea_98c3_a483e70b5030row2_col2 {\n",
       "            background-color:  #ff6b00;\n",
       "            color:  #000000;\n",
       "        }    #T_74a59446_3db4_11ea_98c3_a483e70b5030row2_col3 {\n",
       "            background-color:  #ffbb00;\n",
       "            color:  #000000;\n",
       "        }    #T_74a59446_3db4_11ea_98c3_a483e70b5030row2_col4 {\n",
       "            background-color:  #ff4900;\n",
       "            color:  #000000;\n",
       "        }    #T_74a59446_3db4_11ea_98c3_a483e70b5030row2_col5 {\n",
       "            background-color:  #ff9200;\n",
       "            color:  #000000;\n",
       "        }    #T_74a59446_3db4_11ea_98c3_a483e70b5030row2_col6 {\n",
       "            background-color:  #ffca00;\n",
       "            color:  #000000;\n",
       "        }    #T_74a59446_3db4_11ea_98c3_a483e70b5030row2_col7 {\n",
       "            background-color:  #ffff00;\n",
       "            color:  #000000;\n",
       "        }    #T_74a59446_3db4_11ea_98c3_a483e70b5030row2_col8 {\n",
       "            background-color:  #ffa200;\n",
       "            color:  #000000;\n",
       "        }    #T_74a59446_3db4_11ea_98c3_a483e70b5030row2_col9 {\n",
       "            background-color:  #ffaa00;\n",
       "            color:  #000000;\n",
       "        }    #T_74a59446_3db4_11ea_98c3_a483e70b5030row2_col10 {\n",
       "            background-color:  #ffff00;\n",
       "            color:  #000000;\n",
       "        }    #T_74a59446_3db4_11ea_98c3_a483e70b5030row2_col11 {\n",
       "            background-color:  #ff8500;\n",
       "            color:  #000000;\n",
       "        }    #T_74a59446_3db4_11ea_98c3_a483e70b5030row3_col0 {\n",
       "            background-color:  #ffb500;\n",
       "            color:  #000000;\n",
       "        }    #T_74a59446_3db4_11ea_98c3_a483e70b5030row3_col1 {\n",
       "            background-color:  #ffef00;\n",
       "            color:  #000000;\n",
       "        }    #T_74a59446_3db4_11ea_98c3_a483e70b5030row3_col2 {\n",
       "            background-color:  #ffff00;\n",
       "            color:  #000000;\n",
       "        }    #T_74a59446_3db4_11ea_98c3_a483e70b5030row3_col3 {\n",
       "            background-color:  #ffd300;\n",
       "            color:  #000000;\n",
       "        }    #T_74a59446_3db4_11ea_98c3_a483e70b5030row3_col4 {\n",
       "            background-color:  #ffff00;\n",
       "            color:  #000000;\n",
       "        }    #T_74a59446_3db4_11ea_98c3_a483e70b5030row3_col5 {\n",
       "            background-color:  #ffa400;\n",
       "            color:  #000000;\n",
       "        }    #T_74a59446_3db4_11ea_98c3_a483e70b5030row3_col6 {\n",
       "            background-color:  #ffd500;\n",
       "            color:  #000000;\n",
       "        }    #T_74a59446_3db4_11ea_98c3_a483e70b5030row3_col7 {\n",
       "            background-color:  #ffff00;\n",
       "            color:  #000000;\n",
       "        }    #T_74a59446_3db4_11ea_98c3_a483e70b5030row3_col8 {\n",
       "            background-color:  #ffff00;\n",
       "            color:  #000000;\n",
       "        }    #T_74a59446_3db4_11ea_98c3_a483e70b5030row3_col9 {\n",
       "            background-color:  #ffff00;\n",
       "            color:  #000000;\n",
       "        }    #T_74a59446_3db4_11ea_98c3_a483e70b5030row3_col10 {\n",
       "            background-color:  #ff5500;\n",
       "            color:  #000000;\n",
       "        }    #T_74a59446_3db4_11ea_98c3_a483e70b5030row3_col11 {\n",
       "            background-color:  #fff700;\n",
       "            color:  #000000;\n",
       "        }    #T_74a59446_3db4_11ea_98c3_a483e70b5030row4_col0 {\n",
       "            background-color:  #ff0000;\n",
       "            color:  #f1f1f1;\n",
       "        }    #T_74a59446_3db4_11ea_98c3_a483e70b5030row4_col1 {\n",
       "            background-color:  #ff0000;\n",
       "            color:  #f1f1f1;\n",
       "        }    #T_74a59446_3db4_11ea_98c3_a483e70b5030row4_col2 {\n",
       "            background-color:  #ff0000;\n",
       "            color:  #f1f1f1;\n",
       "        }    #T_74a59446_3db4_11ea_98c3_a483e70b5030row4_col3 {\n",
       "            background-color:  #ff0000;\n",
       "            color:  #f1f1f1;\n",
       "        }    #T_74a59446_3db4_11ea_98c3_a483e70b5030row4_col4 {\n",
       "            background-color:  #ff0000;\n",
       "            color:  #f1f1f1;\n",
       "        }    #T_74a59446_3db4_11ea_98c3_a483e70b5030row4_col5 {\n",
       "            background-color:  #ff0000;\n",
       "            color:  #f1f1f1;\n",
       "        }    #T_74a59446_3db4_11ea_98c3_a483e70b5030row4_col6 {\n",
       "            background-color:  #ff0000;\n",
       "            color:  #f1f1f1;\n",
       "        }    #T_74a59446_3db4_11ea_98c3_a483e70b5030row4_col7 {\n",
       "            background-color:  #ff0000;\n",
       "            color:  #f1f1f1;\n",
       "        }    #T_74a59446_3db4_11ea_98c3_a483e70b5030row4_col8 {\n",
       "            background-color:  #ff0000;\n",
       "            color:  #f1f1f1;\n",
       "        }    #T_74a59446_3db4_11ea_98c3_a483e70b5030row4_col9 {\n",
       "            background-color:  #ff0000;\n",
       "            color:  #f1f1f1;\n",
       "        }    #T_74a59446_3db4_11ea_98c3_a483e70b5030row4_col10 {\n",
       "            background-color:  #ff0000;\n",
       "            color:  #f1f1f1;\n",
       "        }    #T_74a59446_3db4_11ea_98c3_a483e70b5030row4_col11 {\n",
       "            background-color:  #ff0000;\n",
       "            color:  #f1f1f1;\n",
       "        }</style><table id=\"T_74a59446_3db4_11ea_98c3_a483e70b5030\" ><thead>    <tr>        <th class=\"blank\" ></th>        <th class=\"index_name level0\" >Fare_bin</th>        <th class=\"col_heading level0 col0\" colspan=3>1.0</th>        <th class=\"col_heading level0 col3\" colspan=3>2.0</th>        <th class=\"col_heading level0 col6\" >3.0</th>        <th class=\"col_heading level0 col7\" >4.0</th>        <th class=\"col_heading level0 col8\" >5.0</th>        <th class=\"col_heading level0 col9\" >6.0</th>        <th class=\"col_heading level0 col10\" >11.0</th>        <th class=\"col_heading level0 col11\" >All</th>    </tr>    <tr>        <th class=\"blank\" ></th>        <th class=\"index_name level1\" >Pclass</th>        <th class=\"col_heading level1 col0\" >1</th>        <th class=\"col_heading level1 col1\" >2</th>        <th class=\"col_heading level1 col2\" >3</th>        <th class=\"col_heading level1 col3\" >1</th>        <th class=\"col_heading level1 col4\" >2</th>        <th class=\"col_heading level1 col5\" >3</th>        <th class=\"col_heading level1 col6\" >1</th>        <th class=\"col_heading level1 col7\" >1</th>        <th class=\"col_heading level1 col8\" >1</th>        <th class=\"col_heading level1 col9\" >1</th>        <th class=\"col_heading level1 col10\" >1</th>        <th class=\"col_heading level1 col11\" ></th>    </tr>    <tr>        <th class=\"index_name level0\" >Sex</th>        <th class=\"index_name level1\" >Survived</th>        <th class=\"blank\" ></th>        <th class=\"blank\" ></th>        <th class=\"blank\" ></th>        <th class=\"blank\" ></th>        <th class=\"blank\" ></th>        <th class=\"blank\" ></th>        <th class=\"blank\" ></th>        <th class=\"blank\" ></th>        <th class=\"blank\" ></th>        <th class=\"blank\" ></th>        <th class=\"blank\" ></th>        <th class=\"blank\" ></th>    </tr></thead><tbody>\n",
       "                <tr>\n",
       "                        <th id=\"T_74a59446_3db4_11ea_98c3_a483e70b5030level0_row0\" class=\"row_heading level0 row0\" rowspan=2>female</th>\n",
       "                        <th id=\"T_74a59446_3db4_11ea_98c3_a483e70b5030level1_row0\" class=\"row_heading level1 row0\" >0</th>\n",
       "                        <td id=\"T_74a59446_3db4_11ea_98c3_a483e70b5030row0_col0\" class=\"data row0 col0\" >1</td>\n",
       "                        <td id=\"T_74a59446_3db4_11ea_98c3_a483e70b5030row0_col1\" class=\"data row0 col1\" >6</td>\n",
       "                        <td id=\"T_74a59446_3db4_11ea_98c3_a483e70b5030row0_col2\" class=\"data row0 col2\" >69</td>\n",
       "                        <td id=\"T_74a59446_3db4_11ea_98c3_a483e70b5030row0_col3\" class=\"data row0 col3\" >0</td>\n",
       "                        <td id=\"T_74a59446_3db4_11ea_98c3_a483e70b5030row0_col4\" class=\"data row0 col4\" >0</td>\n",
       "                        <td id=\"T_74a59446_3db4_11ea_98c3_a483e70b5030row0_col5\" class=\"data row0 col5\" >3</td>\n",
       "                        <td id=\"T_74a59446_3db4_11ea_98c3_a483e70b5030row0_col6\" class=\"data row0 col6\" >0</td>\n",
       "                        <td id=\"T_74a59446_3db4_11ea_98c3_a483e70b5030row0_col7\" class=\"data row0 col7\" >2</td>\n",
       "                        <td id=\"T_74a59446_3db4_11ea_98c3_a483e70b5030row0_col8\" class=\"data row0 col8\" >0</td>\n",
       "                        <td id=\"T_74a59446_3db4_11ea_98c3_a483e70b5030row0_col9\" class=\"data row0 col9\" >0</td>\n",
       "                        <td id=\"T_74a59446_3db4_11ea_98c3_a483e70b5030row0_col10\" class=\"data row0 col10\" >0</td>\n",
       "                        <td id=\"T_74a59446_3db4_11ea_98c3_a483e70b5030row0_col11\" class=\"data row0 col11\" >81</td>\n",
       "            </tr>\n",
       "            <tr>\n",
       "                                <th id=\"T_74a59446_3db4_11ea_98c3_a483e70b5030level1_row1\" class=\"row_heading level1 row1\" >1</th>\n",
       "                        <td id=\"T_74a59446_3db4_11ea_98c3_a483e70b5030row1_col0\" class=\"data row1 col0\" >11</td>\n",
       "                        <td id=\"T_74a59446_3db4_11ea_98c3_a483e70b5030row1_col1\" class=\"data row1 col1\" >68</td>\n",
       "                        <td id=\"T_74a59446_3db4_11ea_98c3_a483e70b5030row1_col2\" class=\"data row1 col2\" >72</td>\n",
       "                        <td id=\"T_74a59446_3db4_11ea_98c3_a483e70b5030row1_col3\" class=\"data row1 col3\" >48</td>\n",
       "                        <td id=\"T_74a59446_3db4_11ea_98c3_a483e70b5030row1_col4\" class=\"data row1 col4\" >2</td>\n",
       "                        <td id=\"T_74a59446_3db4_11ea_98c3_a483e70b5030row1_col5\" class=\"data row1 col5\" >0</td>\n",
       "                        <td id=\"T_74a59446_3db4_11ea_98c3_a483e70b5030row1_col6\" class=\"data row1 col6\" >15</td>\n",
       "                        <td id=\"T_74a59446_3db4_11ea_98c3_a483e70b5030row1_col7\" class=\"data row1 col7\" >5</td>\n",
       "                        <td id=\"T_74a59446_3db4_11ea_98c3_a483e70b5030row1_col8\" class=\"data row1 col8\" >7</td>\n",
       "                        <td id=\"T_74a59446_3db4_11ea_98c3_a483e70b5030row1_col9\" class=\"data row1 col9\" >4</td>\n",
       "                        <td id=\"T_74a59446_3db4_11ea_98c3_a483e70b5030row1_col10\" class=\"data row1 col10\" >1</td>\n",
       "                        <td id=\"T_74a59446_3db4_11ea_98c3_a483e70b5030row1_col11\" class=\"data row1 col11\" >233</td>\n",
       "            </tr>\n",
       "            <tr>\n",
       "                        <th id=\"T_74a59446_3db4_11ea_98c3_a483e70b5030level0_row2\" class=\"row_heading level0 row2\" rowspan=2>male</th>\n",
       "                        <th id=\"T_74a59446_3db4_11ea_98c3_a483e70b5030level1_row2\" class=\"row_heading level1 row2\" >0</th>\n",
       "                        <td id=\"T_74a59446_3db4_11ea_98c3_a483e70b5030row2_col0\" class=\"data row2 col0\" >42</td>\n",
       "                        <td id=\"T_74a59446_3db4_11ea_98c3_a483e70b5030row2_col1\" class=\"data row2 col1\" >86</td>\n",
       "                        <td id=\"T_74a59446_3db4_11ea_98c3_a483e70b5030row2_col2\" class=\"data row2 col2\" >294</td>\n",
       "                        <td id=\"T_74a59446_3db4_11ea_98c3_a483e70b5030row2_col3\" class=\"data row2 col3\" >23</td>\n",
       "                        <td id=\"T_74a59446_3db4_11ea_98c3_a483e70b5030row2_col4\" class=\"data row2 col4\" >5</td>\n",
       "                        <td id=\"T_74a59446_3db4_11ea_98c3_a483e70b5030row2_col5\" class=\"data row2 col5\" >6</td>\n",
       "                        <td id=\"T_74a59446_3db4_11ea_98c3_a483e70b5030row2_col6\" class=\"data row2 col6\" >5</td>\n",
       "                        <td id=\"T_74a59446_3db4_11ea_98c3_a483e70b5030row2_col7\" class=\"data row2 col7\" >1</td>\n",
       "                        <td id=\"T_74a59446_3db4_11ea_98c3_a483e70b5030row2_col8\" class=\"data row2 col8\" >4</td>\n",
       "                        <td id=\"T_74a59446_3db4_11ea_98c3_a483e70b5030row2_col9\" class=\"data row2 col9\" >2</td>\n",
       "                        <td id=\"T_74a59446_3db4_11ea_98c3_a483e70b5030row2_col10\" class=\"data row2 col10\" >0</td>\n",
       "                        <td id=\"T_74a59446_3db4_11ea_98c3_a483e70b5030row2_col11\" class=\"data row2 col11\" >468</td>\n",
       "            </tr>\n",
       "            <tr>\n",
       "                                <th id=\"T_74a59446_3db4_11ea_98c3_a483e70b5030level1_row3\" class=\"row_heading level1 row3\" >1</th>\n",
       "                        <td id=\"T_74a59446_3db4_11ea_98c3_a483e70b5030row3_col0\" class=\"data row3 col0\" >23</td>\n",
       "                        <td id=\"T_74a59446_3db4_11ea_98c3_a483e70b5030row3_col1\" class=\"data row3 col1\" >17</td>\n",
       "                        <td id=\"T_74a59446_3db4_11ea_98c3_a483e70b5030row3_col2\" class=\"data row3 col2\" >42</td>\n",
       "                        <td id=\"T_74a59446_3db4_11ea_98c3_a483e70b5030row3_col3\" class=\"data row3 col3\" >15</td>\n",
       "                        <td id=\"T_74a59446_3db4_11ea_98c3_a483e70b5030row3_col4\" class=\"data row3 col4\" >0</td>\n",
       "                        <td id=\"T_74a59446_3db4_11ea_98c3_a483e70b5030row3_col5\" class=\"data row3 col5\" >5</td>\n",
       "                        <td id=\"T_74a59446_3db4_11ea_98c3_a483e70b5030row3_col6\" class=\"data row3 col6\" >4</td>\n",
       "                        <td id=\"T_74a59446_3db4_11ea_98c3_a483e70b5030row3_col7\" class=\"data row3 col7\" >1</td>\n",
       "                        <td id=\"T_74a59446_3db4_11ea_98c3_a483e70b5030row3_col8\" class=\"data row3 col8\" >0</td>\n",
       "                        <td id=\"T_74a59446_3db4_11ea_98c3_a483e70b5030row3_col9\" class=\"data row3 col9\" >0</td>\n",
       "                        <td id=\"T_74a59446_3db4_11ea_98c3_a483e70b5030row3_col10\" class=\"data row3 col10\" >2</td>\n",
       "                        <td id=\"T_74a59446_3db4_11ea_98c3_a483e70b5030row3_col11\" class=\"data row3 col11\" >109</td>\n",
       "            </tr>\n",
       "            <tr>\n",
       "                        <th id=\"T_74a59446_3db4_11ea_98c3_a483e70b5030level0_row4\" class=\"row_heading level0 row4\" >All</th>\n",
       "                        <th id=\"T_74a59446_3db4_11ea_98c3_a483e70b5030level1_row4\" class=\"row_heading level1 row4\" ></th>\n",
       "                        <td id=\"T_74a59446_3db4_11ea_98c3_a483e70b5030row4_col0\" class=\"data row4 col0\" >77</td>\n",
       "                        <td id=\"T_74a59446_3db4_11ea_98c3_a483e70b5030row4_col1\" class=\"data row4 col1\" >177</td>\n",
       "                        <td id=\"T_74a59446_3db4_11ea_98c3_a483e70b5030row4_col2\" class=\"data row4 col2\" >477</td>\n",
       "                        <td id=\"T_74a59446_3db4_11ea_98c3_a483e70b5030row4_col3\" class=\"data row4 col3\" >86</td>\n",
       "                        <td id=\"T_74a59446_3db4_11ea_98c3_a483e70b5030row4_col4\" class=\"data row4 col4\" >7</td>\n",
       "                        <td id=\"T_74a59446_3db4_11ea_98c3_a483e70b5030row4_col5\" class=\"data row4 col5\" >14</td>\n",
       "                        <td id=\"T_74a59446_3db4_11ea_98c3_a483e70b5030row4_col6\" class=\"data row4 col6\" >24</td>\n",
       "                        <td id=\"T_74a59446_3db4_11ea_98c3_a483e70b5030row4_col7\" class=\"data row4 col7\" >9</td>\n",
       "                        <td id=\"T_74a59446_3db4_11ea_98c3_a483e70b5030row4_col8\" class=\"data row4 col8\" >11</td>\n",
       "                        <td id=\"T_74a59446_3db4_11ea_98c3_a483e70b5030row4_col9\" class=\"data row4 col9\" >6</td>\n",
       "                        <td id=\"T_74a59446_3db4_11ea_98c3_a483e70b5030row4_col10\" class=\"data row4 col10\" >3</td>\n",
       "                        <td id=\"T_74a59446_3db4_11ea_98c3_a483e70b5030row4_col11\" class=\"data row4 col11\" >891</td>\n",
       "            </tr>\n",
       "    </tbody></table>"
      ],
      "text/plain": [
       "<pandas.io.formats.style.Styler at 0x1a1a2988d0>"
      ]
     },
     "execution_count": 49,
     "metadata": {},
     "output_type": "execute_result"
    }
   ],
   "source": [
    "pd.crosstab([df_train.Sex, df_train.Survived], [df_train.Fare_bin, df_train.Pclass], margins=True).style.background_gradient(cmap='autumn_r')\n"
   ]
  },
  {
   "cell_type": "code",
   "execution_count": 50,
   "metadata": {},
   "outputs": [],
   "source": [
    "# males in Fare_bin = 11 survived\n",
    "df_test.loc[ (df_test.Sex == 'male') & (df_test.Fare_bin == 11), 'Survived'] = 1"
   ]
  },
  {
   "cell_type": "markdown",
   "metadata": {},
   "source": [
    "## Part 2: Data wrangling\n",
    "\n",
    "building two new dataframes df_train_ml and df_test_ml  \n",
    "these will have only ordinal features and no missing values so they can be used for ML algorithms  \n",
    "converting categorical to numerical by pd.get_dummies  \n",
    "dropping all features that seem to be not useful for prediction  \n",
    "Then use the Standard scaler and apply train/test split"
   ]
  },
  {
   "cell_type": "code",
   "execution_count": 51,
   "metadata": {},
   "outputs": [],
   "source": [
    "df_train_ml = df_train.copy()\n",
    "\n",
    "df_test.drop(['Survived'],axis=1,inplace=True)\n",
    "\n",
    "df_test_ml = df_test.copy()"
   ]
  },
  {
   "cell_type": "markdown",
   "metadata": {},
   "source": [
    "**pandas get_dummies for categorical features**"
   ]
  },
  {
   "cell_type": "code",
   "execution_count": 52,
   "metadata": {},
   "outputs": [],
   "source": [
    "df_train_ml = pd.get_dummies(df_train_ml, columns=['Sex', 'Embarked', 'Pclass'], drop_first=True)\n",
    "df_train_ml.drop(['PassengerId','Name','Ticket', 'Cabin', 'Age_bin', 'Fare_bin'],axis=1,inplace=True)\n",
    "df_train_ml.dropna(inplace=True)"
   ]
  },
  {
   "cell_type": "code",
   "execution_count": 53,
   "metadata": {},
   "outputs": [
    {
     "data": {
      "text/html": [
       "<div>\n",
       "<style scoped>\n",
       "    .dataframe tbody tr th:only-of-type {\n",
       "        vertical-align: middle;\n",
       "    }\n",
       "\n",
       "    .dataframe tbody tr th {\n",
       "        vertical-align: top;\n",
       "    }\n",
       "\n",
       "    .dataframe thead th {\n",
       "        text-align: right;\n",
       "    }\n",
       "</style>\n",
       "<table border=\"1\" class=\"dataframe\">\n",
       "  <thead>\n",
       "    <tr style=\"text-align: right;\">\n",
       "      <th></th>\n",
       "      <th>Survived</th>\n",
       "      <th>Age</th>\n",
       "      <th>SibSp</th>\n",
       "      <th>Parch</th>\n",
       "      <th>Fare</th>\n",
       "      <th>Sex_male</th>\n",
       "      <th>Embarked_Q</th>\n",
       "      <th>Embarked_S</th>\n",
       "      <th>Pclass_2</th>\n",
       "      <th>Pclass_3</th>\n",
       "    </tr>\n",
       "  </thead>\n",
       "  <tbody>\n",
       "    <tr>\n",
       "      <td>0</td>\n",
       "      <td>0</td>\n",
       "      <td>22.0</td>\n",
       "      <td>1</td>\n",
       "      <td>0</td>\n",
       "      <td>7.2500</td>\n",
       "      <td>1</td>\n",
       "      <td>0</td>\n",
       "      <td>1</td>\n",
       "      <td>0</td>\n",
       "      <td>1</td>\n",
       "    </tr>\n",
       "    <tr>\n",
       "      <td>1</td>\n",
       "      <td>1</td>\n",
       "      <td>38.0</td>\n",
       "      <td>1</td>\n",
       "      <td>0</td>\n",
       "      <td>71.2833</td>\n",
       "      <td>0</td>\n",
       "      <td>0</td>\n",
       "      <td>0</td>\n",
       "      <td>0</td>\n",
       "      <td>0</td>\n",
       "    </tr>\n",
       "    <tr>\n",
       "      <td>2</td>\n",
       "      <td>1</td>\n",
       "      <td>26.0</td>\n",
       "      <td>0</td>\n",
       "      <td>0</td>\n",
       "      <td>7.9250</td>\n",
       "      <td>0</td>\n",
       "      <td>0</td>\n",
       "      <td>1</td>\n",
       "      <td>0</td>\n",
       "      <td>1</td>\n",
       "    </tr>\n",
       "    <tr>\n",
       "      <td>3</td>\n",
       "      <td>1</td>\n",
       "      <td>35.0</td>\n",
       "      <td>1</td>\n",
       "      <td>0</td>\n",
       "      <td>53.1000</td>\n",
       "      <td>0</td>\n",
       "      <td>0</td>\n",
       "      <td>1</td>\n",
       "      <td>0</td>\n",
       "      <td>0</td>\n",
       "    </tr>\n",
       "    <tr>\n",
       "      <td>4</td>\n",
       "      <td>0</td>\n",
       "      <td>35.0</td>\n",
       "      <td>0</td>\n",
       "      <td>0</td>\n",
       "      <td>8.0500</td>\n",
       "      <td>1</td>\n",
       "      <td>0</td>\n",
       "      <td>1</td>\n",
       "      <td>0</td>\n",
       "      <td>1</td>\n",
       "    </tr>\n",
       "  </tbody>\n",
       "</table>\n",
       "</div>"
      ],
      "text/plain": [
       "   Survived   Age  SibSp  Parch     Fare  Sex_male  Embarked_Q  Embarked_S  \\\n",
       "0         0  22.0      1      0   7.2500         1           0           1   \n",
       "1         1  38.0      1      0  71.2833         0           0           0   \n",
       "2         1  26.0      0      0   7.9250         0           0           1   \n",
       "3         1  35.0      1      0  53.1000         0           0           1   \n",
       "4         0  35.0      0      0   8.0500         1           0           1   \n",
       "\n",
       "   Pclass_2  Pclass_3  \n",
       "0         0         1  \n",
       "1         0         0  \n",
       "2         0         1  \n",
       "3         0         0  \n",
       "4         0         1  "
      ]
     },
     "execution_count": 53,
     "metadata": {},
     "output_type": "execute_result"
    }
   ],
   "source": [
    "df_train_ml.head()"
   ]
  },
  {
   "cell_type": "code",
   "execution_count": 54,
   "metadata": {},
   "outputs": [],
   "source": [
    "passenger_id = df_test_ml['PassengerId']\n",
    "df_test_ml = pd.get_dummies(df_test_ml, columns=['Sex', 'Embarked', 'Pclass'], drop_first=True)\n",
    "df_test_ml.drop(['PassengerId','Name','Ticket', 'Cabin', 'Age_bin', 'Fare_bin'],axis=1,inplace=True)"
   ]
  },
  {
   "cell_type": "code",
   "execution_count": 55,
   "metadata": {},
   "outputs": [
    {
     "data": {
      "text/html": [
       "<div>\n",
       "<style scoped>\n",
       "    .dataframe tbody tr th:only-of-type {\n",
       "        vertical-align: middle;\n",
       "    }\n",
       "\n",
       "    .dataframe tbody tr th {\n",
       "        vertical-align: top;\n",
       "    }\n",
       "\n",
       "    .dataframe thead th {\n",
       "        text-align: right;\n",
       "    }\n",
       "</style>\n",
       "<table border=\"1\" class=\"dataframe\">\n",
       "  <thead>\n",
       "    <tr style=\"text-align: right;\">\n",
       "      <th></th>\n",
       "      <th>Age</th>\n",
       "      <th>SibSp</th>\n",
       "      <th>Parch</th>\n",
       "      <th>Fare</th>\n",
       "      <th>Sex_male</th>\n",
       "      <th>Embarked_Q</th>\n",
       "      <th>Embarked_S</th>\n",
       "      <th>Pclass_2</th>\n",
       "      <th>Pclass_3</th>\n",
       "    </tr>\n",
       "  </thead>\n",
       "  <tbody>\n",
       "    <tr>\n",
       "      <td>0</td>\n",
       "      <td>34.5</td>\n",
       "      <td>0</td>\n",
       "      <td>0</td>\n",
       "      <td>7.8292</td>\n",
       "      <td>1</td>\n",
       "      <td>1</td>\n",
       "      <td>0</td>\n",
       "      <td>0</td>\n",
       "      <td>1</td>\n",
       "    </tr>\n",
       "    <tr>\n",
       "      <td>1</td>\n",
       "      <td>47.0</td>\n",
       "      <td>1</td>\n",
       "      <td>0</td>\n",
       "      <td>7.0000</td>\n",
       "      <td>0</td>\n",
       "      <td>0</td>\n",
       "      <td>1</td>\n",
       "      <td>0</td>\n",
       "      <td>1</td>\n",
       "    </tr>\n",
       "    <tr>\n",
       "      <td>2</td>\n",
       "      <td>62.0</td>\n",
       "      <td>0</td>\n",
       "      <td>0</td>\n",
       "      <td>9.6875</td>\n",
       "      <td>1</td>\n",
       "      <td>1</td>\n",
       "      <td>0</td>\n",
       "      <td>1</td>\n",
       "      <td>0</td>\n",
       "    </tr>\n",
       "    <tr>\n",
       "      <td>3</td>\n",
       "      <td>27.0</td>\n",
       "      <td>0</td>\n",
       "      <td>0</td>\n",
       "      <td>8.6625</td>\n",
       "      <td>1</td>\n",
       "      <td>0</td>\n",
       "      <td>1</td>\n",
       "      <td>0</td>\n",
       "      <td>1</td>\n",
       "    </tr>\n",
       "    <tr>\n",
       "      <td>4</td>\n",
       "      <td>22.0</td>\n",
       "      <td>1</td>\n",
       "      <td>1</td>\n",
       "      <td>12.2875</td>\n",
       "      <td>0</td>\n",
       "      <td>0</td>\n",
       "      <td>1</td>\n",
       "      <td>0</td>\n",
       "      <td>1</td>\n",
       "    </tr>\n",
       "  </tbody>\n",
       "</table>\n",
       "</div>"
      ],
      "text/plain": [
       "    Age  SibSp  Parch     Fare  Sex_male  Embarked_Q  Embarked_S  Pclass_2  \\\n",
       "0  34.5      0      0   7.8292         1           1           0         0   \n",
       "1  47.0      1      0   7.0000         0           0           1         0   \n",
       "2  62.0      0      0   9.6875         1           1           0         1   \n",
       "3  27.0      0      0   8.6625         1           0           1         0   \n",
       "4  22.0      1      1  12.2875         0           0           1         0   \n",
       "\n",
       "   Pclass_3  \n",
       "0         1  \n",
       "1         1  \n",
       "2         0  \n",
       "3         1  \n",
       "4         1  "
      ]
     },
     "execution_count": 55,
     "metadata": {},
     "output_type": "execute_result"
    }
   ],
   "source": [
    "df_test_ml.head()"
   ]
  },
  {
   "cell_type": "markdown",
   "metadata": {},
   "source": [
    "**Correlation Matrix**"
   ]
  },
  {
   "cell_type": "code",
   "execution_count": 56,
   "metadata": {},
   "outputs": [
    {
     "data": {
      "image/png": "[encoded data removed]",
      "text/plain": [
       "<Figure size 648x432 with 2 Axes>"
      ]
     },
     "metadata": {
      "needs_background": "light"
     },
     "output_type": "display_data"
    }
   ],
   "source": [
    "corr = df_train_ml.corr()\n",
    "\n",
    "f,ax = plt.subplots(figsize=(9,6))\n",
    "sns.heatmap(corr, annot = True, linewidths=1.5 , fmt = '.2f',ax=ax)\n",
    "plt.show()"
   ]
  },
  {
   "cell_type": "markdown",
   "metadata": {},
   "source": [
    "Survived and Fare positively correlated, Survived and Sex_male negatively correlated.\n",
    "Also, Survived and Pclass_3 negatively correlated. SibSp and Parch correlated"
   ]
  },
  {
   "cell_type": "markdown",
   "metadata": {},
   "source": [
    "**sklearn StandardScaler**"
   ]
  },
  {
   "cell_type": "code",
   "execution_count": 57,
   "metadata": {},
   "outputs": [],
   "source": [
    "from sklearn.preprocessing import StandardScaler\n",
    "\n",
    "scaler = StandardScaler()\n",
    "\n",
    "# for df_train_ml\n",
    "scaler.fit(df_train_ml.drop('Survived',axis=1))\n",
    "\n",
    "scaled_features = scaler.transform(df_train_ml.drop('Survived',axis=1))\n",
    "\n",
    "df_train_ml_sc = pd.DataFrame(scaled_features, columns=df_train_ml.columns[:-1])"
   ]
  },
  {
   "cell_type": "code",
   "execution_count": 58,
   "metadata": {},
   "outputs": [
    {
     "data": {
      "text/html": [
       "<div>\n",
       "<style scoped>\n",
       "    .dataframe tbody tr th:only-of-type {\n",
       "        vertical-align: middle;\n",
       "    }\n",
       "\n",
       "    .dataframe tbody tr th {\n",
       "        vertical-align: top;\n",
       "    }\n",
       "\n",
       "    .dataframe thead th {\n",
       "        text-align: right;\n",
       "    }\n",
       "</style>\n",
       "<table border=\"1\" class=\"dataframe\">\n",
       "  <thead>\n",
       "    <tr style=\"text-align: right;\">\n",
       "      <th></th>\n",
       "      <th>Survived</th>\n",
       "      <th>Age</th>\n",
       "      <th>SibSp</th>\n",
       "      <th>Parch</th>\n",
       "      <th>Fare</th>\n",
       "      <th>Sex_male</th>\n",
       "      <th>Embarked_Q</th>\n",
       "      <th>Embarked_S</th>\n",
       "      <th>Pclass_2</th>\n",
       "      <th>Pclass_3</th>\n",
       "    </tr>\n",
       "  </thead>\n",
       "  <tbody>\n",
       "    <tr>\n",
       "      <td>0</td>\n",
       "      <td>0</td>\n",
       "      <td>22.0</td>\n",
       "      <td>1</td>\n",
       "      <td>0</td>\n",
       "      <td>7.2500</td>\n",
       "      <td>1</td>\n",
       "      <td>0</td>\n",
       "      <td>1</td>\n",
       "      <td>0</td>\n",
       "      <td>1</td>\n",
       "    </tr>\n",
       "    <tr>\n",
       "      <td>1</td>\n",
       "      <td>1</td>\n",
       "      <td>38.0</td>\n",
       "      <td>1</td>\n",
       "      <td>0</td>\n",
       "      <td>71.2833</td>\n",
       "      <td>0</td>\n",
       "      <td>0</td>\n",
       "      <td>0</td>\n",
       "      <td>0</td>\n",
       "      <td>0</td>\n",
       "    </tr>\n",
       "    <tr>\n",
       "      <td>2</td>\n",
       "      <td>1</td>\n",
       "      <td>26.0</td>\n",
       "      <td>0</td>\n",
       "      <td>0</td>\n",
       "      <td>7.9250</td>\n",
       "      <td>0</td>\n",
       "      <td>0</td>\n",
       "      <td>1</td>\n",
       "      <td>0</td>\n",
       "      <td>1</td>\n",
       "    </tr>\n",
       "    <tr>\n",
       "      <td>3</td>\n",
       "      <td>1</td>\n",
       "      <td>35.0</td>\n",
       "      <td>1</td>\n",
       "      <td>0</td>\n",
       "      <td>53.1000</td>\n",
       "      <td>0</td>\n",
       "      <td>0</td>\n",
       "      <td>1</td>\n",
       "      <td>0</td>\n",
       "      <td>0</td>\n",
       "    </tr>\n",
       "    <tr>\n",
       "      <td>4</td>\n",
       "      <td>0</td>\n",
       "      <td>35.0</td>\n",
       "      <td>0</td>\n",
       "      <td>0</td>\n",
       "      <td>8.0500</td>\n",
       "      <td>1</td>\n",
       "      <td>0</td>\n",
       "      <td>1</td>\n",
       "      <td>0</td>\n",
       "      <td>1</td>\n",
       "    </tr>\n",
       "  </tbody>\n",
       "</table>\n",
       "</div>"
      ],
      "text/plain": [
       "   Survived   Age  SibSp  Parch     Fare  Sex_male  Embarked_Q  Embarked_S  \\\n",
       "0         0  22.0      1      0   7.2500         1           0           1   \n",
       "1         1  38.0      1      0  71.2833         0           0           0   \n",
       "2         1  26.0      0      0   7.9250         0           0           1   \n",
       "3         1  35.0      1      0  53.1000         0           0           1   \n",
       "4         0  35.0      0      0   8.0500         1           0           1   \n",
       "\n",
       "   Pclass_2  Pclass_3  \n",
       "0         0         1  \n",
       "1         0         0  \n",
       "2         0         1  \n",
       "3         0         0  \n",
       "4         0         1  "
      ]
     },
     "execution_count": 58,
     "metadata": {},
     "output_type": "execute_result"
    }
   ],
   "source": [
    "df_train_ml.head()"
   ]
  },
  {
   "cell_type": "code",
   "execution_count": 59,
   "metadata": {},
   "outputs": [
    {
     "data": {
      "text/html": [
       "<div>\n",
       "<style scoped>\n",
       "    .dataframe tbody tr th:only-of-type {\n",
       "        vertical-align: middle;\n",
       "    }\n",
       "\n",
       "    .dataframe tbody tr th {\n",
       "        vertical-align: top;\n",
       "    }\n",
       "\n",
       "    .dataframe thead th {\n",
       "        text-align: right;\n",
       "    }\n",
       "</style>\n",
       "<table border=\"1\" class=\"dataframe\">\n",
       "  <thead>\n",
       "    <tr style=\"text-align: right;\">\n",
       "      <th></th>\n",
       "      <th>Survived</th>\n",
       "      <th>Age</th>\n",
       "      <th>SibSp</th>\n",
       "      <th>Parch</th>\n",
       "      <th>Fare</th>\n",
       "      <th>Sex_male</th>\n",
       "      <th>Embarked_Q</th>\n",
       "      <th>Embarked_S</th>\n",
       "      <th>Pclass_2</th>\n",
       "    </tr>\n",
       "  </thead>\n",
       "  <tbody>\n",
       "    <tr>\n",
       "      <td>0</td>\n",
       "      <td>-0.530377</td>\n",
       "      <td>0.524570</td>\n",
       "      <td>-0.505895</td>\n",
       "      <td>-0.518978</td>\n",
       "      <td>0.759051</td>\n",
       "      <td>-0.202031</td>\n",
       "      <td>0.537409</td>\n",
       "      <td>-0.565489</td>\n",
       "      <td>1.005618</td>\n",
       "    </tr>\n",
       "    <tr>\n",
       "      <td>1</td>\n",
       "      <td>0.571831</td>\n",
       "      <td>0.524570</td>\n",
       "      <td>-0.505895</td>\n",
       "      <td>0.691897</td>\n",
       "      <td>-1.317434</td>\n",
       "      <td>-0.202031</td>\n",
       "      <td>-1.860779</td>\n",
       "      <td>-0.565489</td>\n",
       "      <td>-0.994413</td>\n",
       "    </tr>\n",
       "    <tr>\n",
       "      <td>2</td>\n",
       "      <td>-0.254825</td>\n",
       "      <td>-0.551703</td>\n",
       "      <td>-0.505895</td>\n",
       "      <td>-0.506214</td>\n",
       "      <td>-1.317434</td>\n",
       "      <td>-0.202031</td>\n",
       "      <td>0.537409</td>\n",
       "      <td>-0.565489</td>\n",
       "      <td>1.005618</td>\n",
       "    </tr>\n",
       "    <tr>\n",
       "      <td>3</td>\n",
       "      <td>0.365167</td>\n",
       "      <td>0.524570</td>\n",
       "      <td>-0.505895</td>\n",
       "      <td>0.348049</td>\n",
       "      <td>-1.317434</td>\n",
       "      <td>-0.202031</td>\n",
       "      <td>0.537409</td>\n",
       "      <td>-0.565489</td>\n",
       "      <td>-0.994413</td>\n",
       "    </tr>\n",
       "    <tr>\n",
       "      <td>4</td>\n",
       "      <td>0.365167</td>\n",
       "      <td>-0.551703</td>\n",
       "      <td>-0.505895</td>\n",
       "      <td>-0.503850</td>\n",
       "      <td>0.759051</td>\n",
       "      <td>-0.202031</td>\n",
       "      <td>0.537409</td>\n",
       "      <td>-0.565489</td>\n",
       "      <td>1.005618</td>\n",
       "    </tr>\n",
       "  </tbody>\n",
       "</table>\n",
       "</div>"
      ],
      "text/plain": [
       "   Survived       Age     SibSp     Parch      Fare  Sex_male  Embarked_Q  \\\n",
       "0 -0.530377  0.524570 -0.505895 -0.518978  0.759051 -0.202031    0.537409   \n",
       "1  0.571831  0.524570 -0.505895  0.691897 -1.317434 -0.202031   -1.860779   \n",
       "2 -0.254825 -0.551703 -0.505895 -0.506214 -1.317434 -0.202031    0.537409   \n",
       "3  0.365167  0.524570 -0.505895  0.348049 -1.317434 -0.202031    0.537409   \n",
       "4  0.365167 -0.551703 -0.505895 -0.503850  0.759051 -0.202031    0.537409   \n",
       "\n",
       "   Embarked_S  Pclass_2  \n",
       "0   -0.565489  1.005618  \n",
       "1   -0.565489 -0.994413  \n",
       "2   -0.565489  1.005618  \n",
       "3   -0.565489 -0.994413  \n",
       "4   -0.565489  1.005618  "
      ]
     },
     "execution_count": 59,
     "metadata": {},
     "output_type": "execute_result"
    }
   ],
   "source": [
    "df_train_ml_sc.head()"
   ]
  },
  {
   "cell_type": "code",
   "execution_count": 60,
   "metadata": {},
   "outputs": [],
   "source": [
    "# for df_test_ml\n",
    "df_test_ml.fillna(df_test_ml.mean(), inplace=True)\n",
    "# scaler.fit(df_test_ml)\n",
    "scaled_features = scaler.transform(df_test_ml)\n",
    "\n",
    "df_test_ml_sc = pd.DataFrame(scaled_features, columns=df_test_ml.columns)\n",
    "\n"
   ]
  },
  {
   "cell_type": "code",
   "execution_count": 61,
   "metadata": {},
   "outputs": [
    {
     "data": {
      "text/html": [
       "<div>\n",
       "<style scoped>\n",
       "    .dataframe tbody tr th:only-of-type {\n",
       "        vertical-align: middle;\n",
       "    }\n",
       "\n",
       "    .dataframe tbody tr th {\n",
       "        vertical-align: top;\n",
       "    }\n",
       "\n",
       "    .dataframe thead th {\n",
       "        text-align: right;\n",
       "    }\n",
       "</style>\n",
       "<table border=\"1\" class=\"dataframe\">\n",
       "  <thead>\n",
       "    <tr style=\"text-align: right;\">\n",
       "      <th></th>\n",
       "      <th>Age</th>\n",
       "      <th>SibSp</th>\n",
       "      <th>Parch</th>\n",
       "      <th>Fare</th>\n",
       "      <th>Sex_male</th>\n",
       "      <th>Embarked_Q</th>\n",
       "      <th>Embarked_S</th>\n",
       "      <th>Pclass_2</th>\n",
       "      <th>Pclass_3</th>\n",
       "    </tr>\n",
       "  </thead>\n",
       "  <tbody>\n",
       "    <tr>\n",
       "      <td>0</td>\n",
       "      <td>34.5</td>\n",
       "      <td>0</td>\n",
       "      <td>0</td>\n",
       "      <td>7.8292</td>\n",
       "      <td>1</td>\n",
       "      <td>1</td>\n",
       "      <td>0</td>\n",
       "      <td>0</td>\n",
       "      <td>1</td>\n",
       "    </tr>\n",
       "    <tr>\n",
       "      <td>1</td>\n",
       "      <td>47.0</td>\n",
       "      <td>1</td>\n",
       "      <td>0</td>\n",
       "      <td>7.0000</td>\n",
       "      <td>0</td>\n",
       "      <td>0</td>\n",
       "      <td>1</td>\n",
       "      <td>0</td>\n",
       "      <td>1</td>\n",
       "    </tr>\n",
       "    <tr>\n",
       "      <td>2</td>\n",
       "      <td>62.0</td>\n",
       "      <td>0</td>\n",
       "      <td>0</td>\n",
       "      <td>9.6875</td>\n",
       "      <td>1</td>\n",
       "      <td>1</td>\n",
       "      <td>0</td>\n",
       "      <td>1</td>\n",
       "      <td>0</td>\n",
       "    </tr>\n",
       "    <tr>\n",
       "      <td>3</td>\n",
       "      <td>27.0</td>\n",
       "      <td>0</td>\n",
       "      <td>0</td>\n",
       "      <td>8.6625</td>\n",
       "      <td>1</td>\n",
       "      <td>0</td>\n",
       "      <td>1</td>\n",
       "      <td>0</td>\n",
       "      <td>1</td>\n",
       "    </tr>\n",
       "    <tr>\n",
       "      <td>4</td>\n",
       "      <td>22.0</td>\n",
       "      <td>1</td>\n",
       "      <td>1</td>\n",
       "      <td>12.2875</td>\n",
       "      <td>0</td>\n",
       "      <td>0</td>\n",
       "      <td>1</td>\n",
       "      <td>0</td>\n",
       "      <td>1</td>\n",
       "    </tr>\n",
       "  </tbody>\n",
       "</table>\n",
       "</div>"
      ],
      "text/plain": [
       "    Age  SibSp  Parch     Fare  Sex_male  Embarked_Q  Embarked_S  Pclass_2  \\\n",
       "0  34.5      0      0   7.8292         1           1           0         0   \n",
       "1  47.0      1      0   7.0000         0           0           1         0   \n",
       "2  62.0      0      0   9.6875         1           1           0         1   \n",
       "3  27.0      0      0   8.6625         1           0           1         0   \n",
       "4  22.0      1      1  12.2875         0           0           1         0   \n",
       "\n",
       "   Pclass_3  \n",
       "0         1  \n",
       "1         1  \n",
       "2         0  \n",
       "3         1  \n",
       "4         1  "
      ]
     },
     "execution_count": 61,
     "metadata": {},
     "output_type": "execute_result"
    }
   ],
   "source": [
    "df_test_ml.head()"
   ]
  },
  {
   "cell_type": "code",
   "execution_count": 62,
   "metadata": {},
   "outputs": [
    {
     "data": {
      "text/html": [
       "<div>\n",
       "<style scoped>\n",
       "    .dataframe tbody tr th:only-of-type {\n",
       "        vertical-align: middle;\n",
       "    }\n",
       "\n",
       "    .dataframe tbody tr th {\n",
       "        vertical-align: top;\n",
       "    }\n",
       "\n",
       "    .dataframe thead th {\n",
       "        text-align: right;\n",
       "    }\n",
       "</style>\n",
       "<table border=\"1\" class=\"dataframe\">\n",
       "  <thead>\n",
       "    <tr style=\"text-align: right;\">\n",
       "      <th></th>\n",
       "      <th>Age</th>\n",
       "      <th>SibSp</th>\n",
       "      <th>Parch</th>\n",
       "      <th>Fare</th>\n",
       "      <th>Sex_male</th>\n",
       "      <th>Embarked_Q</th>\n",
       "      <th>Embarked_S</th>\n",
       "      <th>Pclass_2</th>\n",
       "      <th>Pclass_3</th>\n",
       "    </tr>\n",
       "  </thead>\n",
       "  <tbody>\n",
       "    <tr>\n",
       "      <td>0</td>\n",
       "      <td>0.330723</td>\n",
       "      <td>-0.551703</td>\n",
       "      <td>-0.505895</td>\n",
       "      <td>-0.508025</td>\n",
       "      <td>0.759051</td>\n",
       "      <td>4.949747</td>\n",
       "      <td>-1.860779</td>\n",
       "      <td>-0.565489</td>\n",
       "      <td>1.005618</td>\n",
       "    </tr>\n",
       "    <tr>\n",
       "      <td>1</td>\n",
       "      <td>1.191823</td>\n",
       "      <td>0.524570</td>\n",
       "      <td>-0.505895</td>\n",
       "      <td>-0.523705</td>\n",
       "      <td>-1.317434</td>\n",
       "      <td>-0.202031</td>\n",
       "      <td>0.537409</td>\n",
       "      <td>-0.565489</td>\n",
       "      <td>1.005618</td>\n",
       "    </tr>\n",
       "    <tr>\n",
       "      <td>2</td>\n",
       "      <td>2.225142</td>\n",
       "      <td>-0.551703</td>\n",
       "      <td>-0.505895</td>\n",
       "      <td>-0.472885</td>\n",
       "      <td>0.759051</td>\n",
       "      <td>4.949747</td>\n",
       "      <td>-1.860779</td>\n",
       "      <td>1.768380</td>\n",
       "      <td>-0.994413</td>\n",
       "    </tr>\n",
       "    <tr>\n",
       "      <td>3</td>\n",
       "      <td>-0.185937</td>\n",
       "      <td>-0.551703</td>\n",
       "      <td>-0.505895</td>\n",
       "      <td>-0.492267</td>\n",
       "      <td>0.759051</td>\n",
       "      <td>-0.202031</td>\n",
       "      <td>0.537409</td>\n",
       "      <td>-0.565489</td>\n",
       "      <td>1.005618</td>\n",
       "    </tr>\n",
       "    <tr>\n",
       "      <td>4</td>\n",
       "      <td>-0.530377</td>\n",
       "      <td>0.524570</td>\n",
       "      <td>0.666862</td>\n",
       "      <td>-0.423718</td>\n",
       "      <td>-1.317434</td>\n",
       "      <td>-0.202031</td>\n",
       "      <td>0.537409</td>\n",
       "      <td>-0.565489</td>\n",
       "      <td>1.005618</td>\n",
       "    </tr>\n",
       "  </tbody>\n",
       "</table>\n",
       "</div>"
      ],
      "text/plain": [
       "        Age     SibSp     Parch      Fare  Sex_male  Embarked_Q  Embarked_S  \\\n",
       "0  0.330723 -0.551703 -0.505895 -0.508025  0.759051    4.949747   -1.860779   \n",
       "1  1.191823  0.524570 -0.505895 -0.523705 -1.317434   -0.202031    0.537409   \n",
       "2  2.225142 -0.551703 -0.505895 -0.472885  0.759051    4.949747   -1.860779   \n",
       "3 -0.185937 -0.551703 -0.505895 -0.492267  0.759051   -0.202031    0.537409   \n",
       "4 -0.530377  0.524570  0.666862 -0.423718 -1.317434   -0.202031    0.537409   \n",
       "\n",
       "   Pclass_2  Pclass_3  \n",
       "0 -0.565489  1.005618  \n",
       "1 -0.565489  1.005618  \n",
       "2  1.768380 -0.994413  \n",
       "3 -0.565489  1.005618  \n",
       "4 -0.565489  1.005618  "
      ]
     },
     "execution_count": 62,
     "metadata": {},
     "output_type": "execute_result"
    }
   ],
   "source": [
    "df_test_ml_sc.head()"
   ]
  },
  {
   "cell_type": "markdown",
   "metadata": {},
   "source": [
    "**train_test_split**\n",
    "use 70% of the data for training and 30% for testing"
   ]
  },
  {
   "cell_type": "code",
   "execution_count": 63,
   "metadata": {},
   "outputs": [],
   "source": [
    "from sklearn.model_selection import train_test_split\n",
    "\n",
    "x_train, x_test, y_train, y_test = train_test_split(df_train_ml.drop('Survived',axis=1), df_train_ml['Survived'], test_size=0.30, random_state=101)\n",
    "\n",
    "x_train_sc, x_test_sc, y_train_sc, y_test_sc = train_test_split(df_train_ml_sc, df_train_ml['Survived'], test_size=0.30, random_state=101)"
   ]
  },
  {
   "cell_type": "markdown",
   "metadata": {},
   "source": [
    "**all data for submission**"
   ]
  },
  {
   "cell_type": "code",
   "execution_count": 115,
   "metadata": {},
   "outputs": [],
   "source": [
    "# unscaled\n",
    "x_train_all = df_train_ml.drop('Survived',axis=1)\n",
    "\n",
    "y_train_all = df_train_ml['Survived']\n",
    "\n",
    "x_test_all = df_test_ml\n",
    "\n",
    "df_gender  = pd.read_csv(\"../data set/titanic/gender_submission.csv\")\n",
    "\n",
    "y_test_all = df_gender['Survived']"
   ]
  },
  {
   "cell_type": "code",
   "execution_count": 72,
   "metadata": {},
   "outputs": [
    {
     "data": {
      "text/html": [
       "<div>\n",
       "<style scoped>\n",
       "    .dataframe tbody tr th:only-of-type {\n",
       "        vertical-align: middle;\n",
       "    }\n",
       "\n",
       "    .dataframe tbody tr th {\n",
       "        vertical-align: top;\n",
       "    }\n",
       "\n",
       "    .dataframe thead th {\n",
       "        text-align: right;\n",
       "    }\n",
       "</style>\n",
       "<table border=\"1\" class=\"dataframe\">\n",
       "  <thead>\n",
       "    <tr style=\"text-align: right;\">\n",
       "      <th></th>\n",
       "      <th>Age</th>\n",
       "      <th>SibSp</th>\n",
       "      <th>Parch</th>\n",
       "      <th>Fare</th>\n",
       "      <th>Sex_male</th>\n",
       "      <th>Embarked_Q</th>\n",
       "      <th>Embarked_S</th>\n",
       "      <th>Pclass_2</th>\n",
       "      <th>Pclass_3</th>\n",
       "    </tr>\n",
       "  </thead>\n",
       "  <tbody>\n",
       "    <tr>\n",
       "      <td>0</td>\n",
       "      <td>22.0</td>\n",
       "      <td>1</td>\n",
       "      <td>0</td>\n",
       "      <td>7.2500</td>\n",
       "      <td>1</td>\n",
       "      <td>0</td>\n",
       "      <td>1</td>\n",
       "      <td>0</td>\n",
       "      <td>1</td>\n",
       "    </tr>\n",
       "    <tr>\n",
       "      <td>1</td>\n",
       "      <td>38.0</td>\n",
       "      <td>1</td>\n",
       "      <td>0</td>\n",
       "      <td>71.2833</td>\n",
       "      <td>0</td>\n",
       "      <td>0</td>\n",
       "      <td>0</td>\n",
       "      <td>0</td>\n",
       "      <td>0</td>\n",
       "    </tr>\n",
       "    <tr>\n",
       "      <td>2</td>\n",
       "      <td>26.0</td>\n",
       "      <td>0</td>\n",
       "      <td>0</td>\n",
       "      <td>7.9250</td>\n",
       "      <td>0</td>\n",
       "      <td>0</td>\n",
       "      <td>1</td>\n",
       "      <td>0</td>\n",
       "      <td>1</td>\n",
       "    </tr>\n",
       "    <tr>\n",
       "      <td>3</td>\n",
       "      <td>35.0</td>\n",
       "      <td>1</td>\n",
       "      <td>0</td>\n",
       "      <td>53.1000</td>\n",
       "      <td>0</td>\n",
       "      <td>0</td>\n",
       "      <td>1</td>\n",
       "      <td>0</td>\n",
       "      <td>0</td>\n",
       "    </tr>\n",
       "    <tr>\n",
       "      <td>4</td>\n",
       "      <td>35.0</td>\n",
       "      <td>0</td>\n",
       "      <td>0</td>\n",
       "      <td>8.0500</td>\n",
       "      <td>1</td>\n",
       "      <td>0</td>\n",
       "      <td>1</td>\n",
       "      <td>0</td>\n",
       "      <td>1</td>\n",
       "    </tr>\n",
       "  </tbody>\n",
       "</table>\n",
       "</div>"
      ],
      "text/plain": [
       "    Age  SibSp  Parch     Fare  Sex_male  Embarked_Q  Embarked_S  Pclass_2  \\\n",
       "0  22.0      1      0   7.2500         1           0           1         0   \n",
       "1  38.0      1      0  71.2833         0           0           0         0   \n",
       "2  26.0      0      0   7.9250         0           0           1         0   \n",
       "3  35.0      1      0  53.1000         0           0           1         0   \n",
       "4  35.0      0      0   8.0500         1           0           1         0   \n",
       "\n",
       "   Pclass_3  \n",
       "0         1  \n",
       "1         0  \n",
       "2         1  \n",
       "3         0  \n",
       "4         1  "
      ]
     },
     "execution_count": 72,
     "metadata": {},
     "output_type": "execute_result"
    }
   ],
   "source": [
    "x_train_all.head()"
   ]
  },
  {
   "cell_type": "code",
   "execution_count": 119,
   "metadata": {},
   "outputs": [],
   "source": [
    "# scaled\n",
    "x_train_all_sc = df_train_ml_sc\n",
    "y_train_all_sc = df_train_ml['Survived']\n",
    "x_test_all_sc = df_test_ml_sc\n",
    "y_test_all_sc = y_test_all"
   ]
  },
  {
   "cell_type": "code",
   "execution_count": 118,
   "metadata": {},
   "outputs": [
    {
     "data": {
      "text/html": [
       "<div>\n",
       "<style scoped>\n",
       "    .dataframe tbody tr th:only-of-type {\n",
       "        vertical-align: middle;\n",
       "    }\n",
       "\n",
       "    .dataframe tbody tr th {\n",
       "        vertical-align: top;\n",
       "    }\n",
       "\n",
       "    .dataframe thead th {\n",
       "        text-align: right;\n",
       "    }\n",
       "</style>\n",
       "<table border=\"1\" class=\"dataframe\">\n",
       "  <thead>\n",
       "    <tr style=\"text-align: right;\">\n",
       "      <th></th>\n",
       "      <th>Survived</th>\n",
       "      <th>Age</th>\n",
       "      <th>SibSp</th>\n",
       "      <th>Parch</th>\n",
       "      <th>Fare</th>\n",
       "      <th>Sex_male</th>\n",
       "      <th>Embarked_Q</th>\n",
       "      <th>Embarked_S</th>\n",
       "      <th>Pclass_2</th>\n",
       "    </tr>\n",
       "  </thead>\n",
       "  <tbody>\n",
       "    <tr>\n",
       "      <td>0</td>\n",
       "      <td>-0.530377</td>\n",
       "      <td>0.524570</td>\n",
       "      <td>-0.505895</td>\n",
       "      <td>-0.518978</td>\n",
       "      <td>0.759051</td>\n",
       "      <td>-0.202031</td>\n",
       "      <td>0.537409</td>\n",
       "      <td>-0.565489</td>\n",
       "      <td>1.005618</td>\n",
       "    </tr>\n",
       "    <tr>\n",
       "      <td>1</td>\n",
       "      <td>0.571831</td>\n",
       "      <td>0.524570</td>\n",
       "      <td>-0.505895</td>\n",
       "      <td>0.691897</td>\n",
       "      <td>-1.317434</td>\n",
       "      <td>-0.202031</td>\n",
       "      <td>-1.860779</td>\n",
       "      <td>-0.565489</td>\n",
       "      <td>-0.994413</td>\n",
       "    </tr>\n",
       "    <tr>\n",
       "      <td>2</td>\n",
       "      <td>-0.254825</td>\n",
       "      <td>-0.551703</td>\n",
       "      <td>-0.505895</td>\n",
       "      <td>-0.506214</td>\n",
       "      <td>-1.317434</td>\n",
       "      <td>-0.202031</td>\n",
       "      <td>0.537409</td>\n",
       "      <td>-0.565489</td>\n",
       "      <td>1.005618</td>\n",
       "    </tr>\n",
       "    <tr>\n",
       "      <td>3</td>\n",
       "      <td>0.365167</td>\n",
       "      <td>0.524570</td>\n",
       "      <td>-0.505895</td>\n",
       "      <td>0.348049</td>\n",
       "      <td>-1.317434</td>\n",
       "      <td>-0.202031</td>\n",
       "      <td>0.537409</td>\n",
       "      <td>-0.565489</td>\n",
       "      <td>-0.994413</td>\n",
       "    </tr>\n",
       "    <tr>\n",
       "      <td>4</td>\n",
       "      <td>0.365167</td>\n",
       "      <td>-0.551703</td>\n",
       "      <td>-0.505895</td>\n",
       "      <td>-0.503850</td>\n",
       "      <td>0.759051</td>\n",
       "      <td>-0.202031</td>\n",
       "      <td>0.537409</td>\n",
       "      <td>-0.565489</td>\n",
       "      <td>1.005618</td>\n",
       "    </tr>\n",
       "  </tbody>\n",
       "</table>\n",
       "</div>"
      ],
      "text/plain": [
       "   Survived       Age     SibSp     Parch      Fare  Sex_male  Embarked_Q  \\\n",
       "0 -0.530377  0.524570 -0.505895 -0.518978  0.759051 -0.202031    0.537409   \n",
       "1  0.571831  0.524570 -0.505895  0.691897 -1.317434 -0.202031   -1.860779   \n",
       "2 -0.254825 -0.551703 -0.505895 -0.506214 -1.317434 -0.202031    0.537409   \n",
       "3  0.365167  0.524570 -0.505895  0.348049 -1.317434 -0.202031    0.537409   \n",
       "4  0.365167 -0.551703 -0.505895 -0.503850  0.759051 -0.202031    0.537409   \n",
       "\n",
       "   Embarked_S  Pclass_2  \n",
       "0   -0.565489  1.005618  \n",
       "1   -0.565489 -0.994413  \n",
       "2   -0.565489  1.005618  \n",
       "3   -0.565489 -0.994413  \n",
       "4   -0.565489  1.005618  "
      ]
     },
     "execution_count": 118,
     "metadata": {},
     "output_type": "execute_result"
    }
   ],
   "source": [
    "x_train_all_sc.head()"
   ]
  },
  {
   "cell_type": "markdown",
   "metadata": {},
   "source": [
    "## Part 3: Scikit-learn basic ML algorithms and comparison of model results\n",
    "\n",
    "**Test simple sklearn models and compare by metrics**\n",
    "\n",
    "\n",
    "**We test the following classifiers from scikit-learn:** \n",
    "\n",
    "3.1 [Logistic Regression]\n",
    "\n",
    "3.2 [Gaussian Naive Bayes]\n",
    "\n",
    "3.3 [K nearest neighbors KNN]\n",
    "\n",
    "3.4 [Decision tree classifier]\n",
    "\n",
    "3.5 [Random forest classifier]\n",
    "\n",
    "3.6 [SVM classifier] "
   ]
  },
  {
   "cell_type": "markdown",
   "metadata": {},
   "source": [
    "For comparison of the results we use these metrics:\n",
    "accuracy_score, classification_report, confusion_matrix"
   ]
  },
  {
   "cell_type": "code",
   "execution_count": 68,
   "metadata": {},
   "outputs": [],
   "source": [
    "from sklearn.metrics import accuracy_score, classification_report, confusion_matrix"
   ]
  },
  {
   "cell_type": "markdown",
   "metadata": {},
   "source": [
    "confusion matrix : used to evaluate the quality of the output of a classifier.\n",
    "The diagonal elements represent the number of points for which the predicted label is equal to the true label, while off-diagonal elements are those that are mislabeled by the classifier. The higher the diagonal values of the confusion matrix the better, indicating many correct predictions.\n",
    "(from sklearn documentation, slightly modified)\n",
    "\n",
    "The rows of a confusion matrix correspond to the true (actual) classes and the columns correspond to the predicted classes.\n",
    "So, all together the confusion matrix for a binary classifier consists of 4 values:\n",
    "\n",
    "TN FP\n",
    "FN TP\n",
    "\n",
    "TN: True negatives (prediction: not survived, true: not survived)\n",
    "FP: False positives (prediction: survived, true: not survived)\n",
    "FN: False negatives (prediction: not survived, true: survived)\n",
    "TP: True positives (prediction: survived, true: survived)\n",
    "\n",
    "accuracy score\n",
    "classification accuracy = correct predictions / total predictions = (TP + TN) / (TP + TN + FP + FN)\n",
    "\n",
    "classification_report\n",
    "from https://scikit-learn.org/stable/modules/generated/sklearn.metrics.precision_recall_fscore_support.html :\n",
    "\n",
    "The precision is the ratio tp / (tp + fp) where tp is the number of true positives and fp the number of false positives. The precision is intuitively the ability of the classifier not to label as positive a sample that is negative.\n",
    "\n",
    "The recall is the ratio tp / (tp + fn) where tp is the number of true positives and fn the number of false negatives. The recall is intuitively the ability of the classifier to find all the positive samples.\n",
    "\n",
    "The F-beta score can be interpreted as a weighted harmonic mean of the precision and recall, where an F-beta score reaches its best value at 1 and worst score at 0.\n",
    "\n",
    "The F-beta score weights recall more than precision by a factor of beta. beta == 1.0 means recall and precision are equally important.\n",
    "\n",
    "The support is the number of occurrences of each class in y_true.\n",
    "\n",
    "precision recall f1-score support"
   ]
  },
  {
   "cell_type": "markdown",
   "metadata": {},
   "source": [
    "### 3.1 Logistic Regression"
   ]
  },
  {
   "cell_type": "code",
   "execution_count": 69,
   "metadata": {},
   "outputs": [
    {
     "name": "stdout",
     "output_type": "stream",
     "text": [
      "[[107  16]\n",
      " [ 32  60]]\n",
      "              precision    recall  f1-score   support\n",
      "\n",
      "           0       0.77      0.87      0.82       123\n",
      "           1       0.79      0.65      0.71        92\n",
      "\n",
      "    accuracy                           0.78       215\n",
      "   macro avg       0.78      0.76      0.77       215\n",
      "weighted avg       0.78      0.78      0.77       215\n",
      "\n",
      "0.7767441860465116\n"
     ]
    },
    {
     "name": "stderr",
     "output_type": "stream",
     "text": [
      "/Users/anaconda3/lib/python3.7/site-packages/sklearn/linear_model/logistic.py:432: FutureWarning: Default solver will be changed to 'lbfgs' in 0.22. Specify a solver to silence this warning.\n",
      "  FutureWarning)\n"
     ]
    }
   ],
   "source": [
    "from sklearn.linear_model import LogisticRegression\n",
    "\n",
    "logreg = LogisticRegression()\n",
    "\n",
    "logreg.fit(x_train,y_train)\n",
    "\n",
    "pred_logreg = logreg.predict(x_test)\n",
    "\n",
    "print(confusion_matrix(y_test, pred_logreg))\n",
    "\n",
    "print(classification_report(y_test, pred_logreg))\n",
    "\n",
    "print(accuracy_score(y_test, pred_logreg))"
   ]
  },
  {
   "cell_type": "markdown",
   "metadata": {},
   "source": [
    "**Train again for all data and submit**"
   ]
  },
  {
   "cell_type": "code",
   "execution_count": 121,
   "metadata": {},
   "outputs": [
    {
     "name": "stdout",
     "output_type": "stream",
     "text": [
      "0.7767441860465116\n"
     ]
    },
    {
     "name": "stderr",
     "output_type": "stream",
     "text": [
      "/Users/anaconda3/lib/python3.7/site-packages/sklearn/linear_model/logistic.py:432: FutureWarning: Default solver will be changed to 'lbfgs' in 0.22. Specify a solver to silence this warning.\n",
      "  FutureWarning)\n"
     ]
    }
   ],
   "source": [
    "logreg.fit(x_train_all, y_train_all)\n",
    "pred_all_logreg = logreg.predict(x_test_all)\n",
    "sub_logreg = pd.DataFrame()\n",
    "sub_logreg['PassengerId'] = df_test['PassengerId']\n",
    "sub_logreg['Survived'] = pred_all_logreg\n",
    "\n",
    "print(accuracy_score(y_test, pred_logreg))\n",
    "\n",
    "#sub_logmodel.to_csv('logmodel.csv',index=False)"
   ]
  },
  {
   "cell_type": "markdown",
   "metadata": {},
   "source": [
    "### 3.2 Gaussian Naive Bayes"
   ]
  },
  {
   "cell_type": "code",
   "execution_count": 76,
   "metadata": {},
   "outputs": [
    {
     "name": "stdout",
     "output_type": "stream",
     "text": [
      "[[107  16]\n",
      " [ 36  56]]\n",
      "              precision    recall  f1-score   support\n",
      "\n",
      "           0       0.75      0.87      0.80       123\n",
      "           1       0.78      0.61      0.68        92\n",
      "\n",
      "    accuracy                           0.76       215\n",
      "   macro avg       0.76      0.74      0.74       215\n",
      "weighted avg       0.76      0.76      0.75       215\n",
      "\n",
      "0.7581395348837209\n"
     ]
    }
   ],
   "source": [
    "from sklearn.naive_bayes import GaussianNB\n",
    "\n",
    "gnb=GaussianNB()\n",
    "\n",
    "gnb.fit(x_train,y_train)\n",
    "\n",
    "pred_gnb = gnb.predict(x_test)\n",
    "\n",
    "print(confusion_matrix(y_test, pred_gnb))\n",
    "\n",
    "print(classification_report(y_test, pred_gnb))\n",
    "\n",
    "print(accuracy_score(y_test, pred_gnb))"
   ]
  },
  {
   "cell_type": "markdown",
   "metadata": {},
   "source": [
    "**Train again for all data and submit**"
   ]
  },
  {
   "cell_type": "code",
   "execution_count": 78,
   "metadata": {},
   "outputs": [],
   "source": [
    "gnb.fit(x_train_all, y_train_all)\n",
    "pred_all_logreg = gnb.predict(x_test_all)\n",
    "sub_gnb = pd.DataFrame()\n",
    "sub_gnb['PassengerId'] = df_test['PassengerId']\n",
    "sub_gnb['Survived'] = pred_all_logreg\n",
    "#sub_logmodel.to_csv('logmodel.csv',index=False)"
   ]
  },
  {
   "cell_type": "markdown",
   "metadata": {},
   "source": [
    "### 3.3 KNN - KNeighborsClassifier"
   ]
  },
  {
   "cell_type": "code",
   "execution_count": 80,
   "metadata": {},
   "outputs": [
    {
     "name": "stdout",
     "output_type": "stream",
     "text": [
      "[[71 52]\n",
      " [26 66]]\n",
      "              precision    recall  f1-score   support\n",
      "\n",
      "           0       0.73      0.58      0.65       123\n",
      "           1       0.56      0.72      0.63        92\n",
      "\n",
      "    accuracy                           0.64       215\n",
      "   macro avg       0.65      0.65      0.64       215\n",
      "weighted avg       0.66      0.64      0.64       215\n",
      "\n",
      "0.6372093023255814\n"
     ]
    }
   ],
   "source": [
    "from sklearn.neighbors import KNeighborsClassifier\n",
    "\n",
    "knn = KNeighborsClassifier(n_neighbors=20)\n",
    "\n",
    "knn.fit(x_train_sc,y_train_sc)\n",
    "\n",
    "pred_knn = knn.predict(x_test)\n",
    "\n",
    "print(confusion_matrix(y_test, pred_knn))\n",
    "\n",
    "print(classification_report(y_test, pred_knn))\n",
    "\n",
    "print(accuracy_score(y_test, pred_knn))"
   ]
  },
  {
   "cell_type": "markdown",
   "metadata": {},
   "source": [
    "**Train again for all data and submit**"
   ]
  },
  {
   "cell_type": "code",
   "execution_count": 82,
   "metadata": {},
   "outputs": [],
   "source": [
    "knn.fit(x_train_all, y_train_all)\n",
    "pred_all_knn = knn.predict(x_test_all)\n",
    "sub_knn = pd.DataFrame()\n",
    "sub_knn['PassengerId'] = df_test['PassengerId']\n",
    "sub_knn['Survived'] = pred_all_knn\n",
    "#sub_knn.to_csv('knn.csv',index=False)"
   ]
  },
  {
   "cell_type": "markdown",
   "metadata": {},
   "source": [
    "### 3.4 Decision Tree Classifier"
   ]
  },
  {
   "cell_type": "code",
   "execution_count": 84,
   "metadata": {},
   "outputs": [
    {
     "name": "stdout",
     "output_type": "stream",
     "text": [
      "              precision    recall  f1-score   support\n",
      "\n",
      "           0       0.76      0.84      0.80       123\n",
      "           1       0.75      0.64      0.69        92\n",
      "\n",
      "    accuracy                           0.75       215\n",
      "   macro avg       0.75      0.74      0.74       215\n",
      "weighted avg       0.75      0.75      0.75       215\n",
      "\n",
      "0.7534883720930232\n"
     ]
    }
   ],
   "source": [
    "from sklearn.tree import DecisionTreeClassifier\n",
    "\n",
    "dtree = DecisionTreeClassifier()\n",
    "\n",
    "dtree.fit(x_train,y_train)\n",
    "\n",
    "pred_dtree = dtree.predict(x_test)\n",
    "\n",
    "print(classification_report(y_test,pred_dtree))\n",
    "\n",
    "print(accuracy_score(y_test, pred_dtree))"
   ]
  },
  {
   "cell_type": "code",
   "execution_count": 86,
   "metadata": {},
   "outputs": [
    {
     "name": "stdout",
     "output_type": "stream",
     "text": [
      "              precision    recall  f1-score   support\n",
      "\n",
      "           0       0.76      0.95      0.84       123\n",
      "           1       0.90      0.60      0.72        92\n",
      "\n",
      "    accuracy                           0.80       215\n",
      "   macro avg       0.83      0.77      0.78       215\n",
      "weighted avg       0.82      0.80      0.79       215\n",
      "\n",
      "0.8\n"
     ]
    }
   ],
   "source": [
    "dtree_2 = DecisionTreeClassifier(max_features=7 , max_depth=6,  min_samples_split=8)\n",
    "dtree_2.fit(x_train,y_train)\n",
    "pred_dtree_2 = dtree_2.predict(x_test)\n",
    "print(classification_report(y_test, pred_dtree_2))\n",
    "print(accuracy_score(y_test, pred_dtree_2))"
   ]
  },
  {
   "cell_type": "markdown",
   "metadata": {},
   "source": [
    "**Train again for all data and submit**"
   ]
  },
  {
   "cell_type": "code",
   "execution_count": 87,
   "metadata": {},
   "outputs": [],
   "source": [
    "dtree.fit(x_train_all, y_train_all)\n",
    "pred_all_dtree = dtree.predict(x_test_all)\n",
    "sub_dtree = pd.DataFrame()\n",
    "sub_dtree['PassengerId'] = df_test['PassengerId']\n",
    "sub_dtree['Survived'] = pred_all_dtree"
   ]
  },
  {
   "cell_type": "markdown",
   "metadata": {},
   "source": [
    "## 3.5 Random Forest Classifier"
   ]
  },
  {
   "cell_type": "code",
   "execution_count": 92,
   "metadata": {},
   "outputs": [
    {
     "name": "stdout",
     "output_type": "stream",
     "text": [
      "[[115   8]\n",
      " [ 34  58]]\n",
      "              precision    recall  f1-score   support\n",
      "\n",
      "           0       0.77      0.93      0.85       123\n",
      "           1       0.88      0.63      0.73        92\n",
      "\n",
      "    accuracy                           0.80       215\n",
      "   macro avg       0.83      0.78      0.79       215\n",
      "weighted avg       0.82      0.80      0.80       215\n",
      "\n",
      "0.8046511627906977\n"
     ]
    }
   ],
   "source": [
    "from sklearn.ensemble import RandomForestClassifier\n",
    "\n",
    "rfc = RandomForestClassifier(n_estimators=500,max_depth=6, max_features=7)\n",
    "\n",
    "rfc.fit(x_train, y_train)\n",
    "\n",
    "pred_rfc = rfc.predict(x_test)\n",
    "\n",
    "print(confusion_matrix(y_test, pred_rfc))\n",
    "\n",
    "print(classification_report(y_test, pred_rfc))\n",
    "\n",
    "print(accuracy_score(y_test, pred_rfc))"
   ]
  },
  {
   "cell_type": "markdown",
   "metadata": {},
   "source": [
    "**Train again for all data and submit**"
   ]
  },
  {
   "cell_type": "code",
   "execution_count": 93,
   "metadata": {},
   "outputs": [],
   "source": [
    "rfc.fit(x_train_all, y_train_all)\n",
    "pred_all_rfc = rfc.predict(x_test_all)\n",
    "sub_rfc = pd.DataFrame()\n",
    "sub_rfc['PassengerId'] = df_test['PassengerId']\n",
    "sub_rfc['Survived'] = pred_all_rfc\n",
    "#sub_rfc.to_csv('randforest.csv',index=False)"
   ]
  },
  {
   "cell_type": "markdown",
   "metadata": {},
   "source": [
    "## 3.6 SVM Classifier"
   ]
  },
  {
   "cell_type": "code",
   "execution_count": 94,
   "metadata": {},
   "outputs": [
    {
     "name": "stdout",
     "output_type": "stream",
     "text": [
      "[[116   7]\n",
      " [ 34  58]]\n",
      "              precision    recall  f1-score   support\n",
      "\n",
      "           0       0.77      0.94      0.85       123\n",
      "           1       0.89      0.63      0.74        92\n",
      "\n",
      "    accuracy                           0.81       215\n",
      "   macro avg       0.83      0.79      0.79       215\n",
      "weighted avg       0.82      0.81      0.80       215\n",
      "\n",
      "0.8093023255813954\n"
     ]
    }
   ],
   "source": [
    "from sklearn.svm import SVC\n",
    "\n",
    "svc = SVC(gamma = 0.01, C = 100)#, probability=True)\n",
    "\n",
    "svc.fit(x_train_sc, y_train_sc)\n",
    "\n",
    "pred_svc = svc.predict(x_test_sc)\n",
    "\n",
    "print(confusion_matrix(y_test_sc, pred_svc))\n",
    "\n",
    "print(classification_report(y_test_sc, pred_svc))\n",
    "\n",
    "print(accuracy_score(y_test_sc, pred_svc))"
   ]
  },
  {
   "cell_type": "markdown",
   "metadata": {},
   "source": [
    "**Train again for all data and submit**"
   ]
  },
  {
   "cell_type": "code",
   "execution_count": 95,
   "metadata": {},
   "outputs": [],
   "source": [
    "svc.fit(x_train_all_sc, y_train_all_sc)\n",
    "pred_all_svc = svc.predict(x_test_all_sc)\n",
    "\n",
    "sub_svc = pd.DataFrame()\n",
    "sub_svc['PassengerId'] = df_test['PassengerId']\n",
    "sub_svc['Survived'] = pred_all_svc\n",
    "sub_svc.to_csv('svc.csv',index=False)"
   ]
  },
  {
   "cell_type": "markdown",
   "metadata": {},
   "source": [
    "### k fold cross_validation\n",
    "\n",
    "This algorithm splits the data into k sets and then makes k fits using every set k-1 times as training and one time as test data\n",
    "It leads to a better estimate for out of sample data than simple train test split"
   ]
  },
  {
   "cell_type": "code",
   "execution_count": 96,
   "metadata": {},
   "outputs": [],
   "source": [
    "from sklearn.model_selection import cross_val_score"
   ]
  },
  {
   "cell_type": "markdown",
   "metadata": {},
   "source": [
    "for Logistic Regression"
   ]
  },
  {
   "cell_type": "code",
   "execution_count": 104,
   "metadata": {},
   "outputs": [
    {
     "name": "stdout",
     "output_type": "stream",
     "text": [
      "[0.76388889 0.75       0.79166667 0.84722222 0.73239437 0.78873239\n",
      " 0.78873239 0.78873239 0.81690141 0.83098592]\n",
      "0.7899256651017215\n"
     ]
    },
    {
     "name": "stderr",
     "output_type": "stream",
     "text": [
      "/Users/anaconda3/lib/python3.7/site-packages/sklearn/linear_model/logistic.py:432: FutureWarning: Default solver will be changed to 'lbfgs' in 0.22. Specify a solver to silence this warning.\n",
      "  FutureWarning)\n",
      "/Users/anaconda3/lib/python3.7/site-packages/sklearn/linear_model/logistic.py:432: FutureWarning: Default solver will be changed to 'lbfgs' in 0.22. Specify a solver to silence this warning.\n",
      "  FutureWarning)\n",
      "/Users/anaconda3/lib/python3.7/site-packages/sklearn/linear_model/logistic.py:432: FutureWarning: Default solver will be changed to 'lbfgs' in 0.22. Specify a solver to silence this warning.\n",
      "  FutureWarning)\n",
      "/Users/anaconda3/lib/python3.7/site-packages/sklearn/linear_model/logistic.py:432: FutureWarning: Default solver will be changed to 'lbfgs' in 0.22. Specify a solver to silence this warning.\n",
      "  FutureWarning)\n",
      "/Users/anaconda3/lib/python3.7/site-packages/sklearn/linear_model/logistic.py:432: FutureWarning: Default solver will be changed to 'lbfgs' in 0.22. Specify a solver to silence this warning.\n",
      "  FutureWarning)\n",
      "/Users/anaconda3/lib/python3.7/site-packages/sklearn/linear_model/logistic.py:432: FutureWarning: Default solver will be changed to 'lbfgs' in 0.22. Specify a solver to silence this warning.\n",
      "  FutureWarning)\n",
      "/Users/anaconda3/lib/python3.7/site-packages/sklearn/linear_model/logistic.py:432: FutureWarning: Default solver will be changed to 'lbfgs' in 0.22. Specify a solver to silence this warning.\n",
      "  FutureWarning)\n",
      "/Users/anaconda3/lib/python3.7/site-packages/sklearn/linear_model/logistic.py:432: FutureWarning: Default solver will be changed to 'lbfgs' in 0.22. Specify a solver to silence this warning.\n",
      "  FutureWarning)\n",
      "/Users/anaconda3/lib/python3.7/site-packages/sklearn/linear_model/logistic.py:432: FutureWarning: Default solver will be changed to 'lbfgs' in 0.22. Specify a solver to silence this warning.\n",
      "  FutureWarning)\n",
      "/Users/anaconda3/lib/python3.7/site-packages/sklearn/linear_model/logistic.py:432: FutureWarning: Default solver will be changed to 'lbfgs' in 0.22. Specify a solver to silence this warning.\n",
      "  FutureWarning)\n"
     ]
    }
   ],
   "source": [
    "scores_logreg = cross_val_score(logreg, x_train_all_sc, y_train_all_sc, cv=10, scoring='accuracy')\n",
    "print(scores_logreg)\n",
    "print(scores_logreg.mean())"
   ]
  },
  {
   "cell_type": "markdown",
   "metadata": {},
   "source": [
    "for Naive Bayes"
   ]
  },
  {
   "cell_type": "code",
   "execution_count": 103,
   "metadata": {},
   "outputs": [
    {
     "name": "stdout",
     "output_type": "stream",
     "text": [
      "[0.72222222 0.66666667 0.80555556 0.79166667 0.70422535 0.84507042\n",
      " 0.77464789 0.77464789 0.83098592 0.81690141]\n",
      "0.7732589984350547\n"
     ]
    }
   ],
   "source": [
    "scores_gnb = cross_val_score(gnb, x_train_all_sc, y_train_all_sc, cv=10, scoring='accuracy')\n",
    "print(scores_gnb)\n",
    "print(scores_gnb.mean())"
   ]
  },
  {
   "cell_type": "markdown",
   "metadata": {},
   "source": [
    "for KNN"
   ]
  },
  {
   "cell_type": "code",
   "execution_count": 105,
   "metadata": {},
   "outputs": [
    {
     "name": "stdout",
     "output_type": "stream",
     "text": [
      "[0.75       0.72222222 0.76388889 0.84722222 0.77464789 0.8028169\n",
      " 0.8028169  0.74647887 0.84507042 0.76056338]\n",
      "0.7815727699530517\n"
     ]
    }
   ],
   "source": [
    "scores_knn = cross_val_score(knn, x_train_all_sc, y_train_all_sc, cv=10, scoring='accuracy')\n",
    "print(scores_knn)\n",
    "print(scores_knn.mean())"
   ]
  },
  {
   "cell_type": "markdown",
   "metadata": {},
   "source": [
    "for DecisionTreeClassifier"
   ]
  },
  {
   "cell_type": "code",
   "execution_count": 102,
   "metadata": {},
   "outputs": [
    {
     "name": "stdout",
     "output_type": "stream",
     "text": [
      "[0.69444444 0.77777778 0.75       0.88888889 0.8028169  0.78873239\n",
      " 0.81690141 0.8028169  0.87323944 0.83098592]\n",
      "0.802660406885759\n"
     ]
    }
   ],
   "source": [
    "scores_dtree_2 = cross_val_score(dtree_2, x_train_all_sc, y_train_all_sc, cv=10, scoring='accuracy')\n",
    "print(scores_dtree_2)\n",
    "print(scores_dtree_2.mean())"
   ]
  },
  {
   "cell_type": "markdown",
   "metadata": {},
   "source": [
    "for Random Forest classifier"
   ]
  },
  {
   "cell_type": "code",
   "execution_count": 100,
   "metadata": {},
   "outputs": [
    {
     "name": "stdout",
     "output_type": "stream",
     "text": [
      "[0.75       0.76388889 0.73611111 0.90277778 0.85915493 0.85915493\n",
      " 0.81690141 0.73239437 0.88732394 0.87323944]\n",
      "0.8180946791862285\n"
     ]
    }
   ],
   "source": [
    "scores_rfc = cross_val_score(rfc, x_train_all_sc, y_train_all_sc, cv=10, scoring='accuracy')\n",
    "print(scores_rfc)\n",
    "print(scores_rfc.mean())"
   ]
  },
  {
   "cell_type": "markdown",
   "metadata": {},
   "source": [
    "for SVM classifier"
   ]
  },
  {
   "cell_type": "code",
   "execution_count": 98,
   "metadata": {},
   "outputs": [
    {
     "name": "stdout",
     "output_type": "stream",
     "text": [
      "[0.81944444 0.80555556 0.76388889 0.875      0.81690141 0.8028169\n",
      " 0.8028169  0.73239437 0.88732394 0.84507042]\n",
      "0.8151212832550861\n"
     ]
    }
   ],
   "source": [
    "scores_svc = cross_val_score(svc, x_train_all_sc, y_train_all_sc, cv=10, scoring='accuracy')\n",
    "print(scores_svc)\n",
    "print(scores_svc.mean())"
   ]
  },
  {
   "cell_type": "markdown",
   "metadata": {},
   "source": [
    "**The Classifiers with best performance**"
   ]
  },
  {
   "cell_type": "code",
   "execution_count": 107,
   "metadata": {},
   "outputs": [
    {
     "name": "stdout",
     "output_type": "stream",
     "text": [
      "LR    :  0.7899256651017215\n",
      "NB    :  0.7732589984350547\n",
      "KNN   :  0.7815727699530517\n",
      "dtree :  0.802660406885759\n",
      "rfc   :  0.8180946791862285\n",
      "svc   :  0.8151212832550861\n"
     ]
    }
   ],
   "source": [
    "print(\"LR    : \" , scores_logreg.mean())\n",
    "print(\"NB    : \" , scores_gnb.mean())\n",
    "print(\"KNN   : \" , scores_knn.mean())\n",
    "print(\"dtree : \" , scores_dtree_2.mean())\n",
    "print(\"rfc   : \" , scores_rfc.mean())\n",
    "print(\"svc   : \" , scores_svc.mean())"
   ]
  },
  {
   "cell_type": "code",
   "execution_count": null,
   "metadata": {},
   "outputs": [],
   "source": []
  }
 ],
 "metadata": {
  "kernelspec": {
   "display_name": "Python 3",
   "language": "python",
   "name": "python3"
  },
  "language_info": {
   "codemirror_mode": {
    "name": "ipython",
    "version": 3
   },
   "file_extension": ".py",
   "mimetype": "text/x-python",
   "name": "python",
   "nbconvert_exporter": "python",
   "pygments_lexer": "ipython3",
   "version": "3.7.4"
  }
 },
 "nbformat": 4,
 "nbformat_minor": 2
}
