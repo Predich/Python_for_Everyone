{
 "cells": [
  {
   "cell_type": "code",
   "execution_count": null,
   "metadata": {},
   "outputs": [],
   "source": [
    "print(\"hello title\")"
   ]
  },
  {
   "cell_type": "code",
   "execution_count": 6,
   "metadata": {},
   "outputs": [],
   "source": [
    "x = 1"
   ]
  },
  {
   "cell_type": "code",
   "execution_count": 7,
   "metadata": {},
   "outputs": [],
   "source": [
    "y = 3"
   ]
  },
  {
   "cell_type": "code",
   "execution_count": 8,
   "metadata": {},
   "outputs": [
    {
     "name": "stdout",
     "output_type": "stream",
     "text": [
      "1 3\n"
     ]
    }
   ],
   "source": [
    "print(x,y)"
   ]
  },
  {
   "cell_type": "code",
   "execution_count": 11,
   "metadata": {},
   "outputs": [],
   "source": [
    "id = 620884\n",
    "nm = \"Predich\"\n",
    "fullnm = [620884 , \"Preedicha Jaralpong\"]"
   ]
  },
  {
   "cell_type": "code",
   "execution_count": 12,
   "metadata": {},
   "outputs": [
    {
     "name": "stdout",
     "output_type": "stream",
     "text": [
      "620884 Predich [620884, 'Preedicha Jaralpong']\n"
     ]
    }
   ],
   "source": [
    "print(id , nm, fullnm)"
   ]
  },
  {
   "cell_type": "markdown",
   "metadata": {},
   "source": [
    "----------------------------------------------------------\n",
    "order of operations\n",
    "\n",
    "PEMDAS\n",
    "\n",
    "P = Paranthesis\n",
    "E = Exponent\n",
    "M = Multiply\n",
    "A = Add\n",
    "S = Substract"
   ]
  },
  {
   "cell_type": "code",
   "execution_count": 26,
   "metadata": {},
   "outputs": [
    {
     "name": "stdout",
     "output_type": "stream",
     "text": [
      "Preedich '1234'  \n"
     ]
    }
   ],
   "source": [
    "print(\"Preedich \\'1234\\'  \")"
   ]
  },
  {
   "cell_type": "code",
   "execution_count": 27,
   "metadata": {},
   "outputs": [
    {
     "name": "stdout",
     "output_type": "stream",
     "text": [
      "Preedich \t 1234\n"
     ]
    }
   ],
   "source": [
    "print(\"Preedich \\t 1234\")"
   ]
  },
  {
   "cell_type": "code",
   "execution_count": 28,
   "metadata": {},
   "outputs": [
    {
     "name": "stdout",
     "output_type": "stream",
     "text": [
      "Preedich \n",
      " 1234\n"
     ]
    }
   ],
   "source": [
    "print(\"Preedich \\n 1234\")"
   ]
  },
  {
   "cell_type": "code",
   "execution_count": 36,
   "metadata": {},
   "outputs": [],
   "source": [
    "days = \"Mon Tue Wed Thu Fri Sat Sun\"\n",
    "months = \"\\n Jan \\n Feb \\n Mar \\n Apr \\n May \\n Jun \\n Jul \\n Aug \\n Sep \\n Oct \\n Nov \\n Dec\""
   ]
  },
  {
   "cell_type": "code",
   "execution_count": 37,
   "metadata": {},
   "outputs": [
    {
     "name": "stdout",
     "output_type": "stream",
     "text": [
      "Here are the days:  Mon Tue Wed Thu Fri Sat Sun\n",
      "Hear are the months:  \n",
      " Jan \n",
      " Feb \n",
      " Mar \n",
      " Apr \n",
      " May \n",
      " Jun \n",
      " Jul \n",
      " Aug \n",
      " Sep \n",
      " Oct \n",
      " Nov \n",
      " Dec\n"
     ]
    }
   ],
   "source": [
    "print(\"Here are the days: \" , days)\n",
    "print(\"Hear are the months: \" , months)"
   ]
  },
  {
   "cell_type": "code",
   "execution_count": 38,
   "metadata": {},
   "outputs": [],
   "source": [
    "days_sp = days.split(\" \")"
   ]
  },
  {
   "cell_type": "code",
   "execution_count": 39,
   "metadata": {},
   "outputs": [
    {
     "name": "stdout",
     "output_type": "stream",
     "text": [
      "['Mon', 'Tue', 'Wed', 'Thu', 'Fri', 'Sat', 'Sun']\n"
     ]
    }
   ],
   "source": [
    "print(days_sp)"
   ]
  },
  {
   "cell_type": "code",
   "execution_count": 40,
   "metadata": {},
   "outputs": [
    {
     "data": {
      "text/plain": [
       "'Wed'"
      ]
     },
     "execution_count": 40,
     "metadata": {},
     "output_type": "execute_result"
    }
   ],
   "source": [
    "days_sp[2]"
   ]
  },
  {
   "cell_type": "code",
   "execution_count": 41,
   "metadata": {},
   "outputs": [
    {
     "name": "stdout",
     "output_type": "stream",
     "text": [
      "Fri\n"
     ]
    }
   ],
   "source": [
    "print(days_sp[4])"
   ]
  },
  {
   "cell_type": "code",
   "execution_count": null,
   "metadata": {},
   "outputs": [],
   "source": []
  }
 ],
 "metadata": {
  "kernelspec": {
   "display_name": "Python 3",
   "language": "python",
   "name": "python3"
  },
  "language_info": {
   "codemirror_mode": {
    "name": "ipython",
    "version": 3
   },
   "file_extension": ".py",
   "mimetype": "text/x-python",
   "name": "python",
   "nbconvert_exporter": "python",
   "pygments_lexer": "ipython3",
   "version": "3.7.4"
  }
 },
 "nbformat": 4,
 "nbformat_minor": 2
}
